{
 "cells": [
  {
   "cell_type": "markdown",
   "id": "f8d9593c",
   "metadata": {},
   "source": [
    "# Tipos de datos booleanos"
   ]
  },
  {
   "cell_type": "code",
   "execution_count": 1,
   "id": "aab5215c",
   "metadata": {},
   "outputs": [
    {
     "name": "stdout",
     "output_type": "stream",
     "text": [
      "Tipos de datos booleanos\n",
      "True\n",
      "False\n",
      "2\n",
      "1\n",
      "0\n",
      "0\n",
      "0\n"
     ]
    }
   ],
   "source": [
    "print(\"Tipos de datos booleanos\")\n",
    "print(True)\n",
    "print(False)\n",
    "\n",
    "# Operaciones aritméticas con booleanos\n",
    "print(True + True)\n",
    "print(True * True)\n",
    "print(True * False)\n",
    "print(False + False)\n",
    "print(False * False)\n"
   ]
  },
  {
   "cell_type": "markdown",
   "id": "3537b10b",
   "metadata": {},
   "source": [
    "# Números y booleanos\n"
   ]
  },
  {
   "cell_type": "code",
   "execution_count": 2,
   "id": "bea6d366",
   "metadata": {},
   "outputs": [
    {
     "name": "stdout",
     "output_type": "stream",
     "text": [
      "Números y booleanos\n",
      "11\n",
      "10\n",
      "10\n",
      "0\n"
     ]
    }
   ],
   "source": [
    "print(\"Números y booleanos\")\n",
    "print(10 + True)\n",
    "print(10 + False)\n",
    "print(10 * True)\n",
    "print(10 * False)\n"
   ]
  },
  {
   "cell_type": "markdown",
   "id": "8812b126",
   "metadata": {},
   "source": [
    "# Declarar variables booleanas\n"
   ]
  },
  {
   "cell_type": "code",
   "execution_count": 3,
   "id": "905f1d99",
   "metadata": {},
   "outputs": [
    {
     "name": "stdout",
     "output_type": "stream",
     "text": [
      "Declarar variables booleanas\n",
      "True\n",
      "<class 'bool'>\n",
      "False\n",
      "<class 'bool'>\n"
     ]
    }
   ],
   "source": [
    "print(\"Declarar variables booleanas\")\n",
    "var_booleana = True\n",
    "print(var_booleana)\n",
    "print(type(var_booleana))\n",
    "var_booleana = False\n",
    "print(var_booleana)\n",
    "print(type(var_booleana))\n"
   ]
  },
  {
   "cell_type": "markdown",
   "id": "0190f470",
   "metadata": {},
   "source": [
    "# Declarar mediante función bool()\n"
   ]
  },
  {
   "cell_type": "code",
   "execution_count": 4,
   "id": "84cfcd20",
   "metadata": {},
   "outputs": [
    {
     "name": "stdout",
     "output_type": "stream",
     "text": [
      "Declarar mediante función bool()\n",
      "True\n",
      "<class 'bool'>\n",
      "False\n",
      "<class 'bool'>\n",
      "True\n",
      "<class 'bool'>\n"
     ]
    }
   ],
   "source": [
    "print(\"Declarar mediante función bool()\")\n",
    "var_booleana = bool(1)\n",
    "print(var_booleana)\n",
    "print(type(var_booleana))\n",
    "var_booleana = bool(0)\n",
    "print(var_booleana)\n",
    "print(type(var_booleana))\n",
    "var_booleana = bool(15)\n",
    "print(var_booleana)\n",
    "print(type(var_booleana))\n"
   ]
  },
  {
   "cell_type": "markdown",
   "id": "f64452dd",
   "metadata": {},
   "source": [
    "# Operadores de comparación\n"
   ]
  },
  {
   "cell_type": "code",
   "execution_count": 5,
   "id": "97793532",
   "metadata": {},
   "outputs": [
    {
     "name": "stdout",
     "output_type": "stream",
     "text": [
      "Operadores de comparación\n",
      "True\n",
      "False\n",
      "False\n",
      "False\n",
      "True\n",
      "True\n",
      "True\n",
      "False\n"
     ]
    },
    {
     "name": "stderr",
     "output_type": "stream",
     "text": [
      "<>:8: SyntaxWarning: \"is\" with 'int' literal. Did you mean \"==\"?\n",
      "<>:9: SyntaxWarning: \"is not\" with 'int' literal. Did you mean \"!=\"?\n",
      "<>:8: SyntaxWarning: \"is\" with 'int' literal. Did you mean \"==\"?\n",
      "<>:9: SyntaxWarning: \"is not\" with 'int' literal. Did you mean \"!=\"?\n",
      "C:\\Users\\IsraelQ\\AppData\\Local\\Temp\\ipykernel_6104\\1987247507.py:8: SyntaxWarning: \"is\" with 'int' literal. Did you mean \"==\"?\n",
      "  print(10 is 10)\n",
      "C:\\Users\\IsraelQ\\AppData\\Local\\Temp\\ipykernel_6104\\1987247507.py:9: SyntaxWarning: \"is not\" with 'int' literal. Did you mean \"!=\"?\n",
      "  print(10 is not 10)\n"
     ]
    }
   ],
   "source": [
    "print(\"Operadores de comparación\")\n",
    "print(10 == 10)\n",
    "print(10 != 10)\n",
    "print(10 < 10)\n",
    "print(10 > 10)\n",
    "print(10 <= 10)\n",
    "print(10 >= 10)\n",
    "print(10 is 10)\n",
    "print(10 is not 10)\n"
   ]
  },
  {
   "cell_type": "markdown",
   "id": "a4950f3d",
   "metadata": {},
   "source": [
    "# Asignación de variables\n",
    "\n"
   ]
  },
  {
   "cell_type": "code",
   "execution_count": 6,
   "id": "51264e06",
   "metadata": {},
   "outputs": [
    {
     "name": "stdout",
     "output_type": "stream",
     "text": [
      "Asignación de variables\n",
      "True\n",
      "False\n"
     ]
    }
   ],
   "source": [
    "print(\"Asignación de variables\")\n",
    "x = 10\n",
    "mayor_que_cero = x > 0\n",
    "print(mayor_que_cero)\n",
    "diferente_de_10 = x != 10\n",
    "print(diferente_de_10)\n"
   ]
  },
  {
   "cell_type": "markdown",
   "id": "c55384ed",
   "metadata": {},
   "source": [
    "# Operadores lógicos\n"
   ]
  },
  {
   "cell_type": "code",
   "execution_count": 7,
   "id": "934e01a6",
   "metadata": {},
   "outputs": [
    {
     "name": "stdout",
     "output_type": "stream",
     "text": [
      "Operadores lógicos\n",
      "True\n",
      "False\n",
      "True\n",
      "False\n",
      "False\n",
      "True\n"
     ]
    }
   ],
   "source": [
    "print(\"Operadores lógicos\")\n",
    "print(True and True)\n",
    "print(True and False)\n",
    "print(False or True)\n",
    "print(False or False)\n",
    "print(not True)\n",
    "print(not False)\n"
   ]
  },
  {
   "cell_type": "markdown",
   "id": "26de42fb",
   "metadata": {},
   "source": [
    "# Operadores lógicos y prioridad\n"
   ]
  },
  {
   "cell_type": "code",
   "execution_count": 8,
   "id": "1a0c57cb",
   "metadata": {},
   "outputs": [
    {
     "name": "stdout",
     "output_type": "stream",
     "text": [
      "Operadores lógicos y prioridad\n",
      "True\n",
      "False\n",
      "True\n",
      "True\n",
      "False\n",
      "False\n"
     ]
    }
   ],
   "source": [
    "print(\"Operadores lógicos y prioridad\")\n",
    "print(False and False or True)\n",
    "print(False and (False or True))\n",
    "print(not True and False or True)\n",
    "print(not (True and False or False))\n",
    "print(not True and (False or False))\n",
    "print(not True and False or False)\n"
   ]
  },
  {
   "cell_type": "markdown",
   "id": "5391c05c",
   "metadata": {},
   "source": [
    "# Operador AND"
   ]
  },
  {
   "cell_type": "code",
   "execution_count": 9,
   "id": "f8331a49",
   "metadata": {},
   "outputs": [
    {
     "name": "stdout",
     "output_type": "stream",
     "text": [
      "Operador AND\n",
      "True\n",
      "False\n",
      "False\n",
      "False\n"
     ]
    }
   ],
   "source": [
    "print(\"Operador AND\")\n",
    "print(True and True)\n",
    "print(True and False)\n",
    "print(False and True)\n",
    "print(False and False)\n"
   ]
  },
  {
   "cell_type": "markdown",
   "id": "72c9bd90",
   "metadata": {},
   "source": [
    "# Operador OR\n"
   ]
  },
  {
   "cell_type": "code",
   "execution_count": 10,
   "id": "655167aa",
   "metadata": {},
   "outputs": [
    {
     "name": "stdout",
     "output_type": "stream",
     "text": [
      "Operador OR\n",
      "True\n",
      "True\n",
      "True\n",
      "False\n"
     ]
    }
   ],
   "source": [
    "print(\"Operador OR\")\n",
    "print(True or True)\n",
    "print(True or False)\n",
    "print(False or True)\n",
    "print(False or False)\n"
   ]
  },
  {
   "cell_type": "markdown",
   "id": "10c67c79",
   "metadata": {},
   "source": [
    "# Operador NOT\n"
   ]
  },
  {
   "cell_type": "code",
   "execution_count": 11,
   "id": "83f3e39c",
   "metadata": {},
   "outputs": [
    {
     "name": "stdout",
     "output_type": "stream",
     "text": [
      "Operador NOT\n",
      "False\n",
      "True\n"
     ]
    }
   ],
   "source": [
    "print(\"Operador NOT\")\n",
    "print(not True)\n",
    "print(not False)\n"
   ]
  },
  {
   "cell_type": "markdown",
   "id": "688500ac",
   "metadata": {},
   "source": [
    "# Operador NAND\n"
   ]
  },
  {
   "cell_type": "code",
   "execution_count": 12,
   "id": "789ec694",
   "metadata": {},
   "outputs": [
    {
     "name": "stdout",
     "output_type": "stream",
     "text": [
      "Operador NAND\n",
      "False\n",
      "True\n",
      "True\n",
      "True\n"
     ]
    }
   ],
   "source": [
    "print(\"Operador NAND\")\n",
    "print(not (True and True))\n",
    "print(not (True and False))\n",
    "print(not (False and True))\n",
    "print(not (False and False))\n"
   ]
  },
  {
   "cell_type": "markdown",
   "id": "882af417",
   "metadata": {},
   "source": [
    "# Operador NOR\n"
   ]
  },
  {
   "cell_type": "code",
   "execution_count": 13,
   "id": "9b94dc7f",
   "metadata": {},
   "outputs": [
    {
     "name": "stdout",
     "output_type": "stream",
     "text": [
      "Operador NOR\n",
      "False\n",
      "False\n",
      "False\n",
      "True\n"
     ]
    }
   ],
   "source": [
    "print(\"Operador NOR\")\n",
    "print(not (True or True))\n",
    "print(not (True or False))\n",
    "print(not (False or True))\n",
    "print(not (False or False))\n"
   ]
  },
  {
   "cell_type": "markdown",
   "id": "76e140dd",
   "metadata": {},
   "source": [
    "# Operador XOR\n"
   ]
  },
  {
   "cell_type": "code",
   "execution_count": 14,
   "id": "2c59ce99",
   "metadata": {},
   "outputs": [
    {
     "name": "stdout",
     "output_type": "stream",
     "text": [
      "Operador XOR\n",
      "True\n",
      "False\n"
     ]
    }
   ],
   "source": [
    "print(\"Operador XOR\")\n",
    "a = True\n",
    "b = False\n",
    "print((a or b) and not (a and b))\n",
    "a = True\n",
    "b = True\n",
    "print((a or b) and not (a and b))\n"
   ]
  },
  {
   "cell_type": "markdown",
   "id": "f209982f",
   "metadata": {},
   "source": [
    "# Ejemplo de uso Sensor y Batería\n"
   ]
  },
  {
   "cell_type": "code",
   "execution_count": 15,
   "id": "95efc840",
   "metadata": {},
   "outputs": [
    {
     "name": "stdout",
     "output_type": "stream",
     "text": [
      "Ejemplo de uso Sensor y Batería\n",
      "True and True = True\n",
      "True and False = False\n",
      "False and True = False\n",
      "False and False = False\n"
     ]
    }
   ],
   "source": [
    "print(\"Ejemplo de uso Sensor y Batería\")\n",
    "sensor = True\n",
    "bateria = True\n",
    "print(sensor, \"and\", bateria, \"=\", sensor and bateria)\n",
    "sensor = True\n",
    "bateria = False\n",
    "print(sensor, \"and\", bateria, \"=\", sensor and bateria)\n",
    "sensor = False\n",
    "bateria = True\n",
    "print(sensor, \"and\", bateria, \"=\", sensor and bateria)\n",
    "sensor = False\n",
    "bateria = False\n",
    "print(sensor, \"and\", bateria, \"=\", sensor and bateria)\n"
   ]
  },
  {
   "cell_type": "markdown",
   "id": "4099ddf0",
   "metadata": {},
   "source": [
    "# Ejemplo 1 - Comparación y Lógicos\n"
   ]
  },
  {
   "cell_type": "code",
   "execution_count": 16,
   "id": "5837f526",
   "metadata": {},
   "outputs": [
    {
     "name": "stdout",
     "output_type": "stream",
     "text": [
      "Ejemplo 1 - Comparación y Lógicos\n",
      "True\n"
     ]
    }
   ],
   "source": [
    "print(\"Ejemplo 1 - Comparación y Lógicos\")\n",
    "numero = 20\n",
    "print(numero >= 0 and numero <= 100)\n"
   ]
  },
  {
   "cell_type": "markdown",
   "id": "5033e028",
   "metadata": {},
   "source": [
    "# Ejemplo 2 - Aritméticos y comparación\n"
   ]
  },
  {
   "cell_type": "code",
   "execution_count": 17,
   "id": "ef60513a",
   "metadata": {},
   "outputs": [
    {
     "name": "stdout",
     "output_type": "stream",
     "text": [
      "Ejemplo 2 - Aritméticos y comparación\n",
      "True\n"
     ]
    }
   ],
   "source": [
    "print(\"Ejemplo 2 - Aritméticos y comparación\")\n",
    "nota1 = 15\n",
    "nota2 = 20\n",
    "nota3 = 16\n",
    "nota_final = nota1 + nota2 + nota3\n",
    "print(nota_final > 50)\n"
   ]
  },
  {
   "cell_type": "markdown",
   "id": "1050e1c8",
   "metadata": {},
   "source": [
    "# Ejemplo 3 - Aritméticos, comparación y lógicos\n"
   ]
  },
  {
   "cell_type": "code",
   "execution_count": 18,
   "id": "ed2c0f59",
   "metadata": {},
   "outputs": [
    {
     "name": "stdout",
     "output_type": "stream",
     "text": [
      "Ejemplo 3 - Aritméticos, comparación y lógicos\n",
      "True\n"
     ]
    }
   ],
   "source": [
    "print(\"Ejemplo 3 - Aritméticos, comparación y lógicos\")\n",
    "numero = 15\n",
    "print((numero % 3 == 0) and (numero % 5 == 0) and (numero % 2 != 0))\n"
   ]
  },
  {
   "cell_type": "markdown",
   "id": "fd15842a",
   "metadata": {},
   "source": [
    "# Cortocircuito con operador and\n"
   ]
  },
  {
   "cell_type": "code",
   "execution_count": 19,
   "id": "0b385e25",
   "metadata": {},
   "outputs": [
    {
     "name": "stdout",
     "output_type": "stream",
     "text": [
      "Cortocircuito con operador and\n",
      "False\n"
     ]
    },
    {
     "ename": "ZeroDivisionError",
     "evalue": "division by zero",
     "output_type": "error",
     "traceback": [
      "\u001b[31m---------------------------------------------------------------------------\u001b[39m",
      "\u001b[31mZeroDivisionError\u001b[39m                         Traceback (most recent call last)",
      "\u001b[36mCell\u001b[39m\u001b[36m \u001b[39m\u001b[32mIn[19]\u001b[39m\u001b[32m, line 5\u001b[39m\n\u001b[32m      3\u001b[39m y = \u001b[32m0\u001b[39m\n\u001b[32m      4\u001b[39m \u001b[38;5;28mprint\u001b[39m(x > \u001b[32m2\u001b[39m \u001b[38;5;129;01mand\u001b[39;00m (x / y) > \u001b[32m2\u001b[39m)  \u001b[38;5;66;03m# No evalúa (x / y) porque x > 2 es False\u001b[39;00m\n\u001b[32m----> \u001b[39m\u001b[32m5\u001b[39m \u001b[38;5;28mprint\u001b[39m(x > \u001b[32m0\u001b[39m \u001b[38;5;129;01mand\u001b[39;00m (\u001b[43mx\u001b[49m\u001b[43m \u001b[49m\u001b[43m/\u001b[49m\u001b[43m \u001b[49m\u001b[43my\u001b[49m) > \u001b[32m0\u001b[39m)  \u001b[38;5;66;03m# Error ZeroDivisionError porque x > 0 es True\u001b[39;00m\n",
      "\u001b[31mZeroDivisionError\u001b[39m: division by zero"
     ]
    }
   ],
   "source": [
    "print(\"Cortocircuito con operador and\")\n",
    "x = 1\n",
    "y = 0\n",
    "print(x > 2 and (x / y) > 2)  # No evalúa (x / y) porque x > 2 es False\n",
    "print(x > 0 and (x / y) > 0)  # Error ZeroDivisionError porque x > 0 es True\n"
   ]
  }
 ],
 "metadata": {
  "kernelspec": {
   "display_name": "Python 3",
   "language": "python",
   "name": "python3"
  },
  "language_info": {
   "codemirror_mode": {
    "name": "ipython",
    "version": 3
   },
   "file_extension": ".py",
   "mimetype": "text/x-python",
   "name": "python",
   "nbconvert_exporter": "python",
   "pygments_lexer": "ipython3",
   "version": "3.12.6"
  }
 },
 "nbformat": 4,
 "nbformat_minor": 5
}
