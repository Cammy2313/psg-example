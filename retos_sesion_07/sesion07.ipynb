{
 "cells": [
  {
   "cell_type": "markdown",
   "id": "0502e053",
   "metadata": {},
   "source": [
    "# Cadenas con comillas simples, dobles y triples"
   ]
  },
  {
   "cell_type": "code",
   "execution_count": 1,
   "id": "f05e3a65",
   "metadata": {},
   "outputs": [
    {
     "name": "stdout",
     "output_type": "stream",
     "text": [
      "Mi cadena permite comillas \"dobles\" en una sola línea\n",
      "Mi cadena permite comillas 'simples' en una sola línea\n",
      "Mi cadena\n",
      "permite contenido \n",
      "en varias líneas y comillas \"dobles\" \n",
      "Mi cadena\n",
      "permite contenido \n",
      "en varias líneas y comillas 'simples' \n"
     ]
    }
   ],
   "source": [
    "simple = 'Mi cadena permite comillas \"dobles\" en una sola línea'\n",
    "doble  = \"Mi cadena permite comillas 'simples' en una sola línea\"\n",
    "triple_simple = '''Mi cadena\n",
    "permite contenido \n",
    "en varias líneas y comillas \"dobles\" '''\n",
    "triple_doble = \"\"\"Mi cadena\n",
    "permite contenido \n",
    "en varias líneas y comillas 'simples' \"\"\"\n",
    "print(simple)\n",
    "print(doble)\n",
    "print(triple_simple)\n",
    "print(triple_doble)"
   ]
  },
  {
   "cell_type": "markdown",
   "id": "4a7d1b65",
   "metadata": {},
   "source": [
    "# Conversión de tipos a cadena con `str()`"
   ]
  },
  {
   "cell_type": "code",
   "execution_count": 2,
   "id": "ffceab7d",
   "metadata": {},
   "outputs": [
    {
     "name": "stdout",
     "output_type": "stream",
     "text": [
      "1\n",
      "0.001\n",
      "10\n",
      "True\n",
      "<class 'str'>\n",
      "<class 'str'>\n",
      "<class 'str'>\n",
      "<class 'str'>\n"
     ]
    }
   ],
   "source": [
    "entero = str(1)\n",
    "flotante = str(1E-3)\n",
    "hexadecimal = str(0xA)\n",
    "booleano = str(True)\n",
    "print(entero)\n",
    "print(flotante)\n",
    "print(hexadecimal)\n",
    "print(booleano)\n",
    "print(type(entero))\n",
    "print(type(flotante))\n",
    "print(type(hexadecimal))\n",
    "print(type(booleano))\n"
   ]
  },
  {
   "cell_type": "markdown",
   "id": "167c2756",
   "metadata": {},
   "source": [
    "# Cadenas con comillas escapadas\n"
   ]
  },
  {
   "cell_type": "code",
   "execution_count": 3,
   "id": "f6064853",
   "metadata": {},
   "outputs": [
    {
     "name": "stdout",
     "output_type": "stream",
     "text": [
      "El mensaje enviado fue: \"Hello, I'm a message\"\n",
      "El mensaje enviado fue: \"Hello, I'm a message\"\n"
     ]
    }
   ],
   "source": [
    "print(\"El mensaje enviado fue: \\\"Hello, I\\'m a message\\\"\")\n",
    "print('El mensaje enviado fue: \\\"Hello, I\\'m a message\\\"')\n"
   ]
  },
  {
   "cell_type": "markdown",
   "id": "ba38e2e3",
   "metadata": {},
   "source": [
    "# Indexado positivo"
   ]
  },
  {
   "cell_type": "code",
   "execution_count": 4,
   "id": "8460fc02",
   "metadata": {},
   "outputs": [
    {
     "name": "stdout",
     "output_type": "stream",
     "text": [
      "Indexado positivo\n",
      "banana\n",
      "b\n",
      "a\n"
     ]
    }
   ],
   "source": [
    "print(\"Indexado positivo\")\n",
    "fruta = \"banana\"\n",
    "print(fruta)\n",
    "print(fruta[0])\n",
    "print(fruta[5])\n"
   ]
  },
  {
   "cell_type": "markdown",
   "id": "435ba048",
   "metadata": {},
   "source": [
    "# Indexado negativo\n"
   ]
  },
  {
   "cell_type": "code",
   "execution_count": 5,
   "id": "32fd96c1",
   "metadata": {},
   "outputs": [
    {
     "name": "stdout",
     "output_type": "stream",
     "text": [
      "Indexado negativo\n",
      "banana\n",
      "a\n",
      "a\n"
     ]
    }
   ],
   "source": [
    "print(\"Indexado negativo\")\n",
    "fruta = \"banana\"\n",
    "print(fruta)\n",
    "print(fruta[-1])\n",
    "print(fruta[-3])\n"
   ]
  },
  {
   "cell_type": "markdown",
   "id": "b4b22388",
   "metadata": {},
   "source": [
    "# Slicing de cadenas"
   ]
  },
  {
   "cell_type": "code",
   "execution_count": 6,
   "id": "1cd41aa3",
   "metadata": {},
   "outputs": [
    {
     "name": "stdout",
     "output_type": "stream",
     "text": [
      "Slicing\n",
      "LaPaz-Bolivia\n",
      "Slicing con índices positivos\n",
      "LaPaz-\n",
      "LPz\n",
      "Slicing con índices negativos\n",
      "az-Boliv\n",
      "a-oi\n",
      "Slicing sin índice inicial y final\n",
      "LaPaz-\n",
      "Bolivia\n",
      "Slicing sin índice inicial ni final\n",
      "LaPaz-Bolivia\n",
      "LPzBlva\n",
      "Slicing con paso negativo\n",
      "viloB-\n",
      "vlBzPL\n"
     ]
    }
   ],
   "source": [
    "print(\"Slicing\")\n",
    "ciudad =  \"LaPaz-Bolivia\"\n",
    "print(ciudad)\n",
    "print(\"Slicing con índices positivos\")\n",
    "print(ciudad[0:6])\n",
    "print(ciudad[0:6:2])\n",
    "print(\"Slicing con índices negativos\")\n",
    "print(ciudad[-10:-2])\n",
    "print(ciudad[-10:-2:2])\n",
    "print(\"Slicing sin índice inicial y final\")\n",
    "print(ciudad[:6])\n",
    "print(ciudad[6:])\n",
    "print(\"Slicing sin índice inicial ni final\")\n",
    "print(ciudad[:])\n",
    "print(ciudad[::2])\n",
    "print(\"Slicing con paso negativo\")\n",
    "print(ciudad[10:4:-1])\n",
    "print(ciudad[10::-2])\n"
   ]
  },
  {
   "cell_type": "markdown",
   "id": "55cdf01b",
   "metadata": {},
   "source": [
    "# Concatenación de cadenas"
   ]
  },
  {
   "cell_type": "code",
   "execution_count": 7,
   "id": "507daeb8",
   "metadata": {},
   "outputs": [
    {
     "name": "stdout",
     "output_type": "stream",
     "text": [
      "Hola Mundo\n"
     ]
    }
   ],
   "source": [
    "cadena1 = \"Hola\"\n",
    "cadena2 = \"Mundo\"\n",
    "concatenada = cadena1 + \" \" + cadena2\n",
    "print(concatenada)\n"
   ]
  },
  {
   "cell_type": "markdown",
   "id": "66dceec8",
   "metadata": {},
   "source": [
    "# Repetición de cadenas"
   ]
  },
  {
   "cell_type": "code",
   "execution_count": 8,
   "id": "cff80339",
   "metadata": {},
   "outputs": [
    {
     "name": "stdout",
     "output_type": "stream",
     "text": [
      "-#--#--#--#--#--#--#--#--#--#-\n"
     ]
    }
   ],
   "source": [
    "cadena = \"-#-\"\n",
    "repetida = cadena * 10\n",
    "print(repetida)\n"
   ]
  },
  {
   "cell_type": "markdown",
   "id": "49156e9f",
   "metadata": {},
   "source": [
    "# Longitud de una cadena\n"
   ]
  },
  {
   "cell_type": "code",
   "execution_count": 9,
   "id": "c78c37b1",
   "metadata": {},
   "outputs": [
    {
     "name": "stdout",
     "output_type": "stream",
     "text": [
      "Hola Mundo :D\n",
      "13 <class 'int'>\n"
     ]
    }
   ],
   "source": [
    "cadena = \"Hola Mundo :D\"\n",
    "longitud = len(cadena)\n",
    "print(cadena)\n",
    "print(longitud, type(longitud))\n"
   ]
  },
  {
   "cell_type": "markdown",
   "id": "0fcf167b",
   "metadata": {},
   "source": [
    "# Funciones de transformación de texto\n"
   ]
  },
  {
   "cell_type": "code",
   "execution_count": 10,
   "id": "413b8158",
   "metadata": {},
   "outputs": [
    {
     "name": "stdout",
     "output_type": "stream",
     "text": [
      "Función Upper\n",
      "cadena Inicial #1\n",
      "CADENA INICIAL #1\n",
      "Función Lower\n",
      "Cadena INICIAL #2\n",
      "cadena inicial #2\n",
      "Función Capitalize\n",
      "cadena INICIAL #3\n",
      "Cadena inicial #3\n",
      "Función Title\n",
      "CADENA inicial #4\n",
      "Cadena Inicial #4\n",
      "Función Swapcase\n",
      "CADena InIcIaL #5\n",
      "cadENA iNiCiAl #5\n"
     ]
    }
   ],
   "source": [
    "print(\"Función Upper\")\n",
    "cadena = \"cadena Inicial #1\"\n",
    "print(cadena)\n",
    "print(cadena.upper())\n",
    "\n",
    "print(\"Función Lower\")\n",
    "cadena = \"Cadena INICIAL #2\"\n",
    "print(cadena)\n",
    "print(cadena.lower())\n",
    "\n",
    "print(\"Función Capitalize\")\n",
    "cadena = \"cadena INICIAL #3\"\n",
    "print(cadena)\n",
    "print(cadena.capitalize())\n",
    "\n",
    "print(\"Función Title\")\n",
    "cadena = \"CADENA inicial #4\"\n",
    "print(cadena)\n",
    "print(cadena.title())\n",
    "\n",
    "print(\"Función Swapcase\")\n",
    "cadena = \"CADena InIcIaL #5\"\n",
    "print(cadena)\n",
    "print(cadena.swapcase())\n"
   ]
  },
  {
   "cell_type": "markdown",
   "id": "065aa26b",
   "metadata": {},
   "source": [
    "# Funciones de conteo y búsqueda\n"
   ]
  },
  {
   "cell_type": "code",
   "execution_count": 11,
   "id": "8e116f4c",
   "metadata": {},
   "outputs": [
    {
     "name": "stdout",
     "output_type": "stream",
     "text": [
      "Función Count\n",
      "Cantidad de veces la letra A\n",
      "4\n",
      "Función Find\n",
      "Encontrar las letras las\n",
      "10\n",
      "Función Rfind\n",
      "Encontrar las letras las\n",
      "21\n",
      "Función Find y Rfind\n",
      "Encontrar tres O\n",
      "-1\n",
      "-1\n"
     ]
    }
   ],
   "source": [
    "print(\"Función Count\")\n",
    "cadena = \"Cantidad de veces la letra A\"\n",
    "print(cadena)\n",
    "print(cadena.count(\"a\"))\n",
    "\n",
    "print(\"Función Find\")\n",
    "cadena = \"Encontrar las letras las\"\n",
    "print(cadena)\n",
    "print(cadena.find(\"las\"))\n",
    "\n",
    "print(\"Función Rfind\")\n",
    "print(cadena)\n",
    "print(cadena.rfind(\"las\"))\n",
    "\n",
    "print(\"Función Find y Rfind\")\n",
    "cadena = \"Encontrar tres O\"\n",
    "print(cadena)\n",
    "print(cadena.find(\"OOO\"))\n",
    "print(cadena.rfind(\"OOO\"))\n"
   ]
  },
  {
   "cell_type": "markdown",
   "id": "9bb4f191",
   "metadata": {},
   "source": [
    "# Funciones de validación de texto\n"
   ]
  },
  {
   "cell_type": "code",
   "execution_count": 12,
   "id": "5beda7e8",
   "metadata": {},
   "outputs": [
    {
     "name": "stdout",
     "output_type": "stream",
     "text": [
      "Función isdigit\n",
      "True\n",
      "Función isalpha\n",
      "True\n",
      "Función isalnum\n",
      "True\n"
     ]
    }
   ],
   "source": [
    "print(\"Función isdigit\")\n",
    "print(\"100\".isdigit())\n",
    "\n",
    "print(\"Función isalpha\")\n",
    "print(\"Hola\".isalpha())\n",
    "\n",
    "print(\"Función isalnum\")\n",
    "print(\"usuario123\".isalnum())\n"
   ]
  },
  {
   "cell_type": "markdown",
   "id": "c81e6a9e",
   "metadata": {},
   "source": [
    "# División y unión de cadenas"
   ]
  },
  {
   "cell_type": "code",
   "execution_count": 13,
   "id": "d693cbf5",
   "metadata": {},
   "outputs": [
    {
     "name": "stdout",
     "output_type": "stream",
     "text": [
      "Función split\n",
      "pan,carne,huevos\n",
      "['pan', 'carne', 'huevos']\n",
      "Función join\n",
      "abcdefghij\n",
      "a-b-c-d-e-f-g-h-i-j\n"
     ]
    }
   ],
   "source": [
    "print(\"Función split\")\n",
    "cadena = \"pan,carne,huevos\"\n",
    "print(cadena)\n",
    "print(cadena.split(\",\"))\n",
    "\n",
    "print(\"Función join\")\n",
    "cadena = \"abcdefghij\"\n",
    "print(cadena)\n",
    "print(\"-\".join(cadena))\n"
   ]
  },
  {
   "cell_type": "markdown",
   "id": "6e07062a",
   "metadata": {},
   "source": [
    "# Eliminación de caracteres con `strip()`"
   ]
  },
  {
   "cell_type": "code",
   "execution_count": 14,
   "id": "cff4f370",
   "metadata": {},
   "outputs": [
    {
     "name": "stdout",
     "output_type": "stream",
     "text": [
      "      Hola    Mundo     \n",
      "Hola    Mundo\n",
      "-abc--def-ghi-cba----\n",
      "def-ghi\n"
     ]
    }
   ],
   "source": [
    "cadena = \"      Hola    Mundo     \"\n",
    "print(cadena)\n",
    "print(cadena.strip())\n",
    "\n",
    "cadena = \"-abc--def-ghi-cba----\"\n",
    "print(cadena)\n",
    "print(cadena.strip(\"bac-\"))\n"
   ]
  },
  {
   "cell_type": "markdown",
   "id": "5982d90e",
   "metadata": {},
   "source": [
    "# Reemplazo de texto con `replace()`"
   ]
  },
  {
   "cell_type": "code",
   "execution_count": 15,
   "id": "bf1c748a",
   "metadata": {},
   "outputs": [
    {
     "name": "stdout",
     "output_type": "stream",
     "text": [
      "Me gusta programar en JS, Amo JS\n",
      "Me gusta programar en Python, Amo Python\n"
     ]
    }
   ],
   "source": [
    "cadena = \"Me gusta programar en JS, Amo JS\"\n",
    "print(cadena)\n",
    "print(cadena.replace(\"JS\", \"Python\"))\n"
   ]
  },
  {
   "cell_type": "markdown",
   "id": "b055af15",
   "metadata": {},
   "source": [
    "# Formato con `format()` y f-strings"
   ]
  },
  {
   "cell_type": "code",
   "execution_count": 16,
   "id": "e13c8691",
   "metadata": {},
   "outputs": [
    {
     "name": "stdout",
     "output_type": "stream",
     "text": [
      "Función format\n",
      "El valor de PI es: {}\n",
      "El valor de PI es: 3.1416\n",
      "Función format con índices\n",
      "{2} es la suma de {0} y {1}\n",
      "8 es la suma de 5 y 3\n",
      "Función format con nombres\n",
      "{ciudad} es la capital de {pais}\n",
      "París es la capital de Francia\n",
      "Función format con f-string\n",
      "La moneda de Bolivia es el Boliviano\n"
     ]
    }
   ],
   "source": [
    "print(\"Función format\")\n",
    "cadena = \"El valor de PI es: {}\"\n",
    "print(cadena)\n",
    "print(cadena.format(3.1416))\n",
    "\n",
    "print(\"Función format con índices\")\n",
    "cadena = \"{2} es la suma de {0} y {1}\"\n",
    "valor_1 = 5\n",
    "valor_2 = 3\n",
    "resultado = valor_1 + valor_2\n",
    "print(cadena)\n",
    "print(cadena.format(valor_1, valor_2, resultado))\n",
    "\n",
    "print(\"Función format con nombres\")\n",
    "cadena = \"{ciudad} es la capital de {pais}\"\n",
    "print(cadena)\n",
    "print(cadena.format(pais=\"Francia\", ciudad=\"París\"))\n",
    "\n",
    "print(\"Función format con f-string\")\n",
    "moneda = \"Boliviano\"\n",
    "pais = \"Bolivia\"\n",
    "formateado = f\"La moneda de {pais} es el {moneda}\"\n",
    "print(formateado)\n"
   ]
  }
 ],
 "metadata": {
  "kernelspec": {
   "display_name": "Python 3",
   "language": "python",
   "name": "python3"
  },
  "language_info": {
   "codemirror_mode": {
    "name": "ipython",
    "version": 3
   },
   "file_extension": ".py",
   "mimetype": "text/x-python",
   "name": "python",
   "nbconvert_exporter": "python",
   "pygments_lexer": "ipython3",
   "version": "3.12.6"
  }
 },
 "nbformat": 4,
 "nbformat_minor": 5
}
