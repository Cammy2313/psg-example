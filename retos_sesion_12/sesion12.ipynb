{
 "cells": [
  {
   "cell_type": "markdown",
   "id": "c226ca66",
   "metadata": {},
   "source": [
    "# Estructura de un condicional if"
   ]
  },
  {
   "cell_type": "code",
   "execution_count": 1,
   "id": "4fdb39b5",
   "metadata": {},
   "outputs": [
    {
     "name": "stdout",
     "output_type": "stream",
     "text": [
      "Inicio\n",
      "Cumple condición\n",
      "Fin\n"
     ]
    }
   ],
   "source": [
    "print (\"Inicio\")\n",
    "condicion = True\n",
    "if condicion:\n",
    "    # Bloque de código\n",
    "    print (\"Cumple condición\")\n",
    "print (\"Fin\")"
   ]
  },
  {
   "cell_type": "markdown",
   "id": "a3a11ab4",
   "metadata": {},
   "source": [
    "# Ejemplo: Dado un número, imprimir si es par"
   ]
  },
  {
   "cell_type": "code",
   "execution_count": 2,
   "id": "8cc56fe6",
   "metadata": {},
   "outputs": [
    {
     "name": "stdout",
     "output_type": "stream",
     "text": [
      "Inicio\n",
      "El número es par\n",
      "Fin\n"
     ]
    }
   ],
   "source": [
    "print (\"Inicio\")\n",
    "numero = 4\n",
    "if numero % 2 == 0: # Si el módulo de 2 es 0\n",
    "    print (\"El número es par\")\n",
    "print (\"Fin\")"
   ]
  },
  {
   "cell_type": "markdown",
   "id": "6e0f23d1",
   "metadata": {},
   "source": [
    "# Estructura de un condicional if-else"
   ]
  },
  {
   "cell_type": "code",
   "execution_count": 3,
   "id": "a4707d1b",
   "metadata": {},
   "outputs": [
    {
     "name": "stdout",
     "output_type": "stream",
     "text": [
      "Inicio\n",
      "No cumple condición\n",
      "Fin\n"
     ]
    }
   ],
   "source": [
    "print (\"Inicio\")\n",
    "condicion = False\n",
    "if condicion:\n",
    "    # Bloque de código\n",
    "    print (\"Cumple condición\")\n",
    "else:\n",
    "    # Bloque de código\n",
    "    print (\"No cumple condición\")\n",
    "print (\"Fin\")"
   ]
  },
  {
   "cell_type": "markdown",
   "id": "3a2b689a",
   "metadata": {},
   "source": [
    "# Ejemplo: Dado un número, imprimir si es par o impar"
   ]
  },
  {
   "cell_type": "code",
   "execution_count": 4,
   "id": "b32cb0e5",
   "metadata": {},
   "outputs": [
    {
     "name": "stdout",
     "output_type": "stream",
     "text": [
      "Inicio\n",
      "El número es impar\n",
      "Fin\n"
     ]
    }
   ],
   "source": [
    "print (\"Inicio\")\n",
    "numero = 3\n",
    "if numero % 2 == 0: # Si el módulo de 2 es 0\n",
    "    print (\"El número es par\")\n",
    "else:\n",
    "    print (\"El número es impar\")\n",
    "print (\"Fin\")"
   ]
  },
  {
   "cell_type": "markdown",
   "id": "8d7e040f",
   "metadata": {},
   "source": [
    "# Estructura de un condicional if-anidado"
   ]
  },
  {
   "cell_type": "code",
   "execution_count": 5,
   "id": "3f420c3b",
   "metadata": {},
   "outputs": [
    {
     "name": "stdout",
     "output_type": "stream",
     "text": [
      "Inicio Anidado\n",
      "Cumple condición 1\n",
      "No cumple condición 2\n",
      "Fin\n"
     ]
    }
   ],
   "source": [
    "print (\"Inicio Anidado\")\n",
    "condicion_1 = True\n",
    "condicion_2 = False\n",
    "if condicion_1:\n",
    "    print (\"Cumple condición 1\")\n",
    "    if condicion_2:\n",
    "        print (\"Cumple condición 2\")\n",
    "    else:\n",
    "        print (\"No cumple condición 2\")\n",
    "else:\n",
    "    print (\"No cumple condición 1\")\n",
    "print (\"Fin\")"
   ]
  },
  {
   "cell_type": "markdown",
   "id": "4f5706e0",
   "metadata": {},
   "source": [
    "# Ejemplo: Dado un número, imprimir si es par, impar o cero"
   ]
  },
  {
   "cell_type": "code",
   "execution_count": 6,
   "id": "32e057ce",
   "metadata": {},
   "outputs": [
    {
     "name": "stdout",
     "output_type": "stream",
     "text": [
      "Inicio Par, Impar o Cero\n",
      "El número es cero\n",
      "Fin\n"
     ]
    }
   ],
   "source": [
    "print (\"Inicio Par, Impar o Cero\")\n",
    "numero = 0  \n",
    "if numero > 0 or numero < 0:\n",
    "    if numero % 2 == 0: # Si el módulo de 2 es 0\n",
    "        print (\"El número es par\")\n",
    "    else:\n",
    "        print (\"El número es impar\")\n",
    "else:\n",
    "    print (\"El número es cero\")\n",
    "print (\"Fin\")"
   ]
  },
  {
   "cell_type": "markdown",
   "id": "c20395e1",
   "metadata": {},
   "source": [
    "# Estructura de un condicional elif"
   ]
  },
  {
   "cell_type": "code",
   "execution_count": 7,
   "id": "dafe072a",
   "metadata": {},
   "outputs": [
    {
     "name": "stdout",
     "output_type": "stream",
     "text": [
      "Inicio ELIF\n",
      "Cumple condición 2\n",
      "Fin\n"
     ]
    }
   ],
   "source": [
    "print (\"Inicio ELIF\")\n",
    "condicion_1 = False\n",
    "condicion_2 = True\n",
    "if condicion_1:\n",
    "    print (\"Cumple condición 1\")\n",
    "elif condicion_2:\n",
    "    print (\"Cumple condición 2\")\n",
    "else:\n",
    "    print (\"No cumple condición 1 ni 2\")\n",
    "print (\"Fin\")"
   ]
  },
  {
   "cell_type": "markdown",
   "id": "f19d1df2",
   "metadata": {},
   "source": [
    "# Ejemplo: Dado un número, imprimir si es positivo, negativo o cero"
   ]
  },
  {
   "cell_type": "code",
   "execution_count": 8,
   "id": "6876701c",
   "metadata": {},
   "outputs": [
    {
     "name": "stdout",
     "output_type": "stream",
     "text": [
      "Inicio Positivo, Negativo o Cero\n",
      "El número es negativo\n"
     ]
    }
   ],
   "source": [
    "print (\"Inicio Positivo, Negativo o Cero\")\n",
    "numero = -1\n",
    "if numero > 0:\n",
    "    print (\"El número es positivo\")\n",
    "elif numero < 0:\n",
    "    print (\"El número es negativo\")\n",
    "else:\n",
    "    print (\"El número es cero\")"
   ]
  },
  {
   "cell_type": "markdown",
   "id": "d8ebf72b",
   "metadata": {},
   "source": [
    "# Operador Ternario"
   ]
  },
  {
   "cell_type": "code",
   "execution_count": 9,
   "id": "e28bc1c5",
   "metadata": {},
   "outputs": [
    {
     "name": "stdout",
     "output_type": "stream",
     "text": [
      "Inicio Ternario\n",
      "Cumple\n",
      "Fin\n"
     ]
    }
   ],
   "source": [
    "print (\"Inicio Ternario\")\n",
    "condicion = True\n",
    "resultado = \"Cumple\" if condicion else \"No cumple\"\n",
    "print (resultado)\n",
    "print (\"Fin\")"
   ]
  },
  {
   "cell_type": "markdown",
   "id": "790f53b9",
   "metadata": {},
   "source": [
    "# Ejemplo: Dado un número, imprimir si es par o impar"
   ]
  },
  {
   "cell_type": "code",
   "execution_count": 10,
   "id": "279d329b",
   "metadata": {},
   "outputs": [
    {
     "name": "stdout",
     "output_type": "stream",
     "text": [
      "Inicio Ternario Par, Impar\n",
      "El número es impar\n",
      "Fin\n"
     ]
    }
   ],
   "source": [
    "print (\"Inicio Ternario Par, Impar\")\n",
    "numero = 3\n",
    "resultado = \"El número es par\" if numero % 2 == 0 else \"El número es impar\"\n",
    "print (resultado)\n",
    "print (\"Fin\")"
   ]
  },
  {
   "cell_type": "markdown",
   "id": "32414147",
   "metadata": {},
   "source": [
    "# Truthiness"
   ]
  },
  {
   "cell_type": "markdown",
   "id": "95621531",
   "metadata": {},
   "source": [
    "# Truthiness Entero"
   ]
  },
  {
   "cell_type": "code",
   "execution_count": 11,
   "id": "109c3894",
   "metadata": {},
   "outputs": [
    {
     "name": "stdout",
     "output_type": "stream",
     "text": [
      "Truthiness Enteros\n",
      "10 0\n",
      "No se puede dividir entre cero\n",
      "Fin\n"
     ]
    }
   ],
   "source": [
    "print (\"Truthiness Enteros\")\n",
    "dividendo = int(input(\"Dividendo: \"))\n",
    "divisor = int(input(\"Divisor: \"))\n",
    "print (dividendo,divisor)\n",
    "if divisor: #divisor != 0\n",
    "    print (dividendo / divisor)\n",
    "else:\n",
    "    print (\"No se puede dividir entre cero\")\n",
    "print (\"Fin\")"
   ]
  },
  {
   "cell_type": "markdown",
   "id": "50d9f869",
   "metadata": {},
   "source": [
    "# Truthiness Flotantes"
   ]
  },
  {
   "cell_type": "code",
   "execution_count": 12,
   "id": "fceb734b",
   "metadata": {},
   "outputs": [
    {
     "name": "stdout",
     "output_type": "stream",
     "text": [
      "Truthiness Flotantes\n",
      "10.5 0.5\n",
      "21.0\n",
      "Fin\n"
     ]
    }
   ],
   "source": [
    "print (\"Truthiness Flotantes\")\n",
    "dividendo = float(input(\"Dividendo: \"))\n",
    "divisor = float(input(\"Divisor: \"))\n",
    "print (dividendo,divisor)\n",
    "if divisor: #divisor != 0.0\n",
    "    print (dividendo / divisor)\n",
    "else:\n",
    "    print (\"No se puede dividir entre cero\")\n",
    "print (\"Fin\")"
   ]
  },
  {
   "cell_type": "markdown",
   "id": "154ef0d2",
   "metadata": {},
   "source": [
    "# Truthiness Cadenas"
   ]
  },
  {
   "cell_type": "code",
   "execution_count": 13,
   "id": "2d5912c7",
   "metadata": {},
   "outputs": [
    {
     "name": "stdout",
     "output_type": "stream",
     "text": [
      "Truthiness Cadenas\n",
      "🐍\n",
      "La cadena no está vacía\n",
      "Fin\n"
     ]
    }
   ],
   "source": [
    "print (\"Truthiness Cadenas\")\n",
    "cadena = input(\"Cadena: \")\n",
    "print (cadena)\n",
    "if cadena: # len(cadena) != 0 or cadena != \"\" \n",
    "    print (\"La cadena no está vacía\")\n",
    "else:\n",
    "    print (\"La cadena está vacía\")\n",
    "print (\"Fin\")"
   ]
  },
  {
   "cell_type": "markdown",
   "id": "7f066bae",
   "metadata": {},
   "source": [
    "# Truthiness Tuplas"
   ]
  },
  {
   "cell_type": "code",
   "execution_count": 14,
   "id": "0e604b07",
   "metadata": {},
   "outputs": [
    {
     "name": "stdout",
     "output_type": "stream",
     "text": [
      "Truthiness Tuplas\n",
      "('♈', '♉', '♊', '♋')\n",
      "La tupla no está vacía\n",
      "Fin\n"
     ]
    }
   ],
   "source": [
    "print (\"Truthiness Tuplas\")\n",
    "tupla = tuple(input(\"Tupla: \"))\n",
    "print (tupla)\n",
    "if tupla: # len(tupla) != 0 or tupla != ()\n",
    "    print (\"La tupla no está vacía\")\n",
    "else:\n",
    "    print (\"La tupla está vacía\")\n",
    "print (\"Fin\")"
   ]
  },
  {
   "cell_type": "markdown",
   "id": "ebb9e10c",
   "metadata": {},
   "source": [
    "# Truthiness Listas"
   ]
  },
  {
   "cell_type": "code",
   "execution_count": 15,
   "id": "0c59b6b8",
   "metadata": {},
   "outputs": [
    {
     "name": "stdout",
     "output_type": "stream",
     "text": [
      "Truthiness Listas\n",
      "['♌', '♍', '♎', '♏']\n",
      "La lista no está vacía\n",
      "Fin\n"
     ]
    }
   ],
   "source": [
    "print (\"Truthiness Listas\")\n",
    "lista = list(input(\"Lista: \"))\n",
    "print (lista)\n",
    "if lista: # len(lista) != 0 or lista != []\n",
    "    print (\"La lista no está vacía\")\n",
    "else:\n",
    "    print (\"La lista está vacía\")\n",
    "print (\"Fin\")"
   ]
  },
  {
   "cell_type": "markdown",
   "id": "26ec8b13",
   "metadata": {},
   "source": [
    "# Truthiness Conjuntos"
   ]
  },
  {
   "cell_type": "code",
   "execution_count": 16,
   "id": "3e162352",
   "metadata": {},
   "outputs": [
    {
     "name": "stdout",
     "output_type": "stream",
     "text": [
      "Truthiness Conjuntos\n",
      "{'♒', '♐', '♑', '♓'}\n",
      "El conjunto no está vacío\n",
      "Fin\n"
     ]
    }
   ],
   "source": [
    "print (\"Truthiness Conjuntos\")\n",
    "conjunto = set(input(\"Conjunto: \"))\n",
    "print (conjunto)\n",
    "if conjunto: # len(conjunto) != 0 or conjunto != set()\n",
    "    print (\"El conjunto no está vacío\")\n",
    "else:\n",
    "    print (\"El conjunto está vacío\")\n",
    "print (\"Fin\")"
   ]
  },
  {
   "cell_type": "markdown",
   "id": "fd4286d2",
   "metadata": {},
   "source": [
    "# Truthiness Diccionarios"
   ]
  },
  {
   "cell_type": "code",
   "execution_count": 17,
   "id": "e0a858ac",
   "metadata": {},
   "outputs": [
    {
     "name": "stdout",
     "output_type": "stream",
     "text": [
      "Truthiness Diccionarios\n",
      "{'♈': 'Aries'}\n",
      "El diccionario no está vacío\n",
      "Fin\n"
     ]
    }
   ],
   "source": [
    "print (\"Truthiness Diccionarios\")\n",
    "diccionario = {}\n",
    "clave = input(\"Clave: \")\n",
    "valor = input(\"Valor: \")\n",
    "if clave:\n",
    "  diccionario = {clave:valor}\n",
    "print (diccionario)\n",
    "if diccionario: # diccionario != {}\n",
    "    print (\"El diccionario no está vacío\")\n",
    "else:\n",
    "    print (\"El diccionario está vacío\")\n",
    "print (\"Fin\")"
   ]
  },
  {
   "cell_type": "markdown",
   "id": "d5f66a34",
   "metadata": {},
   "source": [
    "# Truthiness None"
   ]
  },
  {
   "cell_type": "code",
   "execution_count": 18,
   "id": "6a89ab11",
   "metadata": {},
   "outputs": [
    {
     "name": "stdout",
     "output_type": "stream",
     "text": [
      "Truthiness None\n",
      "None <class 'NoneType'>\n",
      "El valor es None\n",
      "Fin\n"
     ]
    }
   ],
   "source": [
    "print (\"Truthiness None\")\n",
    "valor = None\n",
    "print (valor, type(valor))\n",
    "if valor: # valor != None\n",
    "    print (\"El valor no es None\")\n",
    "else:\n",
    "    print (\"El valor es None\")\n",
    "print (\"Fin\")"
   ]
  },
  {
   "cell_type": "markdown",
   "id": "5ee28c2d",
   "metadata": {},
   "source": [
    "# Operadores Ternarios"
   ]
  },
  {
   "cell_type": "code",
   "execution_count": 19,
   "id": "e3feaa5f",
   "metadata": {},
   "outputs": [
    {
     "name": "stdout",
     "output_type": "stream",
     "text": [
      "Igual a 0\n",
      "Igual a 0.0\n",
      "No está vacía\n"
     ]
    }
   ],
   "source": [
    "entero = int(input(\"Entero: \"))\n",
    "resultado = \"Diferente de 0\" if entero else \"Igual a 0\"\n",
    "print (resultado)\n",
    "flotante = float(input(\"Flotante: \"))\n",
    "resultado = \"Diferente de 0.0\" if flotante else \"Igual a 0.0\"\n",
    "print (resultado)\n",
    "cadena = input(\"Cadena: \")\n",
    "resultado = \"No está vacía\" if cadena else \"Está vacía\"\n",
    "print (resultado)"
   ]
  },
  {
   "cell_type": "markdown",
   "id": "2c3b1d9f",
   "metadata": {},
   "source": [
    "# Ejemplos\n",
    "## Tienes un dispositivo que mide la temperatura y si la temperatura es mayor a 30°C enciende un ventilador y si es menor a 20°C lo apaga"
   ]
  },
  {
   "cell_type": "code",
   "execution_count": 22,
   "id": "da7de0a3",
   "metadata": {},
   "outputs": [
    {
     "name": "stdout",
     "output_type": "stream",
     "text": [
      "Apagar ventilador\n"
     ]
    }
   ],
   "source": [
    "temperatura = float(input(\"Temperatura: \"))\n",
    "if temperatura > 30:\n",
    "    print (\"Encender ventilador\")\n",
    "elif temperatura < 20:\n",
    "    print (\"Apagar ventilador\")"
   ]
  },
  {
   "cell_type": "markdown",
   "id": "c76e57e6",
   "metadata": {},
   "source": [
    "## Tienes una cesta de frutas y quieres saber si tienes manzanas, si hay manzanas las cuentas y si no hay compras dos manzanas"
   ]
  },
  {
   "cell_type": "code",
   "execution_count": 23,
   "id": "d276b457",
   "metadata": {},
   "outputs": [
    {
     "name": "stdout",
     "output_type": "stream",
     "text": [
      "['🍎', '🍑', '🍓', '🍉']\n",
      "Hay 1 manzanas\n"
     ]
    }
   ],
   "source": [
    "cesta = ['🍎','🍑','🍓','🍉']\n",
    "print (cesta)\n",
    "if '🍎' in cesta:\n",
    "    print (f\"Hay {cesta.count('🍎')} manzanas\")\n",
    "else:\n",
    "    cesta.extend(['🍎','🍎'])\n",
    "    print (cesta)"
   ]
  },
  {
   "cell_type": "markdown",
   "id": "aae0f735",
   "metadata": {},
   "source": [
    "# Con operador ternario"
   ]
  },
  {
   "cell_type": "code",
   "execution_count": 24,
   "id": "6f3871b7",
   "metadata": {},
   "outputs": [
    {
     "name": "stdout",
     "output_type": "stream",
     "text": [
      "['🍑', '🍓', '🍉']\n",
      "None\n",
      "['🍑', '🍓', '🍉', '🍎', '🍎']\n"
     ]
    }
   ],
   "source": [
    "cesta = ['🍑','🍓','🍉']\n",
    "print (cesta)\n",
    "resultado = f\"Hay {cesta.count('🍎')} manzanas\" if '🍎' in cesta else cesta.extend(['🍎','🍎'])\n",
    "print (resultado)\n",
    "print (cesta)"
   ]
  },
  {
   "cell_type": "markdown",
   "id": "e6b2bfbf",
   "metadata": {},
   "source": [
    "## En un diccionario tienes almacenado un animal y quieres saber si es un mamífero"
   ]
  },
  {
   "cell_type": "code",
   "execution_count": 25,
   "id": "39eaebc7",
   "metadata": {},
   "outputs": [
    {
     "name": "stdout",
     "output_type": "stream",
     "text": [
      "{'especie': '🐶', 'nombre': 'Firulais', 'mamifero': True}\n",
      "Es un mamífero\n"
     ]
    }
   ],
   "source": [
    "animal = {'especie':'🐶', 'nombre': 'Firulais', 'mamifero': True}\n",
    "print (animal)\n",
    "if animal.get('mamifero'): # animal['mamifero']\n",
    "    print (\"Es un mamífero\")\n",
    "else:\n",
    "    print (\"No es un mamífero\")"
   ]
  },
  {
   "cell_type": "markdown",
   "id": "224b934f",
   "metadata": {},
   "source": [
    "## Dado dos conjuntos, verificar si tienen elementos en común y mostrarlos y si no, unirlos"
   ]
  },
  {
   "cell_type": "code",
   "execution_count": 26,
   "id": "e45de825",
   "metadata": {},
   "outputs": [
    {
     "name": "stdout",
     "output_type": "stream",
     "text": [
      "{'⚽', '🏐', '🏀'} {'🏓', '🏉', '🏈'}\n",
      "{'🏉', '🏈', '🏀', '🏓', '🏐', '⚽'}\n"
     ]
    }
   ],
   "source": [
    "conjunto_1 = {'⚽','🏀','🏐'}\n",
    "conjunto_2 = {'🏈','🏉','🏓'}\n",
    "print (conjunto_1, conjunto_2)\n",
    "if conjunto_1.isdisjoint(conjunto_2): # len(conjunto_1.intersection(conjunto_2)) == 0\n",
    "    conjunto_1.update(conjunto_2)\n",
    "    print (conjunto_1)\n",
    "else:\n",
    "    print (\"Tienen elementos en común\")\n",
    "    print (conjunto_1.intersection(conjunto_2))"
   ]
  },
  {
   "cell_type": "markdown",
   "id": "54359d21",
   "metadata": {},
   "source": [
    "## Validar si un correo electrónico es válido usando input"
   ]
  },
  {
   "cell_type": "code",
   "execution_count": 27,
   "id": "0116c08b",
   "metadata": {},
   "outputs": [
    {
     "name": "stdout",
     "output_type": "stream",
     "text": [
      "El correo no es válido\n"
     ]
    }
   ],
   "source": [
    "correo = input(\"Correo: \")\n",
    "if \"@\" in correo and \".\" in correo and correo.count(\"@\") == 1:\n",
    "    if correo.find(\"@\") < correo.rfind(\".\") and correo.find(\"@\") > 0 and correo.rfind(\".\") < len(correo) - 1:\n",
    "        if correo.rfind(\".\") - correo.find(\"@\") > 1:\n",
    "            if correo.find(\".\") - correo.find(\"@\") > 1:\n",
    "                print (\"El correo es válido\")\n",
    "            else:\n",
    "                print (\"El correo no es válido\")\n",
    "        else:\n",
    "            print (\"El correo no es válido\")\n",
    "    else:\n",
    "        print (\"El correo no es válido\")\n",
    "else:\n",
    "    print (\"El correo no es válido\")"
   ]
  },
  {
   "cell_type": "markdown",
   "id": "9a1f74e8",
   "metadata": {},
   "source": [
    "## Solución con elif"
   ]
  },
  {
   "cell_type": "code",
   "execution_count": 28,
   "id": "4255ab70",
   "metadata": {},
   "outputs": [
    {
     "name": "stdout",
     "output_type": "stream",
     "text": [
      "El correo es válido\n"
     ]
    }
   ],
   "source": [
    "correo = input(\"Correo: \")\n",
    "if \"@\" not in correo or \".\" not in correo or correo.count(\"@\") != 1:\n",
    "    print(\"El correo no es válido\")\n",
    "elif correo.find(\"@\") >= correo.rfind(\".\") or correo.find(\"@\") == 0 or correo.rfind(\".\") == len(correo) - 1:\n",
    "    print(\"El correo no es válido\")\n",
    "elif correo.rfind(\".\") - correo.find(\"@\") <= 1:\n",
    "    print(\"El correo no es válido\")\n",
    "elif correo.find(\".\") - correo.find(\"@\") == 1:\n",
    "    print(\"El correo no es válido\")\n",
    "else:\n",
    "    print(\"El correo es válido\")"
   ]
  }
 ],
 "metadata": {
  "kernelspec": {
   "display_name": "Python 3",
   "language": "python",
   "name": "python3"
  },
  "language_info": {
   "codemirror_mode": {
    "name": "ipython",
    "version": 3
   },
   "file_extension": ".py",
   "mimetype": "text/x-python",
   "name": "python",
   "nbconvert_exporter": "python",
   "pygments_lexer": "ipython3",
   "version": "3.12.6"
  }
 },
 "nbformat": 4,
 "nbformat_minor": 5
}
