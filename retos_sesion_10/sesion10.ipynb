{
 "cells": [
  {
   "cell_type": "markdown",
   "id": "9279ff96",
   "metadata": {},
   "source": [
    "# Conjunto de enteros"
   ]
  },
  {
   "cell_type": "code",
   "execution_count": 1,
   "id": "3876ea19",
   "metadata": {},
   "outputs": [
    {
     "name": "stdout",
     "output_type": "stream",
     "text": [
      "Conjunto de enteros\n",
      "{1, 2, 3, 4, 5}\n",
      "<class 'set'>\n"
     ]
    }
   ],
   "source": [
    "print(\"Conjunto de enteros\")\n",
    "conjunto = {1, 2, 3, 4, 5}\n",
    "print(conjunto)\n",
    "print(type(conjunto))"
   ]
  },
  {
   "cell_type": "markdown",
   "id": "0d62876a",
   "metadata": {},
   "source": [
    "# Conjunto de cadenas"
   ]
  },
  {
   "cell_type": "code",
   "execution_count": 2,
   "id": "7909b768",
   "metadata": {},
   "outputs": [
    {
     "name": "stdout",
     "output_type": "stream",
     "text": [
      "Conjunto de cadenas\n",
      "{'🌭', '🍕', '🍔', '🍟'}\n",
      "<class 'set'>\n"
     ]
    }
   ],
   "source": [
    "print(\"Conjunto de cadenas\")\n",
    "conjunto = {'🍕','🍔','🍟','🌭'}\n",
    "print(conjunto)\n",
    "print(type(conjunto))"
   ]
  },
  {
   "cell_type": "markdown",
   "id": "eb8c9f54",
   "metadata": {},
   "source": [
    "# Conjunto mixto"
   ]
  },
  {
   "cell_type": "code",
   "execution_count": 3,
   "id": "b8fb75f1",
   "metadata": {},
   "outputs": [
    {
     "name": "stdout",
     "output_type": "stream",
     "text": [
      "Conjunto mixto\n",
      "{1, '☕', 3.14}\n",
      "<class 'set'>\n"
     ]
    }
   ],
   "source": [
    "print(\"Conjunto mixto\")\n",
    "conjunto = {1, True, 3.14, '☕'}\n",
    "print(conjunto)\n",
    "print(type(conjunto))"
   ]
  },
  {
   "cell_type": "markdown",
   "id": "42fe80c7",
   "metadata": {},
   "source": [
    "# Conjunto vacío"
   ]
  },
  {
   "cell_type": "code",
   "execution_count": 4,
   "id": "096a601c",
   "metadata": {},
   "outputs": [
    {
     "name": "stdout",
     "output_type": "stream",
     "text": [
      "Conjunto vacío\n",
      "set()\n",
      "<class 'set'>\n"
     ]
    }
   ],
   "source": [
    "print(\"Conjunto vacío\")\n",
    "conjunto = set()\n",
    "print(conjunto)\n",
    "print(type(conjunto))"
   ]
  },
  {
   "cell_type": "markdown",
   "id": "3d361c92",
   "metadata": {},
   "source": [
    "# Conjunto a partir de la cadena"
   ]
  },
  {
   "cell_type": "code",
   "execution_count": 5,
   "id": "9931fcd4",
   "metadata": {},
   "outputs": [
    {
     "name": "stdout",
     "output_type": "stream",
     "text": [
      "Conjunto a partir de la cadena\n",
      "{'M', 'n', ' ', 'd', 'a', 'o', 'l', 'u', 'H'}\n",
      "<class 'set'>\n"
     ]
    }
   ],
   "source": [
    "print(\"Conjunto a partir de la cadena\")\n",
    "cadena = 'Hola Mundo'\n",
    "conjunto = set(cadena)\n",
    "print(conjunto)\n",
    "print(type(conjunto))"
   ]
  },
  {
   "cell_type": "markdown",
   "id": "2d63496e",
   "metadata": {},
   "source": [
    "# Conjunto a partir de una tupla"
   ]
  },
  {
   "cell_type": "code",
   "execution_count": 6,
   "id": "6388df3a",
   "metadata": {},
   "outputs": [
    {
     "name": "stdout",
     "output_type": "stream",
     "text": [
      "Conjunto a partir de una tupla\n",
      "{1, 2, 3, 4, 5}\n",
      "<class 'set'>\n"
     ]
    }
   ],
   "source": [
    "print(\"Conjunto a partir de una tupla\")\n",
    "tupla = (1, 2, 3, 4, 5, 5)\n",
    "conjunto = set(tupla)\n",
    "print(conjunto)\n",
    "print(type(conjunto))"
   ]
  },
  {
   "cell_type": "markdown",
   "id": "1f45773d",
   "metadata": {},
   "source": [
    "# Conjunto a partir de una lista"
   ]
  },
  {
   "cell_type": "code",
   "execution_count": 7,
   "id": "90ed97cd",
   "metadata": {},
   "outputs": [
    {
     "name": "stdout",
     "output_type": "stream",
     "text": [
      "Conjunto a partir de una lista\n",
      "{False, True}\n",
      "<class 'set'>\n"
     ]
    }
   ],
   "source": [
    "print(\"Conjunto a partir de una lista\")\n",
    "lista = [True, False, 0, 1]\n",
    "conjunto = set(lista)\n",
    "print(conjunto)\n",
    "print(type(conjunto))"
   ]
  },
  {
   "cell_type": "markdown",
   "id": "71f2ab59",
   "metadata": {},
   "source": [
    "# Conjunto por comprensión"
   ]
  },
  {
   "cell_type": "code",
   "execution_count": 8,
   "id": "becf5eca",
   "metadata": {},
   "outputs": [
    {
     "name": "stdout",
     "output_type": "stream",
     "text": [
      "Conjunto por comprensión\n",
      "{'🍕', '🍔', '🍟'}\n",
      "<class 'set'>\n"
     ]
    }
   ],
   "source": [
    "print(\"Conjunto por comprensión\")\n",
    "conjunto = {x for x in '🍕🍔🍟🍕🍔🍟🍔🍟'}\n",
    "print(conjunto)\n",
    "print(type(conjunto))"
   ]
  },
  {
   "cell_type": "markdown",
   "id": "ed16dc73",
   "metadata": {},
   "source": [
    "# Indexación y Slicing (Errores)"
   ]
  },
  {
   "cell_type": "code",
   "execution_count": 9,
   "id": "e8a55040",
   "metadata": {},
   "outputs": [
    {
     "ename": "TypeError",
     "evalue": "'set' object is not subscriptable",
     "output_type": "error",
     "traceback": [
      "\u001b[31m---------------------------------------------------------------------------\u001b[39m",
      "\u001b[31mTypeError\u001b[39m                                 Traceback (most recent call last)",
      "\u001b[36mCell\u001b[39m\u001b[36m \u001b[39m\u001b[32mIn[9]\u001b[39m\u001b[32m, line 2\u001b[39m\n\u001b[32m      1\u001b[39m conjunto = {\u001b[32m1\u001b[39m, \u001b[32m2\u001b[39m, \u001b[32m3\u001b[39m, \u001b[32m4\u001b[39m, \u001b[32m5\u001b[39m}\n\u001b[32m----> \u001b[39m\u001b[32m2\u001b[39m \u001b[38;5;28mprint\u001b[39m(\u001b[43mconjunto\u001b[49m\u001b[43m[\u001b[49m\u001b[32;43m0\u001b[39;49m\u001b[43m]\u001b[49m) \u001b[38;5;66;03m# TypeError: 'set' object is not subscriptable\u001b[39;00m\n",
      "\u001b[31mTypeError\u001b[39m: 'set' object is not subscriptable"
     ]
    }
   ],
   "source": [
    "conjunto = {1, 2, 3, 4, 5}\n",
    "print(conjunto[0]) # TypeError: 'set' object is not subscriptable"
   ]
  },
  {
   "cell_type": "code",
   "execution_count": null,
   "id": "9d596102",
   "metadata": {},
   "outputs": [],
   "source": [
    "conjunto = {1, 2, 3, 4, 5}\n",
    "print(conjunto[0:3]) # TypeError: 'set' object is not subscriptable"
   ]
  },
  {
   "cell_type": "markdown",
   "id": "a6a53549",
   "metadata": {},
   "source": [
    "# Concatenación de conjuntos (Error)"
   ]
  },
  {
   "cell_type": "code",
   "execution_count": null,
   "id": "598f46cc",
   "metadata": {},
   "outputs": [],
   "source": [
    "conjunto1 = {1, 2, 3}\n",
    "conjunto2 = {4, 5, 6}\n",
    "print(conjunto1 + conjunto2)\n",
    "# TypeError: unsupported operand type(s) for +: 'set' and 'set'"
   ]
  },
  {
   "cell_type": "markdown",
   "id": "9b09add1",
   "metadata": {},
   "source": [
    "# Repetición con conjuntos (Error)"
   ]
  },
  {
   "cell_type": "code",
   "execution_count": null,
   "id": "b5d117f2",
   "metadata": {},
   "outputs": [],
   "source": [
    "conjunto = {1, 2, 3}\n",
    "print(conjunto * 3)\n",
    "# TypeError: unsupported operand type(s) for *: 'set' and 'int'"
   ]
  },
  {
   "cell_type": "markdown",
   "id": "fa58feb6",
   "metadata": {},
   "source": [
    "# Método add()"
   ]
  },
  {
   "cell_type": "code",
   "execution_count": 10,
   "id": "a0e94a62",
   "metadata": {},
   "outputs": [
    {
     "name": "stdout",
     "output_type": "stream",
     "text": [
      "Método add()\n",
      "{'🌭', '🍕', '🍔', '🍟'}\n",
      "{'🍟', '🌭', '🍕', '🥗', '🍔'}\n"
     ]
    }
   ],
   "source": [
    "print(\"Método add()\")\n",
    "conjunto = {'🍕','🍔','🍟','🌭'}\n",
    "print(conjunto)\n",
    "conjunto.add('🥗')\n",
    "print(conjunto)"
   ]
  },
  {
   "cell_type": "markdown",
   "id": "4eb65abd",
   "metadata": {},
   "source": [
    "# Método update()"
   ]
  },
  {
   "cell_type": "code",
   "execution_count": 11,
   "id": "3ebe00dc",
   "metadata": {},
   "outputs": [
    {
     "name": "stdout",
     "output_type": "stream",
     "text": [
      "Método update()\n",
      "{'🌭', '🍕', '🍔', '🍟'}\n",
      "{'🍦', '🍟', '🥤', '🌭', '🍕', '🍔'}\n",
      "{'🍩', '🍦', '🍟', '🍪', '🥤', '🌭', '🍕', '🍔'}\n",
      "{'🍬', '🍩', '🍫', '🍦', '🍟', '🍪', '🥤', '🌭', '🍕', '🍔'}\n",
      "{'🍬', '🍩', '🍫', '🍦', '🍟', '🍪', '🍮', '🍭', '🥤', '🌭', '🍕', '🍔'}\n"
     ]
    }
   ],
   "source": [
    "print(\"Método update()\")\n",
    "conjunto = {'🍕','🍔','🍟','🌭'}\n",
    "print(conjunto)\n",
    "conjunto.update(['🥤','🍦'])\n",
    "print(conjunto)\n",
    "conjunto.update('🍩🍪')\n",
    "print(conjunto)\n",
    "conjunto.update(('🍫','🍬'))\n",
    "print(conjunto)\n",
    "conjunto.update({'🍭','🍮'})\n",
    "print(conjunto)"
   ]
  },
  {
   "cell_type": "markdown",
   "id": "c39677e0",
   "metadata": {},
   "source": [
    "# Método remove()"
   ]
  },
  {
   "cell_type": "code",
   "execution_count": 12,
   "id": "6408da07",
   "metadata": {},
   "outputs": [
    {
     "name": "stdout",
     "output_type": "stream",
     "text": [
      "Método remove()\n",
      "{'🌭', '🍕', '🍔', '🍟'}\n",
      "{'🌭', '🍕', '🍟'}\n"
     ]
    }
   ],
   "source": [
    "print(\"Método remove()\")\n",
    "conjunto = {'🍕','🍔','🍟','🌭'} \n",
    "print(conjunto)\n",
    "conjunto.remove('🍔')\n",
    "print(conjunto)\n",
    "# conjunto.remove('🍔')\n",
    "# print(conjunto)\n",
    "# KeyError: '🍔'"
   ]
  },
  {
   "cell_type": "markdown",
   "id": "f5bbd431",
   "metadata": {},
   "source": [
    "# Método discard()"
   ]
  },
  {
   "cell_type": "code",
   "execution_count": 13,
   "id": "3ba5457d",
   "metadata": {},
   "outputs": [
    {
     "name": "stdout",
     "output_type": "stream",
     "text": [
      "Método discard()\n",
      "{'🌭', '🍕', '🍔', '🍟'}\n",
      "{'🌭', '🍕', '🍟'}\n",
      "{'🌭', '🍕', '🍟'}\n"
     ]
    }
   ],
   "source": [
    "print(\"Método discard()\")\n",
    "conjunto = {'🍕','🍔','🍟','🌭'}\n",
    "print(conjunto)\n",
    "conjunto.discard('🍔')\n",
    "print(conjunto)\n",
    "conjunto.discard('🍔')\n",
    "print(conjunto)"
   ]
  },
  {
   "cell_type": "markdown",
   "id": "3ebf1f46",
   "metadata": {},
   "source": [
    "# Método pop()"
   ]
  },
  {
   "cell_type": "code",
   "execution_count": 14,
   "id": "5f816139",
   "metadata": {},
   "outputs": [
    {
     "name": "stdout",
     "output_type": "stream",
     "text": [
      "Método pop()\n",
      "{'🌭', '🥤', '🍕', '🍔', '🍦', '🍟'}\n",
      "🌭\n",
      "{'🥤', '🍕', '🍔', '🍦', '🍟'}\n",
      "🥤\n",
      "{'🍕', '🍔', '🍦', '🍟'}\n"
     ]
    }
   ],
   "source": [
    "print(\"Método pop()\")\n",
    "conjunto = {'🍕','🍔','🍟','🌭', '🥤','🍦'}\n",
    "print(conjunto)\n",
    "print(conjunto.pop())\n",
    "print(conjunto)\n",
    "print(conjunto.pop())\n",
    "print(conjunto)"
   ]
  },
  {
   "cell_type": "markdown",
   "id": "fe2f926f",
   "metadata": {},
   "source": [
    "# Método clear()"
   ]
  },
  {
   "cell_type": "code",
   "execution_count": 15,
   "id": "84cbcddc",
   "metadata": {},
   "outputs": [
    {
     "name": "stdout",
     "output_type": "stream",
     "text": [
      "Método clear()\n",
      "{'🌭', '🍕', '🍔', '🍟'}\n",
      "set()\n"
     ]
    }
   ],
   "source": [
    "print(\"Método clear()\")\n",
    "conjunto = {'🍕','🍔','🍟','🌭'}\n",
    "print(conjunto)\n",
    "conjunto.clear()\n",
    "print(conjunto)"
   ]
  },
  {
   "cell_type": "markdown",
   "id": "32604267",
   "metadata": {},
   "source": [
    "# Método union()"
   ]
  },
  {
   "cell_type": "code",
   "execution_count": 16,
   "id": "bc35622c",
   "metadata": {},
   "outputs": [
    {
     "name": "stdout",
     "output_type": "stream",
     "text": [
      "Método union()\n",
      "{'🥤', '🍔', '🍟'} {'🥤', '🍕', '🍨'}\n",
      "{'🥤', '🍕', '🍔', '🍟', '🍨'}\n"
     ]
    }
   ],
   "source": [
    "print(\"Método union()\")\n",
    "conjunto1 = {'🍔','🍟', '🥤'}\n",
    "conjunto2 = {'🍕','🍨','🥤'}\n",
    "print(conjunto1, conjunto2)\n",
    "union = conjunto1.union(conjunto2)\n",
    "print(union)"
   ]
  },
  {
   "cell_type": "markdown",
   "id": "97fc849d",
   "metadata": {},
   "source": [
    "# Método intersection()"
   ]
  },
  {
   "cell_type": "code",
   "execution_count": 17,
   "id": "90917b8b",
   "metadata": {},
   "outputs": [
    {
     "name": "stdout",
     "output_type": "stream",
     "text": [
      "Método intersection()\n",
      "{'🥤', '🍔', '🍟'} {'🥤', '🍕', '🍨'}\n",
      "{'🥤'}\n"
     ]
    }
   ],
   "source": [
    "print(\"Método intersection()\")\n",
    "conjunto1 = {'🍔','🍟', '🥤'}\n",
    "conjunto2 = {'🍕','🍨','🥤'}\n",
    "print(conjunto1, conjunto2)\n",
    "interseccion = conjunto1.intersection(conjunto2)\n",
    "print(interseccion)"
   ]
  },
  {
   "cell_type": "markdown",
   "id": "67dff089",
   "metadata": {},
   "source": [
    "# Método difference()"
   ]
  },
  {
   "cell_type": "code",
   "execution_count": 18,
   "id": "4d368cde",
   "metadata": {},
   "outputs": [
    {
     "name": "stdout",
     "output_type": "stream",
     "text": [
      "Método difference()\n",
      "1: {'🥤', '🍔', '🍟'} 2: {'🥤', '🍕', '🍨'}\n",
      "1 y 2: {'🍔', '🍟'}\n",
      "2 y 1: {'🍕', '🍨'}\n"
     ]
    }
   ],
   "source": [
    "print(\"Método difference()\")\n",
    "conjunto1 = {'🍔','🍟', '🥤'}\n",
    "conjunto2 = {'🍕','🍨','🥤'}\n",
    "print(\"1:\", conjunto1, \"2:\", conjunto2)\n",
    "diferencia = conjunto1.difference(conjunto2)\n",
    "print(\"1 y 2:\", diferencia)\n",
    "diferencia = conjunto2.difference(conjunto1)\n",
    "print(\"2 y 1:\", diferencia)"
   ]
  },
  {
   "cell_type": "markdown",
   "id": "de38b986",
   "metadata": {},
   "source": [
    "# Método symmetric_difference()"
   ]
  },
  {
   "cell_type": "code",
   "execution_count": 19,
   "id": "d2d7aae3",
   "metadata": {},
   "outputs": [
    {
     "name": "stdout",
     "output_type": "stream",
     "text": [
      "Método symmetric_difference()\n",
      "{'🥤', '🍔', '🍟'} {'🥤', '🍕', '🍨'}\n",
      "{'🍟', '🍨', '🍕', '🍔'}\n"
     ]
    }
   ],
   "source": [
    "print(\"Método symmetric_difference()\")\n",
    "conjunto1 = {'🍔','🍟', '🥤'}\n",
    "conjunto2 = {'🍕','🍨','🥤'}\n",
    "print(conjunto1, conjunto2)\n",
    "diferencia_simetrica = conjunto1.symmetric_difference(conjunto2)\n",
    "print(diferencia_simetrica)"
   ]
  },
  {
   "cell_type": "markdown",
   "id": "05ae4acf",
   "metadata": {},
   "source": [
    "# Método intersection_update()"
   ]
  },
  {
   "cell_type": "code",
   "execution_count": 20,
   "id": "529cfdfc",
   "metadata": {},
   "outputs": [
    {
     "name": "stdout",
     "output_type": "stream",
     "text": [
      "Método intersection_update()\n",
      "{'🥤', '🍔', '🍟'} {'🥤', '🍕', '🍨'}\n",
      "{'🥤'}\n"
     ]
    }
   ],
   "source": [
    "print(\"Método intersection_update()\")\n",
    "conjunto1 = {'🍔','🍟', '🥤'}\n",
    "conjunto2 = {'🍕','🍨','🥤'}\n",
    "print(conjunto1, conjunto2)\n",
    "conjunto1.intersection_update(conjunto2)\n",
    "print(conjunto1)"
   ]
  },
  {
   "cell_type": "markdown",
   "id": "3d256b3a",
   "metadata": {},
   "source": [
    "# Método difference_update()"
   ]
  },
  {
   "cell_type": "code",
   "execution_count": 21,
   "id": "9b4fea66",
   "metadata": {},
   "outputs": [
    {
     "name": "stdout",
     "output_type": "stream",
     "text": [
      "Método difference_update()\n",
      "1: {'🥤', '🍔', '🍟'} 2: {'🥤', '🍕', '🍨'}\n",
      "1: {'🍔', '🍟'} 2: {'🥤', '🍕', '🍨'}\n"
     ]
    }
   ],
   "source": [
    "print(\"Método difference_update()\")\n",
    "conjunto1 = {'🍔','🍟', '🥤'}\n",
    "conjunto2 = {'🍕','🍨','🥤'}\n",
    "print(\"1:\", conjunto1, \"2:\", conjunto2)\n",
    "conjunto1.difference_update(conjunto2)\n",
    "print(\"1:\", conjunto1, \"2:\", conjunto2)"
   ]
  },
  {
   "cell_type": "markdown",
   "id": "50fe1332",
   "metadata": {},
   "source": [
    "# Método symmetric_difference_update()"
   ]
  },
  {
   "cell_type": "code",
   "execution_count": 22,
   "id": "00c6e38d",
   "metadata": {},
   "outputs": [
    {
     "name": "stdout",
     "output_type": "stream",
     "text": [
      "Método symmetric_difference_update()\n",
      "{'🥤', '🍔', '🍟'} {'🥤', '🍕', '🍨'}\n",
      "{'🍟', '🍨', '🍕', '🍔'}\n"
     ]
    }
   ],
   "source": [
    "print(\"Método symmetric_difference_update()\")\n",
    "conjunto1 = {'🍔','🍟', '🥤'}\n",
    "conjunto2 = {'🍕','🍨','🥤'}\n",
    "print(conjunto1, conjunto2)\n",
    "conjunto1.symmetric_difference_update(conjunto2)\n",
    "print(conjunto1)"
   ]
  },
  {
   "cell_type": "markdown",
   "id": "3b35c0d0",
   "metadata": {},
   "source": [
    "# Método issubset()"
   ]
  },
  {
   "cell_type": "code",
   "execution_count": 23,
   "id": "52ec61af",
   "metadata": {},
   "outputs": [
    {
     "name": "stdout",
     "output_type": "stream",
     "text": [
      "Método issubset()\n",
      "{'🥤', '🍔', '🍟'} {'🥤', '🍕', '🍨'} {'🍔', '🍟'}\n",
      "False\n",
      "True\n"
     ]
    }
   ],
   "source": [
    "print(\"Método issubset()\")\n",
    "conjunto1 = {'🍔','🍟', '🥤'}\n",
    "conjunto2 = {'🍕','🍨','🥤'}\n",
    "conjunto3 = {'🍔','🍟'}\n",
    "print(conjunto1, conjunto2, conjunto3)\n",
    "print(conjunto1.issubset(conjunto2))\n",
    "print(conjunto3.issubset(conjunto1))"
   ]
  },
  {
   "cell_type": "markdown",
   "id": "8ecffa7b",
   "metadata": {},
   "source": [
    "# Método issuperset()"
   ]
  },
  {
   "cell_type": "code",
   "execution_count": 24,
   "id": "9e0c2f17",
   "metadata": {},
   "outputs": [
    {
     "name": "stdout",
     "output_type": "stream",
     "text": [
      "Método issuperset()\n",
      "{'🥤', '🍔', '🍟'} {'🥤', '🍕', '🍨'} {'🍔', '🍟'}\n",
      "False\n",
      "True\n"
     ]
    }
   ],
   "source": [
    "print(\"Método issuperset()\")\n",
    "conjunto1 = {'🍔','🍟', '🥤'}\n",
    "conjunto2 = {'🍕','🍨','🥤'}\n",
    "conjunto3 = {'🍔','🍟'}\n",
    "print(conjunto1, conjunto2, conjunto3)\n",
    "print(conjunto1.issuperset(conjunto2))\n",
    "print(conjunto1.issuperset(conjunto3))"
   ]
  },
  {
   "cell_type": "markdown",
   "id": "0b9165e1",
   "metadata": {},
   "source": [
    "# Método isdisjoint()"
   ]
  },
  {
   "cell_type": "code",
   "execution_count": 25,
   "id": "b4e4c3ee",
   "metadata": {},
   "outputs": [
    {
     "name": "stdout",
     "output_type": "stream",
     "text": [
      "Método isdisjoint()\n",
      "{'🥤', '🍔', '🍟'} {'🍕', '🍨'} {'🍔', '🍟'}\n",
      "True\n",
      "False\n"
     ]
    }
   ],
   "source": [
    "print(\"Método isdisjoint()\")\n",
    "conjunto1 = {'🍔','🍟', '🥤'}\n",
    "conjunto2 = {'🍕','🍨'}\n",
    "conjunto3 = {'🍔','🍟'}\n",
    "print(conjunto1, conjunto2, conjunto3)\n",
    "print(conjunto1.isdisjoint(conjunto2))\n",
    "print(conjunto1.isdisjoint(conjunto3))"
   ]
  },
  {
   "cell_type": "markdown",
   "id": "4be29ae9",
   "metadata": {},
   "source": [
    "# Asignación por referencia"
   ]
  },
  {
   "cell_type": "code",
   "execution_count": 26,
   "id": "8c05cdaa",
   "metadata": {},
   "outputs": [
    {
     "name": "stdout",
     "output_type": "stream",
     "text": [
      "Asignación por referencia\n",
      "{'🌭', '🍕', '🍔', '🍟'}\n",
      "{'🍟', '🌭', '🍕', '🥗', '🍔'}\n",
      "{'🍟', '🌭', '🍕', '🥗', '🍔'}\n"
     ]
    }
   ],
   "source": [
    "print(\"Asignación por referencia\")\n",
    "conjunto = {'🍕','🍔','🍟','🌭'}\n",
    "print(conjunto)\n",
    "copia = conjunto\n",
    "copia.add('🥗')\n",
    "print(conjunto)\n",
    "print(copia)"
   ]
  },
  {
   "cell_type": "markdown",
   "id": "24b7377b",
   "metadata": {},
   "source": [
    "# Método copy()"
   ]
  },
  {
   "cell_type": "code",
   "execution_count": 27,
   "id": "611ef9a6",
   "metadata": {},
   "outputs": [
    {
     "name": "stdout",
     "output_type": "stream",
     "text": [
      "Método copy()\n",
      "{'🌭', '🍕', '🍔', '🍟'}\n",
      "{'🌭', '🍕', '🍔', '🍟'}\n",
      "{'🍟', '🌭', '🍕', '🥗', '🍔'}\n"
     ]
    }
   ],
   "source": [
    "print(\"Método copy()\")\n",
    "conjunto = {'🍕','🍔','🍟','🌭'}\n",
    "print(conjunto)\n",
    "copia = conjunto.copy()\n",
    "copia.add('🥗')\n",
    "print(conjunto)\n",
    "print(copia)"
   ]
  },
  {
   "cell_type": "markdown",
   "id": "5860d175",
   "metadata": {},
   "source": [
    "# Función len()"
   ]
  },
  {
   "cell_type": "code",
   "execution_count": 28,
   "id": "dbd83ecd",
   "metadata": {},
   "outputs": [
    {
     "name": "stdout",
     "output_type": "stream",
     "text": [
      "Función len()\n",
      "{'🌭', '🍕', '🍔', '🍟'}\n",
      "4\n"
     ]
    }
   ],
   "source": [
    "print (\"Función len()\")\n",
    "conjunto = {'🍕','🍔','🍟','🌭'}\n",
    "print (conjunto)\n",
    "print(len(conjunto))"
   ]
  },
  {
   "cell_type": "markdown",
   "id": "d6a562e8",
   "metadata": {},
   "source": [
    "# Función max()"
   ]
  },
  {
   "cell_type": "code",
   "execution_count": 29,
   "id": "d6bd6ce1",
   "metadata": {},
   "outputs": [
    {
     "name": "stdout",
     "output_type": "stream",
     "text": [
      "Función max()\n",
      "{1, 2, 3, 4, 5}\n",
      "5\n",
      "{'🌭', '🍕', '🍔', '🍟'}\n",
      "🍟\n"
     ]
    }
   ],
   "source": [
    "print (\"Función max()\")\n",
    "conjunto = {1, 2, 3, 4, 5}\n",
    "print (conjunto)\n",
    "print (max(conjunto))\n",
    "conjunto = {'🍕','🍔','🍟','🌭'}\n",
    "print (conjunto)\n",
    "print(max(conjunto))"
   ]
  },
  {
   "cell_type": "markdown",
   "id": "3be1bce9",
   "metadata": {},
   "source": [
    "# Función min()"
   ]
  },
  {
   "cell_type": "code",
   "execution_count": 31,
   "id": "3632de1b",
   "metadata": {},
   "outputs": [
    {
     "name": "stdout",
     "output_type": "stream",
     "text": [
      "Función min()\n",
      "{1, 2, 3, 4, 5}\n",
      "1\n",
      "{'🍕', '🍔', '🍟', '🍨'}\n",
      "🍔\n"
     ]
    }
   ],
   "source": [
    "print (\"Función min()\")\n",
    "conjunto = {1, 2, 3, 4, 5}\n",
    "print (conjunto)\n",
    "print (min(conjunto))\n",
    "conjunto = {'🍨','🍔','🍟','🍕'}\n",
    "print (conjunto)\n",
    "print(min(conjunto))"
   ]
  },
  {
   "cell_type": "markdown",
   "id": "81225f7f",
   "metadata": {},
   "source": [
    "# Función sum()"
   ]
  },
  {
   "cell_type": "code",
   "execution_count": 32,
   "id": "3e31207d",
   "metadata": {},
   "outputs": [
    {
     "name": "stdout",
     "output_type": "stream",
     "text": [
      "Función sum()\n",
      "{1, 2, 3, 4, 5}\n",
      "15\n"
     ]
    }
   ],
   "source": [
    "print (\"Función sum()\")\n",
    "conjunto = {1, 2, 3, 4, 5}\n",
    "print (conjunto)\n",
    "print (sum(conjunto))"
   ]
  },
  {
   "cell_type": "markdown",
   "id": "0ab1b90a",
   "metadata": {},
   "source": [
    "# Operadores de adición"
   ]
  },
  {
   "cell_type": "markdown",
   "id": "1af2b4f4",
   "metadata": {},
   "source": [
    "# Operador |=\""
   ]
  },
  {
   "cell_type": "code",
   "execution_count": 33,
   "id": "ccdf6068",
   "metadata": {},
   "outputs": [
    {
     "name": "stdout",
     "output_type": "stream",
     "text": [
      "Operador |=\n",
      "{'🥤', '🍔', '🍟'} {'🍕', '🍨'}\n",
      "{'🥤', '🍕', '🍔', '🍟', '🍨'}\n"
     ]
    }
   ],
   "source": [
    "print (\"Operador |=\")\n",
    "conjunto1 = {'🍔','🍟', '🥤'}\n",
    "conjunto2 = {'🍕','🍨'}\n",
    "print (conjunto1, conjunto2)\n",
    "conjunto1 |= conjunto2\n",
    "print(conjunto1)"
   ]
  },
  {
   "cell_type": "markdown",
   "id": "b3ba93ad",
   "metadata": {},
   "source": [
    "# Operador =="
   ]
  },
  {
   "cell_type": "code",
   "execution_count": 34,
   "id": "ce926ee2",
   "metadata": {},
   "outputs": [
    {
     "name": "stdout",
     "output_type": "stream",
     "text": [
      "Operador ==\n",
      "{'🥤', '🍔', '🍟'} {'🥤', '🍔', '🍟'} {'🍕', '🍨'}\n",
      "True\n",
      "False\n"
     ]
    }
   ],
   "source": [
    "print (\"Operador ==\")\n",
    "conjunto1 = {'🍔','🍟', '🥤'}\n",
    "conjunto2 = {'🍔','🍟', '🥤'}\n",
    "conjunto3 = {'🍕','🍨'}\n",
    "print (conjunto1, conjunto2, conjunto3)\n",
    "print(conjunto1 == conjunto2)\n",
    "print(conjunto1 == conjunto3)"
   ]
  },
  {
   "cell_type": "markdown",
   "id": "592a1798",
   "metadata": {},
   "source": [
    "# Operador !="
   ]
  },
  {
   "cell_type": "code",
   "execution_count": 35,
   "id": "90a2dfa3",
   "metadata": {},
   "outputs": [
    {
     "name": "stdout",
     "output_type": "stream",
     "text": [
      "Operador !=\n",
      "{'🥤', '🍔', '🍟'} {'🥤', '🍔', '🍟'} {'🍕', '🍨'}\n",
      "False\n",
      "True\n"
     ]
    }
   ],
   "source": [
    "print (\"Operador !=\")\n",
    "conjunto1 = {'🍔','🍟', '🥤'}\n",
    "conjunto2 = {'🍔','🍟', '🥤'}\n",
    "conjunto3 = {'🍕','🍨'}\n",
    "print (conjunto1, conjunto2, conjunto3)\n",
    "print(conjunto1 != conjunto2)\n",
    "print(conjunto1 != conjunto3)"
   ]
  },
  {
   "cell_type": "markdown",
   "id": "77549ef8",
   "metadata": {},
   "source": [
    "# Operador <"
   ]
  },
  {
   "cell_type": "code",
   "execution_count": 36,
   "id": "cdd214ab",
   "metadata": {},
   "outputs": [
    {
     "name": "stdout",
     "output_type": "stream",
     "text": [
      "Operador <\n",
      "{'🍔', '🍟'} {'🥤', '🍔', '🍟'} {'🍕', '🍨'}\n",
      "True\n",
      "False\n"
     ]
    }
   ],
   "source": [
    "print (\"Operador <\")\n",
    "conjunto1 = {'🍔','🍟'}\n",
    "conjunto2 = {'🍔','🍟', '🥤'}\n",
    "conjunto3 = {'🍕','🍨'}\n",
    "print (conjunto1, conjunto2, conjunto3)\n",
    "print(conjunto1 < conjunto2)\n",
    "print(conjunto1 < conjunto3)"
   ]
  },
  {
   "cell_type": "markdown",
   "id": "0be364fb",
   "metadata": {},
   "source": [
    "# Operador >"
   ]
  },
  {
   "cell_type": "code",
   "execution_count": 37,
   "id": "ac9eb1d8",
   "metadata": {},
   "outputs": [
    {
     "name": "stdout",
     "output_type": "stream",
     "text": [
      "Operador >\n",
      "{'🥤', '🍕', '🍔', '🍟'} {'🥤', '🍔', '🍟'} {'🍕', '🍨'}\n",
      "True\n",
      "False\n"
     ]
    }
   ],
   "source": [
    "print (\"Operador >\")\n",
    "conjunto1 = {'🍔','🍟','🥤','🍕'}\n",
    "conjunto2 = {'🍔','🍟', '🥤'}\n",
    "conjunto3 = {'🍕','🍨'}\n",
    "print (conjunto1, conjunto2, conjunto3)\n",
    "print(conjunto1 > conjunto2)\n",
    "print(conjunto1 > conjunto3)"
   ]
  },
  {
   "cell_type": "markdown",
   "id": "abcf04cd",
   "metadata": {},
   "source": [
    "# Operador <="
   ]
  },
  {
   "cell_type": "code",
   "execution_count": 38,
   "id": "c58e9522",
   "metadata": {},
   "outputs": [
    {
     "name": "stdout",
     "output_type": "stream",
     "text": [
      "Operador <=\n",
      "{'🍔', '🍟'} {'🍔', '🍟'} {'🍕', '🍨'}\n",
      "True\n",
      "False\n"
     ]
    }
   ],
   "source": [
    "print (\"Operador <=\")\n",
    "conjunto1 = {'🍔','🍟'}\n",
    "conjunto2 = {'🍔','🍟'}\n",
    "conjunto3 = {'🍕','🍨'}\n",
    "print (conjunto1, conjunto2, conjunto3)\n",
    "print(conjunto1 <= conjunto2)\n",
    "print(conjunto1 <= conjunto3)"
   ]
  },
  {
   "cell_type": "markdown",
   "id": "b92d8c1d",
   "metadata": {},
   "source": [
    "# Operador >="
   ]
  },
  {
   "cell_type": "code",
   "execution_count": 39,
   "id": "b6ff35cb",
   "metadata": {},
   "outputs": [
    {
     "name": "stdout",
     "output_type": "stream",
     "text": [
      "Operador >=\n",
      "{'🍔', '🍟'} {'🍔', '🍟'} {'🍕', '🍨'}\n",
      "True\n",
      "False\n"
     ]
    }
   ],
   "source": [
    "print (\"Operador >=\")\n",
    "conjunto1 = {'🍔','🍟'}\n",
    "conjunto2 = {'🍔','🍟'}\n",
    "conjunto3 = {'🍕','🍨'}\n",
    "print (conjunto1, conjunto2, conjunto3)\n",
    "print(conjunto1 >= conjunto2)\n",
    "print(conjunto1 >= conjunto3)"
   ]
  },
  {
   "cell_type": "markdown",
   "id": "720e5bca",
   "metadata": {},
   "source": [
    "# Operadores para operaciones con conjuntos"
   ]
  },
  {
   "cell_type": "markdown",
   "id": "23717070",
   "metadata": {},
   "source": [
    "# Operador |"
   ]
  },
  {
   "cell_type": "code",
   "execution_count": 40,
   "id": "bc412c2f",
   "metadata": {},
   "outputs": [
    {
     "name": "stdout",
     "output_type": "stream",
     "text": [
      "Operador |\n",
      "{'🥤', '🍔', '🍟'} {'🥤', '🍕', '🍨'}\n",
      "{'🥤', '🍕', '🍔', '🍟', '🍨'}\n"
     ]
    }
   ],
   "source": [
    "print (\"Operador |\")\n",
    "conjunto1 = {'🍔','🍟', '🥤'}\n",
    "conjunto2 = {'🍕','🍨','🥤'}\n",
    "print (conjunto1, conjunto2)\n",
    "union = conjunto1 | conjunto2\n",
    "print(union)"
   ]
  },
  {
   "cell_type": "markdown",
   "id": "6d0fe76a",
   "metadata": {},
   "source": [
    "# Operador &"
   ]
  },
  {
   "cell_type": "code",
   "execution_count": 41,
   "id": "a4a60ecf",
   "metadata": {},
   "outputs": [
    {
     "name": "stdout",
     "output_type": "stream",
     "text": [
      "Operador &\n",
      "{'🥤', '🍔', '🍟'} {'🥤', '🍕', '🍨'}\n",
      "{'🥤'}\n"
     ]
    }
   ],
   "source": [
    "print (\"Operador &\")\n",
    "conjunto1 = {'🍔','🍟', '🥤'}\n",
    "conjunto2 = {'🍕','🍨','🥤'}\n",
    "print (conjunto1, conjunto2)\n",
    "interseccion = conjunto1 & conjunto2\n",
    "print(interseccion)"
   ]
  },
  {
   "cell_type": "markdown",
   "id": "c7d2f5ee",
   "metadata": {},
   "source": [
    "# Operador -"
   ]
  },
  {
   "cell_type": "code",
   "execution_count": 42,
   "id": "3242d726",
   "metadata": {},
   "outputs": [
    {
     "name": "stdout",
     "output_type": "stream",
     "text": [
      "Operador -\n",
      "1: {'🥤', '🍔', '🍟'} 2: {'🥤', '🍕', '🍨'}\n",
      "1 - 2: {'🍔', '🍟'}\n",
      "2 - 1: {'🍕', '🍨'}\n"
     ]
    }
   ],
   "source": [
    "print (\"Operador -\")\n",
    "conjunto1 = {'🍔','🍟', '🥤'}\n",
    "conjunto2 = {'🍕','🍨','🥤'}\n",
    "print (\"1:\",conjunto1, \"2:\",conjunto2)\n",
    "diferencia = conjunto1 - conjunto2\n",
    "print(\"1 - 2:\",diferencia)\n",
    "diferencia = conjunto2 - conjunto1\n",
    "print(\"2 - 1:\",diferencia)"
   ]
  },
  {
   "cell_type": "markdown",
   "id": "fd21c298",
   "metadata": {},
   "source": [
    "# Operador ^"
   ]
  },
  {
   "cell_type": "code",
   "execution_count": 43,
   "id": "934e4e1c",
   "metadata": {},
   "outputs": [
    {
     "name": "stdout",
     "output_type": "stream",
     "text": [
      "Operador ^\n",
      "{'🥤', '🍔', '🍟'} {'🥤', '🍕', '🍨'}\n",
      "{'🍟', '🍨', '🍕', '🍔'}\n"
     ]
    }
   ],
   "source": [
    "print (\"Operador ^\")\n",
    "conjunto1 = {'🍔','🍟', '🥤'}\n",
    "conjunto2 = {'🍕','🍨','🥤'}\n",
    "print (conjunto1, conjunto2)\n",
    "diferencia_simetrica = conjunto1 ^ conjunto2\n",
    "print(diferencia_simetrica)"
   ]
  },
  {
   "cell_type": "markdown",
   "id": "cbe11437",
   "metadata": {},
   "source": [
    "# Operadores para asignación con operaciones"
   ]
  },
  {
   "cell_type": "markdown",
   "id": "97e7338d",
   "metadata": {},
   "source": [
    "# Operador |= Unión"
   ]
  },
  {
   "cell_type": "code",
   "execution_count": 44,
   "id": "0837a15e",
   "metadata": {},
   "outputs": [
    {
     "name": "stdout",
     "output_type": "stream",
     "text": [
      "Operador |= Unión\n",
      "{'🥤', '🍔', '🍟'} {'🥤', '🍕', '🍨'}\n",
      "{'🥤', '🍕', '🍔', '🍟', '🍨'}\n"
     ]
    }
   ],
   "source": [
    "print (\"Operador |= Unión\")\n",
    "conjunto1 = {'🍔','🍟', '🥤'}\n",
    "conjunto2 = {'🍕','🍨','🥤'}\n",
    "print (conjunto1, conjunto2)\n",
    "conjunto1 |= conjunto2\n",
    "print(conjunto1)"
   ]
  },
  {
   "cell_type": "markdown",
   "id": "02ed9070",
   "metadata": {},
   "source": [
    "# Operador &= Intersección"
   ]
  },
  {
   "cell_type": "code",
   "execution_count": 45,
   "id": "dafc4fe4",
   "metadata": {},
   "outputs": [
    {
     "name": "stdout",
     "output_type": "stream",
     "text": [
      "Operador &= Intersección\n",
      "{'🥤', '🍔', '🍟'} {'🥤', '🍕', '🍨'}\n",
      "{'🥤'}\n"
     ]
    }
   ],
   "source": [
    "print (\"Operador &= Intersección\")\n",
    "conjunto1 = {'🍔','🍟', '🥤'}\n",
    "conjunto2 = {'🍕','🍨','🥤'}\n",
    "print (conjunto1, conjunto2)\n",
    "conjunto1 &= conjunto2\n",
    "print(conjunto1)"
   ]
  },
  {
   "cell_type": "markdown",
   "id": "190e6973",
   "metadata": {},
   "source": [
    "# Operador -= Diferencia"
   ]
  },
  {
   "cell_type": "code",
   "execution_count": 46,
   "id": "fffbcd4e",
   "metadata": {},
   "outputs": [
    {
     "name": "stdout",
     "output_type": "stream",
     "text": [
      "Operador -= Diferencia\n",
      "1: {'🥤', '🍔', '🍟'} 2: {'🥤', '🍕', '🍨'}\n",
      "1 - 2: {'🍔', '🍟'}\n",
      "2 - 1: {'🍕', '🍨'}\n"
     ]
    }
   ],
   "source": [
    "print (\"Operador -= Diferencia\")\n",
    "conjunto1 = {'🍔','🍟', '🥤'}\n",
    "conjunto2 = {'🍕','🍨','🥤'}\n",
    "print (\"1:\",conjunto1, \"2:\",conjunto2)\n",
    "conjunto1 -= conjunto2\n",
    "print(\"1 - 2:\",conjunto1)\n",
    "conjunto1 = {'🍔','🍟', '🥤'}\n",
    "conjunto2 -= conjunto1\n",
    "print(\"2 - 1:\",conjunto2)"
   ]
  },
  {
   "cell_type": "markdown",
   "id": "edbc3be8",
   "metadata": {},
   "source": [
    "# Operador ^= Diferencia simétrica"
   ]
  },
  {
   "cell_type": "code",
   "execution_count": 47,
   "id": "69693780",
   "metadata": {},
   "outputs": [
    {
     "name": "stdout",
     "output_type": "stream",
     "text": [
      "Operador ^= Diferencia simétrica\n",
      "{'🥤', '🍔', '🍟'} {'🥤', '🍕', '🍨'}\n",
      "{'🍟', '🍨', '🍕', '🍔'}\n"
     ]
    }
   ],
   "source": [
    "print (\"Operador ^= Diferencia simétrica\")\n",
    "conjunto1 = {'🍔','🍟', '🥤'}\n",
    "conjunto2 = {'🍕','🍨','🥤'}\n",
    "print (conjunto1, conjunto2)\n",
    "conjunto1 ^= conjunto2\n",
    "print(conjunto1)"
   ]
  },
  {
   "cell_type": "markdown",
   "id": "47f2f38a",
   "metadata": {},
   "source": [
    "# Conjuntos inmutables"
   ]
  },
  {
   "cell_type": "markdown",
   "id": "91ad7d77",
   "metadata": {},
   "source": [
    "# Función frozenset()"
   ]
  },
  {
   "cell_type": "code",
   "execution_count": 48,
   "id": "7d253bd6",
   "metadata": {},
   "outputs": [
    {
     "name": "stdout",
     "output_type": "stream",
     "text": [
      "frozenset({'🌭', '🍕', '🥗', '🍔', '🍟'})\n",
      "<class 'frozenset'>\n"
     ]
    }
   ],
   "source": [
    "conjunto = frozenset({'🍔','🍕','🥗','🍟','🌭'})\n",
    "print(conjunto)\n",
    "print(type(conjunto))"
   ]
  },
  {
   "cell_type": "code",
   "execution_count": null,
   "id": "38b06d33",
   "metadata": {},
   "outputs": [],
   "source": [
    "conjunto = frozenset({1, 2, 3, 4, 5})\n",
    "print(conjunto)\n",
    "print(conjunto.add(6)) # AttributeError: 'frozenset' object has no attribute 'add'\n",
    "print(conjunto.remove(1)) # AttributeError: 'frozenset' object has no attribute 'remove'\n",
    "print(conjunto |= {6}) # SyntaxError: invalid syntax"
   ]
  },
  {
   "cell_type": "markdown",
   "id": "08d5b06e",
   "metadata": {},
   "source": [
    "# Conjuntos anidados"
   ]
  },
  {
   "cell_type": "code",
   "execution_count": 49,
   "id": "bfc8f99d",
   "metadata": {},
   "outputs": [
    {
     "name": "stdout",
     "output_type": "stream",
     "text": [
      "Conjunto de conjuntos\n",
      "{frozenset({'🍏', '🍈', '🍐'}), frozenset({'🍅', '🍎', '🍓'})}\n",
      "<class 'set'>\n"
     ]
    }
   ],
   "source": [
    "print (\"Conjunto de conjuntos\")\n",
    "conjunto = {frozenset({'🍅','🍓','🍎'}), frozenset({'🍈','🍐','🍏'})}\n",
    "print(conjunto)\n",
    "print(type(conjunto))"
   ]
  },
  {
   "cell_type": "code",
   "execution_count": 50,
   "id": "ca3a5733",
   "metadata": {},
   "outputs": [
    {
     "name": "stdout",
     "output_type": "stream",
     "text": [
      "Conjunto de conjuntos\n"
     ]
    },
    {
     "ename": "TypeError",
     "evalue": "unhashable type: 'set'",
     "output_type": "error",
     "traceback": [
      "\u001b[31m---------------------------------------------------------------------------\u001b[39m",
      "\u001b[31mTypeError\u001b[39m                                 Traceback (most recent call last)",
      "\u001b[36mCell\u001b[39m\u001b[36m \u001b[39m\u001b[32mIn[50]\u001b[39m\u001b[32m, line 2\u001b[39m\n\u001b[32m      1\u001b[39m \u001b[38;5;28mprint\u001b[39m (\u001b[33m\"\u001b[39m\u001b[33mConjunto de conjuntos\u001b[39m\u001b[33m\"\u001b[39m)\n\u001b[32m----> \u001b[39m\u001b[32m2\u001b[39m conjunto = {{\u001b[33m'\u001b[39m\u001b[33m🍅\u001b[39m\u001b[33m'\u001b[39m,\u001b[33m'\u001b[39m\u001b[33m🍓\u001b[39m\u001b[33m'\u001b[39m,\u001b[33m'\u001b[39m\u001b[33m🍎\u001b[39m\u001b[33m'\u001b[39m}, {\u001b[33m'\u001b[39m\u001b[33m🍈\u001b[39m\u001b[33m'\u001b[39m,\u001b[33m'\u001b[39m\u001b[33m🍐\u001b[39m\u001b[33m'\u001b[39m,\u001b[33m'\u001b[39m\u001b[33m🍏\u001b[39m\u001b[33m'\u001b[39m}} \u001b[38;5;66;03m#TypeError: unhashable type: 'set'\u001b[39;00m\n\u001b[32m      3\u001b[39m \u001b[38;5;28mprint\u001b[39m(conjunto)\n\u001b[32m      4\u001b[39m \u001b[38;5;28mprint\u001b[39m(\u001b[38;5;28mtype\u001b[39m(conjunto))\n",
      "\u001b[31mTypeError\u001b[39m: unhashable type: 'set'"
     ]
    }
   ],
   "source": [
    "print (\"Conjunto de conjuntos\")\n",
    "conjunto = {{'🍅','🍓','🍎'}, {'🍈','🍐','🍏'}} #TypeError: unhashable type: 'set'\n",
    "print(conjunto)\n",
    "print(type(conjunto))"
   ]
  }
 ],
 "metadata": {
  "kernelspec": {
   "display_name": "Python 3",
   "language": "python",
   "name": "python3"
  },
  "language_info": {
   "codemirror_mode": {
    "name": "ipython",
    "version": 3
   },
   "file_extension": ".py",
   "mimetype": "text/x-python",
   "name": "python",
   "nbconvert_exporter": "python",
   "pygments_lexer": "ipython3",
   "version": "3.12.6"
  }
 },
 "nbformat": 4,
 "nbformat_minor": 5
}
