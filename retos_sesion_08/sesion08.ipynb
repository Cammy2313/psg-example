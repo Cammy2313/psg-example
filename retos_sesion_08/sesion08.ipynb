{
 "cells": [
  {
   "cell_type": "markdown",
   "id": "fcd239cd",
   "metadata": {},
   "source": [
    "# Tuplas en Python"
   ]
  },
  {
   "cell_type": "markdown",
   "id": "14356720",
   "metadata": {},
   "source": [
    "## Tupla de enteros"
   ]
  },
  {
   "cell_type": "code",
   "execution_count": 1,
   "id": "0d96c39b",
   "metadata": {},
   "outputs": [
    {
     "name": "stdout",
     "output_type": "stream",
     "text": [
      "Tupla de enteros\n",
      "(1, 2, 3, 4, 5, 6)\n",
      "<class 'tuple'>\n"
     ]
    }
   ],
   "source": [
    "print(\"Tupla de enteros\")\n",
    "enteros = (1, 2, 3, 4, 5, 6)\n",
    "print(enteros)\n",
    "print(type(enteros))\n"
   ]
  },
  {
   "cell_type": "markdown",
   "id": "4257538b",
   "metadata": {},
   "source": [
    "## Tupla de cadenas"
   ]
  },
  {
   "cell_type": "code",
   "execution_count": 2,
   "id": "c619cca3",
   "metadata": {},
   "outputs": [
    {
     "name": "stdout",
     "output_type": "stream",
     "text": [
      "Tupla de cadenas\n",
      "('hola', 'mundo', 'desde', 'python')\n",
      "<class 'tuple'>\n"
     ]
    }
   ],
   "source": [
    "print(\"Tupla de cadenas\")\n",
    "cadenas = (\"hola\", \"mundo\", \"desde\", \"python\")\n",
    "print(cadenas)\n",
    "print(type(cadenas))"
   ]
  },
  {
   "cell_type": "markdown",
   "id": "d2b22e4e",
   "metadata": {},
   "source": [
    "## Tupla Mixta"
   ]
  },
  {
   "cell_type": "code",
   "execution_count": 3,
   "id": "382cb808",
   "metadata": {},
   "outputs": [
    {
     "name": "stdout",
     "output_type": "stream",
     "text": [
      "Tupla Mixta\n",
      "(1, 'hola', True, 2.5)\n",
      "<class 'tuple'>\n"
     ]
    }
   ],
   "source": [
    "print(\"Tupla Mixta\")\n",
    "mixta = (1, \"hola\", True, 2.5)\n",
    "print(mixta)\n",
    "print(type(mixta))"
   ]
  },
  {
   "cell_type": "markdown",
   "id": "05ee6f36",
   "metadata": {},
   "source": [
    "## Tupla vacía"
   ]
  },
  {
   "cell_type": "code",
   "execution_count": 4,
   "id": "74eb14a0",
   "metadata": {},
   "outputs": [
    {
     "name": "stdout",
     "output_type": "stream",
     "text": [
      "Tupla vacia\n",
      "()\n",
      "<class 'tuple'>\n"
     ]
    }
   ],
   "source": [
    "print(\"Tupla vacia\")\n",
    "vacia = ()\n",
    "print(vacia)\n",
    "print(type(vacia))"
   ]
  },
  {
   "cell_type": "markdown",
   "id": "fff07a98",
   "metadata": {},
   "source": [
    "## Tupla de un solo elemento"
   ]
  },
  {
   "cell_type": "code",
   "execution_count": 5,
   "id": "e4fcc49a",
   "metadata": {},
   "outputs": [
    {
     "name": "stdout",
     "output_type": "stream",
     "text": [
      "Tupla de un solo elemento\n",
      "(1,)\n",
      "<class 'tuple'>\n"
     ]
    }
   ],
   "source": [
    "print(\"Tupla de un solo elemento\")\n",
    "uno = (1,)\n",
    "print(uno)\n",
    "print(type(uno))"
   ]
  },
  {
   "cell_type": "markdown",
   "id": "16e63584",
   "metadata": {},
   "source": [
    "## Tupla utilizando la función tuple()"
   ]
  },
  {
   "cell_type": "code",
   "execution_count": 6,
   "id": "66e79325",
   "metadata": {},
   "outputs": [
    {
     "name": "stdout",
     "output_type": "stream",
     "text": [
      "Tupla utilizando la función tuple()\n",
      "('h', 'o', 'l', 'a')\n",
      "<class 'tuple'>\n"
     ]
    }
   ],
   "source": [
    "print(\"Tupla utilizando la función tuple()\")\n",
    "constructor = tuple(\"hola\")\n",
    "print(constructor)\n",
    "print(type(constructor))"
   ]
  },
  {
   "cell_type": "markdown",
   "id": "6dc1148d",
   "metadata": {},
   "source": [
    "## Indexado positivo de una tupla"
   ]
  },
  {
   "cell_type": "code",
   "execution_count": 7,
   "id": "bbedea6b",
   "metadata": {},
   "outputs": [
    {
     "name": "stdout",
     "output_type": "stream",
     "text": [
      "Indexado positivo de una tupla\n",
      "1 <class 'int'>\n",
      "2.0 <class 'float'>\n",
      "hola <class 'str'>\n",
      "True <class 'bool'>\n"
     ]
    }
   ],
   "source": [
    "print(\"Indexado positivo de una tupla\")\n",
    "tupla = (1, 2.0, \"hola\", True)\n",
    "print(tupla[0], type(tupla[0]))\n",
    "print(tupla[1], type(tupla[1]))\n",
    "print(tupla[2], type(tupla[2]))\n",
    "print(tupla[3], type(tupla[3]))"
   ]
  },
  {
   "cell_type": "markdown",
   "id": "56a234a3",
   "metadata": {},
   "source": [
    "## Indexado negativo de una tupla"
   ]
  },
  {
   "cell_type": "code",
   "execution_count": 8,
   "id": "236a0548",
   "metadata": {},
   "outputs": [
    {
     "name": "stdout",
     "output_type": "stream",
     "text": [
      "Indexado negativo de una tupla\n",
      "True <class 'bool'>\n",
      "hola <class 'str'>\n",
      "2.0 <class 'float'>\n",
      "1 <class 'int'>\n"
     ]
    }
   ],
   "source": [
    "print(\"Indexado negativo de una tupla\")\n",
    "tupla = (1, 2.0, \"hola\", True)\n",
    "print(tupla[-1], type(tupla[-1]))\n",
    "print(tupla[-2], type(tupla[-2]))\n",
    "print(tupla[-3], type(tupla[-3]))\n",
    "print(tupla[-4], type(tupla[-4]))"
   ]
  },
  {
   "cell_type": "markdown",
   "id": "610df525",
   "metadata": {},
   "source": [
    "## Slicing de una tupla"
   ]
  },
  {
   "cell_type": "code",
   "execution_count": 9,
   "id": "a68304cb",
   "metadata": {},
   "outputs": [
    {
     "name": "stdout",
     "output_type": "stream",
     "text": [
      "Slicing de una tupla\n",
      "(0, 1, 2, 3, 4, 5, 6, 7, 8, 9, 10)\n",
      "(0, 1, 2, 3, 4)\n",
      "<class 'tuple'>\n"
     ]
    }
   ],
   "source": [
    "print(\"Slicing de una tupla\")\n",
    "tupla = (0,1,2,3,4,5,6,7,8,9,10)\n",
    "print(tupla)\n",
    "sub_tupla = tupla[0:5]\n",
    "print(sub_tupla)\n",
    "print(type(sub_tupla))"
   ]
  },
  {
   "cell_type": "markdown",
   "id": "e90d79b8",
   "metadata": {},
   "source": [
    "## Slicing de una tupla con saltos"
   ]
  },
  {
   "cell_type": "code",
   "execution_count": 10,
   "id": "376b16df",
   "metadata": {},
   "outputs": [
    {
     "name": "stdout",
     "output_type": "stream",
     "text": [
      "Slicing de una tupla con saltos\n",
      "(0, 1, 2, 3, 4, 5, 6, 7, 8, 9, 10)\n",
      "(0, 2, 4, 6, 8)\n",
      "<class 'tuple'>\n"
     ]
    }
   ],
   "source": [
    "print(\"Slicing de una tupla con saltos\")\n",
    "tupla = (0,1,2,3,4,5,6,7,8,9,10)\n",
    "print(tupla)\n",
    "sub_tupla = tupla[0:10:2]\n",
    "print(sub_tupla)\n",
    "print(type(sub_tupla))"
   ]
  },
  {
   "cell_type": "markdown",
   "id": "77d4750a",
   "metadata": {},
   "source": [
    "## Slicing de una tupla con saltos negativos"
   ]
  },
  {
   "cell_type": "code",
   "execution_count": 11,
   "id": "e255f1b0",
   "metadata": {},
   "outputs": [
    {
     "name": "stdout",
     "output_type": "stream",
     "text": [
      "Slicing de una tupla con saltos negativos\n",
      "(0, 1, 2, 3, 4, 5, 6, 7, 8, 9, 10)\n",
      "(7, 5, 3)\n",
      "<class 'tuple'>\n"
     ]
    }
   ],
   "source": [
    "print(\"Slicing de una tupla con saltos negativos\")\n",
    "tupla = (0,1,2,3,4,5,6,7,8,9,10)\n",
    "print(tupla)\n",
    "sub_tupla = tupla[7:2:-2]\n",
    "print(sub_tupla)\n",
    "print(type(sub_tupla))"
   ]
  },
  {
   "cell_type": "markdown",
   "id": "a24a68ce",
   "metadata": {},
   "source": [
    "## Concatenación de tuplas"
   ]
  },
  {
   "cell_type": "code",
   "execution_count": 12,
   "id": "da1d85fe",
   "metadata": {},
   "outputs": [
    {
     "name": "stdout",
     "output_type": "stream",
     "text": [
      "Concatenación de tuplas\n",
      "(1, 2, 3) (4, 5, 6)\n",
      "(1, 2, 3, 4, 5, 6)\n",
      "<class 'tuple'>\n"
     ]
    }
   ],
   "source": [
    "print(\"Concatenación de tuplas\")\n",
    "tupla1 = (1, 2, 3)\n",
    "tupla2 = (4, 5, 6)\n",
    "concatenar = tupla1 + tupla2\n",
    "print(tupla1, tupla2)\n",
    "print(concatenar)\n",
    "print(type(concatenar))"
   ]
  },
  {
   "cell_type": "markdown",
   "id": "e7a67cd1",
   "metadata": {},
   "source": [
    "## Repetición de tuplas"
   ]
  },
  {
   "cell_type": "code",
   "execution_count": 13,
   "id": "43111c52",
   "metadata": {},
   "outputs": [
    {
     "name": "stdout",
     "output_type": "stream",
     "text": [
      "Repetición de tuplas\n",
      "(1, 2, 3)\n",
      "(1, 2, 3, 1, 2, 3, 1, 2, 3)\n",
      "<class 'tuple'>\n"
     ]
    }
   ],
   "source": [
    "print(\"Repetición de tuplas\")\n",
    "tupla = (1, 2, 3)\n",
    "repetir = tupla * 3\n",
    "print(tupla)\n",
    "print(repetir)\n",
    "print(type(repetir))"
   ]
  },
  {
   "cell_type": "markdown",
   "id": "cac6d37a",
   "metadata": {},
   "source": [
    "## Asignación múltiple con tuplas"
   ]
  },
  {
   "cell_type": "code",
   "execution_count": 14,
   "id": "6946b7e7",
   "metadata": {},
   "outputs": [
    {
     "name": "stdout",
     "output_type": "stream",
     "text": [
      "Asignación múltiple\n",
      "('Jhon', 'Doe', 22, 1.75)\n",
      "Jhon\n",
      "Doe\n",
      "22\n",
      "1.75\n"
     ]
    }
   ],
   "source": [
    "print(\"Asignación múltiple\")\n",
    "persona = (\"Jhon\", \"Doe\", 22, 1.75)\n",
    "nombre, apellido, edad, estatura = persona\n",
    "print(persona)\n",
    "print(nombre)\n",
    "print(apellido)\n",
    "print(edad)\n",
    "print(estatura)"
   ]
  },
  {
   "cell_type": "markdown",
   "id": "f417272c",
   "metadata": {},
   "source": [
    "## Método index(valor)"
   ]
  },
  {
   "cell_type": "code",
   "execution_count": 15,
   "id": "a39e9280",
   "metadata": {},
   "outputs": [
    {
     "name": "stdout",
     "output_type": "stream",
     "text": [
      "Método index(valor)\n",
      "1\n",
      "2\n"
     ]
    }
   ],
   "source": [
    "print(\"Método index(valor)\")\n",
    "tupla = (1, 2.0, \"hola\", True)\n",
    "print(tupla.index(2.0))\n",
    "print(tupla.index(\"hola\"))"
   ]
  },
  {
   "cell_type": "markdown",
   "id": "f0642550",
   "metadata": {},
   "source": [
    "## Método count(valor)"
   ]
  },
  {
   "cell_type": "code",
   "execution_count": 16,
   "id": "ff844072",
   "metadata": {},
   "outputs": [
    {
     "name": "stdout",
     "output_type": "stream",
     "text": [
      "Método count(valor)\n",
      "1\n",
      "2\n",
      "0\n"
     ]
    }
   ],
   "source": [
    "print(\"Método count(valor)\")\n",
    "tupla = (1, 2.0, \"hola\", False, \"hola\", \"HOLA\")\n",
    "print(tupla.count(1))\n",
    "print(tupla.count(\"hola\"))\n",
    "print(tupla.count(10))"
   ]
  },
  {
   "cell_type": "markdown",
   "id": "e37de82b",
   "metadata": {},
   "source": [
    "## Función len()"
   ]
  },
  {
   "cell_type": "code",
   "execution_count": 17,
   "id": "b6cc4739",
   "metadata": {},
   "outputs": [
    {
     "name": "stdout",
     "output_type": "stream",
     "text": [
      "Función len()\n",
      "(1, 2.0, 'hola', True)\n",
      "4\n"
     ]
    }
   ],
   "source": [
    "print(\"Función len()\")\n",
    "tupla = (1, 2.0, \"hola\", True)\n",
    "longitud = len(tupla)\n",
    "print(tupla)\n",
    "print(longitud)"
   ]
  },
  {
   "cell_type": "markdown",
   "id": "e486ecf8",
   "metadata": {},
   "source": [
    "## Función max()"
   ]
  },
  {
   "cell_type": "code",
   "execution_count": 18,
   "id": "8e054f5b",
   "metadata": {},
   "outputs": [
    {
     "name": "stdout",
     "output_type": "stream",
     "text": [
      "Función max()\n",
      "(1, 2, 10, 5, 8, 0)\n",
      "10\n"
     ]
    }
   ],
   "source": [
    "print(\"Función max()\")\n",
    "tupla = (1, 2, 10, 5, 8, 0)\n",
    "maximo = max(tupla)\n",
    "print(tupla)\n",
    "print(maximo)"
   ]
  },
  {
   "cell_type": "markdown",
   "id": "df725845",
   "metadata": {},
   "source": [
    "## Función min()"
   ]
  },
  {
   "cell_type": "code",
   "execution_count": 19,
   "id": "dfc65b30",
   "metadata": {},
   "outputs": [
    {
     "name": "stdout",
     "output_type": "stream",
     "text": [
      "Función min()\n",
      "('a', 'z', 'c', 'b', 'f', 'd')\n",
      "a\n"
     ]
    }
   ],
   "source": [
    "print(\"Función min()\")\n",
    "tupla = (\"a\", \"z\", \"c\", \"b\", \"f\", \"d\")\n",
    "minimo = min(tupla)\n",
    "print(tupla)\n",
    "print(minimo)"
   ]
  },
  {
   "cell_type": "markdown",
   "id": "4ec3fdd6",
   "metadata": {},
   "source": [
    "## Función sum()"
   ]
  },
  {
   "cell_type": "code",
   "execution_count": 20,
   "id": "8a07577a",
   "metadata": {},
   "outputs": [
    {
     "name": "stdout",
     "output_type": "stream",
     "text": [
      "Función sum()\n",
      "(1.0, 0.5, 2.5, 3.1)\n",
      "7.1\n"
     ]
    }
   ],
   "source": [
    "print(\"Función sum()\")\n",
    "tupla = (1.0, 0.5, 2.5, 3.1)\n",
    "suma = sum(tupla)\n",
    "print(tupla)\n",
    "print(suma)"
   ]
  },
  {
   "cell_type": "markdown",
   "id": "e43e6930",
   "metadata": {},
   "source": [
    "## Tuplas anidadas"
   ]
  },
  {
   "cell_type": "code",
   "execution_count": 21,
   "id": "2f36e3a0",
   "metadata": {},
   "outputs": [
    {
     "name": "stdout",
     "output_type": "stream",
     "text": [
      "Tuplas anidadas\n",
      "(1, 2, 3, (4, 5, 6))\n",
      "(1, 2, 3, (4, 5, 6)) <class 'tuple'>\n",
      "(4, 5, 6) <class 'tuple'>\n",
      "4 <class 'int'>\n"
     ]
    }
   ],
   "source": [
    "print(\"Tuplas anidadas\")\n",
    "tupla = (1, 2, 3, (4, 5, 6))\n",
    "print(tupla)\n",
    "print(tupla, type(tupla))\n",
    "print(tupla[3], type(tupla[3]))\n",
    "print(tupla[3][0], type(tupla[3][0]))"
   ]
  },
  {
   "cell_type": "markdown",
   "id": "093f76c6",
   "metadata": {},
   "source": [
    "## Ejercicio: Acceder a elementos de una matriz (tupla anidada)"
   ]
  },
  {
   "cell_type": "code",
   "execution_count": 22,
   "id": "45f47c44",
   "metadata": {},
   "outputs": [
    {
     "name": "stdout",
     "output_type": "stream",
     "text": [
      "2\n",
      "4\n",
      "6\n"
     ]
    }
   ],
   "source": [
    "matrix = ((0, 1, 2), (3, 4, 5), (6, 7, 8))\n",
    "print(matrix[0][2])\n",
    "print(matrix[1][1])\n",
    "print(matrix[2][0])"
   ]
  },
  {
   "cell_type": "markdown",
   "id": "02347cf6",
   "metadata": {},
   "source": [
    "## Tuplas anidadas: acceso a elementos"
   ]
  },
  {
   "cell_type": "code",
   "execution_count": 23,
   "id": "0ebe9635",
   "metadata": {},
   "outputs": [
    {
     "name": "stdout",
     "output_type": "stream",
     "text": [
      "Tuplas anidadas\n",
      "(1, 2, 3, (4, 5, 6)) <class 'tuple'>\n",
      "(4, 5, 6) <class 'tuple'>\n",
      "4 <class 'int'>\n",
      "5 <class 'int'>\n"
     ]
    }
   ],
   "source": [
    "print(\"Tuplas anidadas\")\n",
    "tupla = (1, 2, 3, (4, 5, 6))\n",
    "print(tupla, type(tupla))\n",
    "anidado = tupla[3]\n",
    "print(anidado, type(anidado))\n",
    "valor_anidado_0 = anidado[0]\n",
    "print(valor_anidado_0, type(valor_anidado_0))\n",
    "valor_anidado_1 = tupla[3][1]\n",
    "print(valor_anidado_1, type(valor_anidado_1))"
   ]
  },
  {
   "cell_type": "markdown",
   "id": "4797eb65",
   "metadata": {},
   "source": [
    "## Ejercicio 2: Construcción de frase con tuplas anidadas"
   ]
  },
  {
   "cell_type": "code",
   "execution_count": 24,
   "id": "b40cdcee",
   "metadata": {},
   "outputs": [
    {
     "name": "stdout",
     "output_type": "stream",
     "text": [
      "Estoy aprendiendo a programar\n"
     ]
    }
   ],
   "source": [
    "cadenas = ((\"a\", \"es\", \"el\", \"programar\"), (\"estoy\", \"apre\", \"ar\"), (\"ndiendo\", \"a\"))\n",
    "\n",
    "palabra1 = cadenas[1][0].capitalize()\n",
    "palabra2 = cadenas[1][1] + cadenas[2][0]\n",
    "palabra3 = cadenas[2][1]\n",
    "palabra4 = cadenas[0][3]\n",
    "\n",
    "frase = f\"{palabra1} {palabra2} {palabra3} {palabra4}\"\n",
    "print(frase)"
   ]
  }
 ],
 "metadata": {
  "kernelspec": {
   "display_name": "Python 3",
   "language": "python",
   "name": "python3"
  },
  "language_info": {
   "codemirror_mode": {
    "name": "ipython",
    "version": 3
   },
   "file_extension": ".py",
   "mimetype": "text/x-python",
   "name": "python",
   "nbconvert_exporter": "python",
   "pygments_lexer": "ipython3",
   "version": "3.12.6"
  }
 },
 "nbformat": 4,
 "nbformat_minor": 5
}
