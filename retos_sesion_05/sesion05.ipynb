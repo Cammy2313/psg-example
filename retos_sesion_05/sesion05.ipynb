{
 "cells": [
  {
   "cell_type": "markdown",
   "id": "da50ba0e",
   "metadata": {},
   "source": [
    "# SESION 05"
   ]
  },
  {
   "cell_type": "markdown",
   "id": "db03860c",
   "metadata": {},
   "source": [
    "# Tipos de datos y operaciones básicas"
   ]
  },
  {
   "cell_type": "code",
   "execution_count": 1,
   "id": "5e9830b3",
   "metadata": {},
   "outputs": [
    {
     "name": "stdout",
     "output_type": "stream",
     "text": [
      "<class 'int'>\n"
     ]
    }
   ],
   "source": [
    "print(type(1))"
   ]
  },
  {
   "cell_type": "markdown",
   "id": "00f837d3",
   "metadata": {},
   "source": [
    "# Cálculo de salario"
   ]
  },
  {
   "cell_type": "code",
   "execution_count": 2,
   "id": "d1d6c862",
   "metadata": {},
   "outputs": [
    {
     "name": "stdout",
     "output_type": "stream",
     "text": [
      "437.5\n"
     ]
    }
   ],
   "source": [
    "horas = 35.0\n",
    "tarifa = 12.50\n",
    "salario = horas * tarifa\n",
    "print(salario)"
   ]
  },
  {
   "cell_type": "markdown",
   "id": "8d411de4",
   "metadata": {},
   "source": [
    "# Tipo de dato entero"
   ]
  },
  {
   "cell_type": "code",
   "execution_count": 3,
   "id": "cdc43b2e",
   "metadata": {},
   "outputs": [
    {
     "name": "stdout",
     "output_type": "stream",
     "text": [
      "10\n",
      "<class 'int'>\n"
     ]
    }
   ],
   "source": [
    "print(10)\n",
    "print(type(10))"
   ]
  },
  {
   "cell_type": "markdown",
   "id": "067b1658",
   "metadata": {},
   "source": [
    "# Asignación de variables y tipos"
   ]
  },
  {
   "cell_type": "code",
   "execution_count": 4,
   "id": "235c9e43",
   "metadata": {},
   "outputs": [
    {
     "name": "stdout",
     "output_type": "stream",
     "text": [
      "100\n",
      "<class 'int'>\n"
     ]
    }
   ],
   "source": [
    "variable = 100\n",
    "print(variable)\n",
    "print(type(variable))"
   ]
  },
  {
   "cell_type": "code",
   "execution_count": 5,
   "id": "e65fb7d5",
   "metadata": {},
   "outputs": [
    {
     "name": "stdout",
     "output_type": "stream",
     "text": [
      "20\n",
      "<class 'int'>\n"
     ]
    }
   ],
   "source": [
    "variable_2 = int(20)\n",
    "print(variable_2)\n",
    "print(type(variable_2))"
   ]
  },
  {
   "cell_type": "markdown",
   "id": "b8568fc4",
   "metadata": {},
   "source": [
    "# Números en diferentes bases"
   ]
  },
  {
   "cell_type": "code",
   "execution_count": 6,
   "id": "07f6311f",
   "metadata": {},
   "outputs": [
    {
     "name": "stdout",
     "output_type": "stream",
     "text": [
      "Base decimal\n",
      "10\n",
      "Base binaria\n",
      "10\n",
      "Base octal\n",
      "10\n",
      "Base hexadecimal\n",
      "10\n"
     ]
    }
   ],
   "source": [
    "print(\"Base decimal\")\n",
    "print(10)\n",
    "\n",
    "print(\"Base binaria\")\n",
    "print(0b1010)\n",
    "\n",
    "print(\"Base octal\")\n",
    "print(0o12)\n",
    "\n",
    "print(\"Base hexadecimal\")\n",
    "print(0xa)"
   ]
  },
  {
   "cell_type": "markdown",
   "id": "c7262993",
   "metadata": {},
   "source": [
    "# Números grandes - Entero con 60 dígitos"
   ]
  },
  {
   "cell_type": "code",
   "execution_count": 7,
   "id": "98eb539a",
   "metadata": {},
   "outputs": [
    {
     "name": "stdout",
     "output_type": "stream",
     "text": [
      "123456789012345678901234567890123456789012345678901234567890\n",
      "<class 'int'>\n"
     ]
    }
   ],
   "source": [
    "variable_3 = 123456789012345678901234567890123456789012345678901234567890\n",
    "print(variable_3)\n",
    "print(type(variable_3))"
   ]
  },
  {
   "cell_type": "markdown",
   "id": "c9844c2b",
   "metadata": {},
   "source": [
    "# Números decimales y punto flotante"
   ]
  },
  {
   "cell_type": "code",
   "execution_count": 8,
   "id": "7b4639aa",
   "metadata": {},
   "outputs": [
    {
     "name": "stdout",
     "output_type": "stream",
     "text": [
      "0.5\n",
      "<class 'float'>\n"
     ]
    }
   ],
   "source": [
    "print(0.5)\n",
    "print(type(0.5))"
   ]
  },
  {
   "cell_type": "code",
   "execution_count": 9,
   "id": "5477524c",
   "metadata": {},
   "outputs": [
    {
     "name": "stdout",
     "output_type": "stream",
     "text": [
      "0.100546\n",
      "<class 'float'>\n"
     ]
    }
   ],
   "source": [
    "variable_4 = 0.100546\n",
    "print(variable_4)\n",
    "print(type(variable_4))"
   ]
  },
  {
   "cell_type": "code",
   "execution_count": 10,
   "id": "d2e5dbda",
   "metadata": {},
   "outputs": [
    {
     "name": "stdout",
     "output_type": "stream",
     "text": [
      "1.0\n",
      "<class 'float'>\n"
     ]
    }
   ],
   "source": [
    "variable_7 = float(1)\n",
    "print(variable_7)\n",
    "print(type(variable_7))"
   ]
  },
  {
   "cell_type": "code",
   "execution_count": 11,
   "id": "eb7d9666",
   "metadata": {},
   "outputs": [
    {
     "name": "stdout",
     "output_type": "stream",
     "text": [
      "0.002\n",
      "<class 'float'>\n"
     ]
    }
   ],
   "source": [
    "variable_6 = 2.0e-3\n",
    "print(variable_6)\n",
    "print(type(variable_6))"
   ]
  },
  {
   "cell_type": "code",
   "execution_count": 12,
   "id": "8e674597",
   "metadata": {},
   "outputs": [
    {
     "name": "stdout",
     "output_type": "stream",
     "text": [
      "0.9999999999999999\n",
      "<class 'float'>\n"
     ]
    }
   ],
   "source": [
    "variable_5 = 0.9999999999999999\n",
    "print(variable_5)\n",
    "print(type(variable_5))"
   ]
  },
  {
   "cell_type": "markdown",
   "id": "c3bbb5ac",
   "metadata": {},
   "source": [
    "# Operaciones aritméticas"
   ]
  },
  {
   "cell_type": "code",
   "execution_count": 13,
   "id": "a0414e31",
   "metadata": {},
   "outputs": [
    {
     "name": "stdout",
     "output_type": "stream",
     "text": [
      "Suma\n",
      "13\n",
      "Resta\n",
      "7\n",
      "Multiplicación\n",
      "30\n",
      "División\n",
      "3.3333333333333335\n",
      "Potencia\n",
      "1000\n",
      "Módulo o residuo\n",
      "1\n",
      "División entera\n",
      "3\n"
     ]
    }
   ],
   "source": [
    "a = 10\n",
    "b = 3\n",
    "\n",
    "print(\"Suma\")\n",
    "print(a + b)\n",
    "\n",
    "print(\"Resta\")\n",
    "print(a - b)\n",
    "\n",
    "print(\"Multiplicación\")\n",
    "print(a * b)\n",
    "\n",
    "print(\"División\")\n",
    "print(a / b)\n",
    "\n",
    "print(\"Potencia\")\n",
    "print(a ** b)\n",
    "\n",
    "print(\"Módulo o residuo\")\n",
    "print(a % b)\n",
    "\n",
    "print(\"División entera\")\n",
    "print(a // b)\n"
   ]
  },
  {
   "cell_type": "markdown",
   "id": "09021947",
   "metadata": {},
   "source": [
    " # Ejercicio 01\n",
    " ## Un contador tiene 300 minutos y se le suman 3600 segundos, ¿Cuántas horas en total son?"
   ]
  },
  {
   "cell_type": "code",
   "execution_count": 14,
   "id": "5d9a8503",
   "metadata": {},
   "outputs": [
    {
     "name": "stdout",
     "output_type": "stream",
     "text": [
      "total de 6.0 horas.\n"
     ]
    }
   ],
   "source": [
    "minutos = 300\n",
    "segundos = 3600\n",
    "minutos_extra = segundos / 60\n",
    "minutos_totales = minutos + minutos_extra\n",
    "horas_totales = minutos_totales / 60\n",
    "print(\"total de\", horas_totales, \"horas.\")\n"
   ]
  },
  {
   "cell_type": "markdown",
   "id": "3606b823",
   "metadata": {},
   "source": [
    "# Operadores de comparación"
   ]
  },
  {
   "cell_type": "code",
   "execution_count": 15,
   "id": "9563fe6e",
   "metadata": {},
   "outputs": [
    {
     "name": "stdout",
     "output_type": "stream",
     "text": [
      "Operadores de comparación\n",
      "False\n",
      "False\n",
      "True\n",
      "True\n",
      "True\n",
      "False\n"
     ]
    }
   ],
   "source": [
    "print(\"Operadores de comparación\")\n",
    "comparar = 10\n",
    "print(comparar < 10)\n",
    "print(comparar > 10)\n",
    "print(comparar == 10)\n",
    "print(comparar <= 10)\n",
    "print(comparar >= 10)\n",
    "print(comparar != 10)"
   ]
  },
  {
   "cell_type": "markdown",
   "id": "7587970a",
   "metadata": {},
   "source": [
    "# Comparación entre int y float"
   ]
  },
  {
   "cell_type": "code",
   "execution_count": null,
   "id": "beb3cf59",
   "metadata": {},
   "outputs": [
    {
     "name": "stdout",
     "output_type": "stream",
     "text": [
      "Operadores de comparación con int - float\n",
      "False\n",
      "False\n",
      "True\n",
      "True\n",
      "True\n",
      "False\n"
     ]
    }
   ],
   "source": [
    "print(\"Operadores de comparación con int - float\")\n",
    "entero = 10\n",
    "flotante = 10.0\n",
    "print(entero < flotante)\n",
    "print(entero > flotante)\n",
    "print(entero == flotante)\n",
    "print(entero <= flotante)\n",
    "print(entero >= flotante)\n",
    "print(entero != flotante)"
   ]
  }
 ],
 "metadata": {
  "kernelspec": {
   "display_name": "Python 3",
   "language": "python",
   "name": "python3"
  },
  "language_info": {
   "codemirror_mode": {
    "name": "ipython",
    "version": 3
   },
   "file_extension": ".py",
   "mimetype": "text/x-python",
   "name": "python",
   "nbconvert_exporter": "python",
   "pygments_lexer": "ipython3",
   "version": "3.12.6"
  }
 },
 "nbformat": 4,
 "nbformat_minor": 5
}
