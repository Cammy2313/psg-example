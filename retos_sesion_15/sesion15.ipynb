{
 "cells": [
  {
   "cell_type": "markdown",
   "id": "68f74e63",
   "metadata": {},
   "source": [
    "# Errores y Excepciones"
   ]
  },
  {
   "cell_type": "markdown",
   "id": "3c1dbbc6",
   "metadata": {},
   "source": [
    "# Ejemplo 1, División por cero"
   ]
  },
  {
   "cell_type": "code",
   "execution_count": 3,
   "id": "da336e29",
   "metadata": {},
   "outputs": [
    {
     "name": "stdout",
     "output_type": "stream",
     "text": [
      "Inicio Ejemplo 1\n",
      "💀 Error: division by zero <class 'ZeroDivisionError'>\n",
      "Fin Ejemplo 1\n"
     ]
    }
   ],
   "source": [
    "print (\"Inicio Ejemplo 1\")\n",
    "try:\n",
    "    x = 1 / 0\n",
    "    print (x)\n",
    "except Exception as e:\n",
    "    print(\"💀 Error:\", e, type(e))\n",
    "print (\"Fin Ejemplo 1\")"
   ]
  },
  {
   "cell_type": "markdown",
   "id": "6956ddec",
   "metadata": {},
   "source": [
    "# Ejercicio 1, Crear un programa que solicite dos números y realice la división de ambos números Si hay un error mostrar un mensaje de error El programa se detiene si se ingresa \"salir\""
   ]
  },
  {
   "cell_type": "code",
   "execution_count": 4,
   "id": "3c8d8ca8",
   "metadata": {},
   "outputs": [
    {
     "name": "stdout",
     "output_type": "stream",
     "text": [
      "💀 Error: float division by zero\n",
      "💀 Error: float division by zero\n"
     ]
    }
   ],
   "source": [
    "while True:\n",
    "    try:\n",
    "        num1 = input(\"Ingrese el primer número: \")\n",
    "        if num1 == \"salir\":\n",
    "            break\n",
    "        num2 = input(\"Ingrese el segundo número: \")\n",
    "        if num2 == \"salir\":\n",
    "            break\n",
    "        num1 = float(num1)\n",
    "        num2 = float(num2)\n",
    "        print(\"Resultado:\", num1 / num2)\n",
    "    except Exception as e:\n",
    "        print(\"💀 Error:\", e)"
   ]
  },
  {
   "cell_type": "markdown",
   "id": "996dce21",
   "metadata": {},
   "source": [
    "#  Excepciones múltiples"
   ]
  },
  {
   "cell_type": "markdown",
   "id": "fb220187",
   "metadata": {},
   "source": [
    "# Ejemplo 2, División por cero"
   ]
  },
  {
   "cell_type": "code",
   "execution_count": 5,
   "id": "0d916a7f",
   "metadata": {},
   "outputs": [
    {
     "name": "stdout",
     "output_type": "stream",
     "text": [
      "Inicio Ejemplo 2\n",
      "0️⃣ Error: division by zero <class 'ZeroDivisionError'>\n",
      "Fin Ejemplo 2\n"
     ]
    }
   ],
   "source": [
    "print (\"Inicio Ejemplo 2\")\n",
    "divisor = 0\n",
    "try:\n",
    "    x = 1 / divisor\n",
    "    print (x)\n",
    "except ZeroDivisionError as e:\n",
    "    print(\"0️⃣ Error:\", e, type(e))\n",
    "except Exception as e:\n",
    "    print(\"💀 Error:\", e, type(e))\n",
    "print (\"Fin Ejemplo 2\")"
   ]
  },
  {
   "cell_type": "markdown",
   "id": "19825ba0",
   "metadata": {},
   "source": [
    "# Ejemplo 2, División por cero"
   ]
  },
  {
   "cell_type": "code",
   "execution_count": 6,
   "id": "6bde8a8f",
   "metadata": {},
   "outputs": [
    {
     "name": "stdout",
     "output_type": "stream",
     "text": [
      "Inicio Ejemplo 2\n",
      "💀 Error: unsupported operand type(s) for /: 'int' and 'str' <class 'TypeError'>\n",
      "Fin Ejemplo 2\n"
     ]
    }
   ],
   "source": [
    "print (\"Inicio Ejemplo 2\")\n",
    "divisor = \"0\"\n",
    "try:\n",
    "    x = 1 / divisor\n",
    "    print (x)\n",
    "except ZeroDivisionError as e:\n",
    "    print(\"0️⃣ Error:\", e, type(e))\n",
    "except Exception as e:\n",
    "    print(\"💀 Error:\", e, type(e))\n",
    "print (\"Fin Ejemplo 2\")"
   ]
  },
  {
   "cell_type": "markdown",
   "id": "6dbf2712",
   "metadata": {},
   "source": [
    "# Jerarquía de excepciones\n",
    "\n",
    "# Ejemplo 2, División por cero"
   ]
  },
  {
   "cell_type": "code",
   "execution_count": 7,
   "id": "83896936",
   "metadata": {},
   "outputs": [
    {
     "name": "stdout",
     "output_type": "stream",
     "text": [
      "Inicio Ejemplo 2\n",
      "💀 Error: division by zero <class 'ZeroDivisionError'>\n",
      "Fin Ejemplo 2\n"
     ]
    }
   ],
   "source": [
    "print (\"Inicio Ejemplo 2\")\n",
    "divisor = 0\n",
    "try:\n",
    "    x = 1 / divisor\n",
    "    print (x)\n",
    "except Exception as e: # Captura cualquier excepción\n",
    "    print(\"💀 Error:\", e, type(e))\n",
    "except ZeroDivisionError as e:\n",
    "    print(\"0️⃣ Error:\", e, type(e))\n",
    "print (\"Fin Ejemplo 2\")"
   ]
  },
  {
   "cell_type": "markdown",
   "id": "73af742a",
   "metadata": {},
   "source": [
    "# Ejemplo 3, De la lista de calificaciones obtener el promedio"
   ]
  },
  {
   "cell_type": "code",
   "execution_count": 8,
   "id": "f5e633e7",
   "metadata": {},
   "outputs": [
    {
     "name": "stdout",
     "output_type": "stream",
     "text": [
      "🎭 Error: unsupported operand type(s) for +=: 'int' and 'str' <class 'TypeError'>\n"
     ]
    }
   ],
   "source": [
    "calificaciones = [20,40,80,\"A\"]\n",
    "suma = 0\n",
    "try:\n",
    "    for i in range(len(calificaciones)+1):\n",
    "        suma += calificaciones[i] \n",
    "    promedio = suma / len(calificaciones)\n",
    "    print(\"Promedio:\", promedio)\n",
    "except ZeroDivisionError as e:\n",
    "    print(\"0️⃣ Error:\", e, type(e))\n",
    "except TypeError as e:\n",
    "    print(\"🎭 Error:\", e, type(e))\n",
    "except Exception as e:\n",
    "    print(\"💀 Error:\", e, type(e))"
   ]
  },
  {
   "cell_type": "markdown",
   "id": "c058a112",
   "metadata": {},
   "source": [
    "# Ejemplo 3, De la lista de calificaciones obtener el promedio"
   ]
  },
  {
   "cell_type": "code",
   "execution_count": 9,
   "id": "e02c498e",
   "metadata": {},
   "outputs": [
    {
     "name": "stdout",
     "output_type": "stream",
     "text": [
      "💀 Error: list index out of range <class 'IndexError'>\n"
     ]
    }
   ],
   "source": [
    "calificaciones = [20,40,80]\n",
    "suma = 0\n",
    "try:\n",
    "    for i in range(len(calificaciones)+1):\n",
    "        suma += calificaciones[i]\n",
    "    promedio = suma / len(calificaciones)\n",
    "    print(\"Promedio:\", promedio)\n",
    "except ZeroDivisionError as e:\n",
    "    print(\"0️⃣ Error:\", e, type(e))\n",
    "except TypeError as e:\n",
    "    print(\"🎭 Error:\", e, type(e))\n",
    "except Exception as e: # Captura cualquier excepción\n",
    "    print(\"💀 Error:\", e, type(e))"
   ]
  },
  {
   "cell_type": "markdown",
   "id": "7bea7ee1",
   "metadata": {},
   "source": [
    "# Ejemplo 3, De la lista de calificaciones obtener el promedio"
   ]
  },
  {
   "cell_type": "code",
   "execution_count": 10,
   "id": "a319a347",
   "metadata": {},
   "outputs": [
    {
     "name": "stdout",
     "output_type": "stream",
     "text": [
      "Promedio: 46.666666666666664\n"
     ]
    }
   ],
   "source": [
    "calificaciones = [20,40,80]\n",
    "suma = 0\n",
    "try:\n",
    "    for i in range(len(calificaciones)):\n",
    "        suma += calificaciones[i] # suma = suma + calificaciones[i]\n",
    "    promedio = suma / len(calificaciones)\n",
    "    print(\"Promedio:\", promedio)\n",
    "except ZeroDivisionError as e:\n",
    "    print(\"0️⃣ Error:\", e, type(e))\n",
    "except TypeError as e:\n",
    "    print(\"🎭 Error:\", e, type(e))\n",
    "except Exception as e:\n",
    "    print(\"💀 Error:\", e, type(e))"
   ]
  },
  {
   "cell_type": "markdown",
   "id": "a4b241ff",
   "metadata": {},
   "source": [
    "# Bloque else\n",
    "# Ejemplo 4, De la lista de calificaciones obtener el promedio"
   ]
  },
  {
   "cell_type": "code",
   "execution_count": 11,
   "id": "e538cd64",
   "metadata": {},
   "outputs": [
    {
     "name": "stdout",
     "output_type": "stream",
     "text": [
      "Inicio Ejemplo 4\n",
      "Promedio: 46.666666666666664\n",
      "🎉 Sin errores\n",
      "Fin Ejemplo 4\n"
     ]
    }
   ],
   "source": [
    "print (\"Inicio Ejemplo 4\")\n",
    "calificaciones = [20,40,80]\n",
    "suma = 0\n",
    "try:\n",
    "    for i in range(len(calificaciones)):\n",
    "        suma += calificaciones[i]\n",
    "    promedio = suma / len(calificaciones)\n",
    "    print(\"Promedio:\", promedio)\n",
    "except Exception as e:\n",
    "    print(\"💀 Error:\", e, type(e))\n",
    "else:\n",
    "    print (\"🎉 Sin errores\")\n",
    "print (\"Fin Ejemplo 4\")"
   ]
  },
  {
   "cell_type": "markdown",
   "id": "5da32b97",
   "metadata": {},
   "source": [
    "# Ejercicio 2, Crear un programa que solicite dos números y mediante una función devuelva la división de ambos\n",
    "# Si hay un error mostrar un mensaje de error. El programa se detiene si se ingresa \"salir\"\n",
    "# Añadir un bloque else que muestre el resultado de la función"
   ]
  },
  {
   "cell_type": "code",
   "execution_count": 13,
   "id": "c90415e9",
   "metadata": {},
   "outputs": [
    {
     "name": "stdout",
     "output_type": "stream",
     "text": [
      "🎉 Resultado:  1.0\n"
     ]
    }
   ],
   "source": [
    "def division(num1, num2):\n",
    "    return num1 / num2\n",
    "\n",
    "while True:\n",
    "    try:\n",
    "        num1 = input(\"Ingrese el primer número: \")\n",
    "        if num1 == \"salir\":\n",
    "            break\n",
    "        num2 = input(\"Ingrese el segundo número: \")\n",
    "        if num2 == \"salir\":\n",
    "            break\n",
    "        num1 = float(num1)\n",
    "        num2 = float(num2)\n",
    "        resultado = division(num1, num2)\n",
    "    except Exception as e:\n",
    "        print(\"💀 Error:\", e)\n",
    "    else:\n",
    "        print(\"🎉 Resultado: \",resultado)"
   ]
  },
  {
   "cell_type": "markdown",
   "id": "1a5b8fb1",
   "metadata": {},
   "source": [
    "# Bloque finally\n",
    "# Ejemplo 5, Simula una conexión a internet que haga ping y cerrar la conexión"
   ]
  },
  {
   "cell_type": "code",
   "execution_count": 14,
   "id": "845572ad",
   "metadata": {},
   "outputs": [
    {
     "name": "stdout",
     "output_type": "stream",
     "text": [
      "Inicio Ejemplo 5\n",
      "🔗 Ping...\n",
      "🎉 Ping Exitoso\n",
      "🔌 Cerrando conexión\n"
     ]
    }
   ],
   "source": [
    "print (\"Inicio Ejemplo 5\")\n",
    "try:\n",
    "    print(\"🔗 Ping...\")\n",
    "except Exception as e:\n",
    "    print(\"💀 Error:\", e)\n",
    "else:\n",
    "    print(\"🎉 Ping Exitoso\")\n",
    "finally:\n",
    "    print(\"🔌 Cerrando conexión\")\n"
   ]
  },
  {
   "cell_type": "markdown",
   "id": "0e984d69",
   "metadata": {},
   "source": [
    "# Raise\n",
    "# Ejemplo 6, Simula una conexión a internet que haga ping y cerrar la conexión"
   ]
  },
  {
   "cell_type": "code",
   "execution_count": 15,
   "id": "9f853c0b",
   "metadata": {},
   "outputs": [
    {
     "name": "stdout",
     "output_type": "stream",
     "text": [
      "Inicio Ejemplo 6\n",
      "🔗 Ping...\n",
      "💀 Error: Error de conexión\n",
      "🔌 Cerrando conexión\n"
     ]
    }
   ],
   "source": [
    "print (\"Inicio Ejemplo 6\")\n",
    "try:\n",
    "    print(\"🔗 Ping...\")\n",
    "    raise Exception(\"Error de conexión\") #Excepción genérica\n",
    "except Exception as e: # Captura cualquier excepción\n",
    "    print(\"💀 Error:\", e)\n",
    "else:\n",
    "    print(\"🎉 Ping Exitoso\")\n",
    "finally:\n",
    "    print(\"🔌 Cerrando conexión\")"
   ]
  },
  {
   "cell_type": "markdown",
   "id": "1548e464",
   "metadata": {},
   "source": [
    "# Ejercicio 3, Escriba un programa que solicite un número por teclado y se almacene en una lista\n",
    "# Si es 0 se genera una excepción\n",
    "# Si la ejecución es correcta muestra \"🎉Agregado\"\n",
    "# Termina la ejecución sólo con la palabra \"salir\" utilizar la excepción KeyboardInterrupt\n",
    "# Finalmente imprima siempre la suma de los números y la lista"
   ]
  },
  {
   "cell_type": "code",
   "execution_count": 16,
   "id": "3f936bfe",
   "metadata": {},
   "outputs": [
    {
     "name": "stdout",
     "output_type": "stream",
     "text": [
      "🎉 Número agregado\n",
      "Suma: 1.0\n",
      "Suma: 1.0\n"
     ]
    }
   ],
   "source": [
    "numeros = []\n",
    "while True:\n",
    "    try:\n",
    "        num = input(\"Ingrese un número: \")\n",
    "        if num == \"salir\":\n",
    "            break\n",
    "        num = float(num)\n",
    "        if num == 0:\n",
    "            raise Exception(\"No se puede agregar el número 0\")\n",
    "        numeros.append(num)\n",
    "    except KeyboardInterrupt as e:\n",
    "        print('🚫 Para salir escriba \"salir\"')\n",
    "    except Exception as e:\n",
    "        print(\"💀 Error:\", e)\n",
    "    else:\n",
    "        print(\"🎉 Número agregado\")\n",
    "    finally:\n",
    "        print(\"Suma:\", sum(numeros))"
   ]
  },
  {
   "cell_type": "markdown",
   "id": "b4d6be6d",
   "metadata": {},
   "source": [
    "# Pass\n",
    "# Ejemplo 7, Crea una función que no hace nada"
   ]
  },
  {
   "cell_type": "code",
   "execution_count": 17,
   "id": "f4923333",
   "metadata": {},
   "outputs": [
    {
     "name": "stdout",
     "output_type": "stream",
     "text": [
      "Inicio Ejemplo 7\n",
      "Fin Ejemplo 7\n"
     ]
    }
   ],
   "source": [
    "print(\"Inicio Ejemplo 7\")\n",
    "def funcion():\n",
    "    pass\n",
    "\n",
    "funcion()\n",
    "print(\"Fin Ejemplo 7\")"
   ]
  },
  {
   "cell_type": "markdown",
   "id": "88f99a94",
   "metadata": {},
   "source": [
    "# Excepciones personalizadas\n",
    "# Ejemplo 8, Tienes un frutero, saca las frutas mientras no sea un gusano y genera una excepción"
   ]
  },
  {
   "cell_type": "code",
   "execution_count": 18,
   "id": "dcf19699",
   "metadata": {},
   "outputs": [
    {
     "name": "stdout",
     "output_type": "stream",
     "text": [
      "Inicio Ejemplo 8\n",
      "🍎\n",
      "🍌\n",
      "🍐\n",
      "🐛 Error: 😱 Ewww!\n",
      "🍇\n",
      "Fin Ejemplo 8\n"
     ]
    }
   ],
   "source": [
    "print(\"Inicio Ejemplo 8\")\n",
    "class GusanoError(Exception):\n",
    "    pass\n",
    " \n",
    "frutero = ['🍎', '🍌', '🍐', '🐛', '🍇']\n",
    "for fruta in frutero:\n",
    "    try:\n",
    "        if fruta == '🐛':\n",
    "            raise GusanoError(\"😱 Ewww!\")\n",
    "        print(fruta)\n",
    "    except GusanoError as e:\n",
    "        print(\"🐛 Error:\", e)\n",
    "    except Exception as e:\n",
    "        print(\"💀 Error:\", e)\n",
    "print(\"Fin Ejemplo 8\")"
   ]
  },
  {
   "cell_type": "markdown",
   "id": "a84d48c6",
   "metadata": {},
   "source": [
    "# Ejercicio 4, Crear un programa que solicite palabras por teclado y almacene en una lista\n",
    "# Si se inserta caracteres no alfabéticos se genera una excepción personalizada y no se almacena\n",
    "# Si se ingresa \"salir\" se termina la ejecución\n",
    "# Mostrar el mensaje \"🎉 Palabra agregada\" si no hay errores\n",
    "# Finalmente imprimir la lista de palabras"
   ]
  },
  {
   "cell_type": "code",
   "execution_count": 19,
   "id": "bfa33c95",
   "metadata": {},
   "outputs": [
    {
     "name": "stdout",
     "output_type": "stream",
     "text": [
      "🚫 Error: Solo se permiten letras\n",
      "Lista: []\n",
      "Lista: []\n"
     ]
    }
   ],
   "source": [
    "class NoAlfabeticoError(Exception):\n",
    "    pass\n",
    "\n",
    "palabras = []\n",
    "while True:\n",
    "    try:\n",
    "        palabra = input(\"Ingrese una palabra: \")\n",
    "        if palabra == \"salir\":\n",
    "            break\n",
    "        if not palabra.isalpha():\n",
    "            raise NoAlfabeticoError(\"Solo se permiten letras\")\n",
    "        palabras.append(palabra)\n",
    "    except NoAlfabeticoError as e:\n",
    "        print(\"🚫 Error:\", e)\n",
    "    except Exception as e:\n",
    "        print(\"💀 Error:\", e)\n",
    "    else:\n",
    "        print(\"🎉 Palabra agregada\")\n",
    "    finally:\n",
    "        print(\"Lista:\", palabras)"
   ]
  }
 ],
 "metadata": {
  "kernelspec": {
   "display_name": "Python 3",
   "language": "python",
   "name": "python3"
  },
  "language_info": {
   "codemirror_mode": {
    "name": "ipython",
    "version": 3
   },
   "file_extension": ".py",
   "mimetype": "text/x-python",
   "name": "python",
   "nbconvert_exporter": "python",
   "pygments_lexer": "ipython3",
   "version": "3.12.6"
  }
 },
 "nbformat": 4,
 "nbformat_minor": 5
}
