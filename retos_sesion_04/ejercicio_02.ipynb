{
 "cells": [
  {
   "cell_type": "markdown",
   "id": "fad3f825",
   "metadata": {},
   "source": [
    "# Ejercicio: Dibujo de un Conejito con prints\n",
    "\n",
    "**Instrucciones:**\n",
    "- Utilizando solo la función `print()`, y un conjunto de caracteres como `o`, `\\`, `()`, `-`, `_`, etc., dibujamos un conejito durmiendo.\n",
    "\n",
    "### Resultado del conejito:"
   ]
  },
  {
   "cell_type": "code",
   "execution_count": 3,
   "id": "b4a2d67e",
   "metadata": {},
   "outputs": [
    {
     "name": "stdout",
     "output_type": "stream",
     "text": [
      " (\\(\\     \n",
      " ( -.-)   \n",
      " o_('')('')\n"
     ]
    }
   ],
   "source": [
    "# Bunny\n",
    "print(\" (\\\\(\\\\     \")\n",
    "print(\" ( -.-)   \")\n",
    "print(\" o_('')('')\")"
   ]
  }
 ],
 "metadata": {
  "kernelspec": {
   "display_name": "Python 3",
   "language": "python",
   "name": "python3"
  },
  "language_info": {
   "codemirror_mode": {
    "name": "ipython",
    "version": 3
   },
   "file_extension": ".py",
   "mimetype": "text/x-python",
   "name": "python",
   "nbconvert_exporter": "python",
   "pygments_lexer": "ipython3",
   "version": "3.12.6"
  }
 },
 "nbformat": 4,
 "nbformat_minor": 5
}
