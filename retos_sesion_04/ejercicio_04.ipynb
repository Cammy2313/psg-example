{
 "cells": [
  {
   "cell_type": "markdown",
   "id": "9b7fe676",
   "metadata": {},
   "source": [
    "# 🌲 Criaturas del Bosque: Recolectores 🐰🦊\n",
    "\n",
    "### Dos criaturas místicas se aventuran en un bosque encantado.\n",
    "### Su misión es recolectar comida mágica, quien recolecte más comida, gana."
   ]
  },
  {
   "cell_type": "markdown",
   "id": "69b0cc11",
   "metadata": {},
   "source": [
    "## 📏 Reglas del Juego\n",
    "\n",
    "1. Se utiliza un tablero es de 10 columnas por 10 filas y un dado.\n",
    "2. Cada jugador controla una criatura, ubicada en un extremo superior o inferior del tablero.\n",
    "3. Se lanza un dado para determinar cuántas `*` (comidas) se colocan aleatoriamente en el tablero.\n",
    "4. En su turno, cada jugador debe lanzar el dado para poder moverse esa cantidad de casillas en cualquier dirección (izquierda, derecha o diagonal).\n",
    "5. Si una criatura cae exactamente sobre un `*`, lo recolecta (suma un punto).\n",
    "6. El juego termina cuando no quedan más `*` en el tablero.\n",
    "7. El jugador con más puntos gana."
   ]
  },
  {
   "cell_type": "code",
   "execution_count": 4,
   "id": "7a9e376e",
   "metadata": {},
   "outputs": [
    {
     "name": "stdout",
     "output_type": "stream",
     "text": [
      "+---+---+---+---+---+---+---+---+---+---+\n",
      "| C |   |   |   |   |   |   |   |   |   |\n",
      "+---+---+---+---+---+---+---+---+---+---+\n",
      "|   |   |   |   |   |   |   |   |   |   |\n",
      "+---+---+---+---+---+---+---+---+---+---+\n",
      "|   |   |   |   |   |   |   |   |   |   |\n",
      "+---+---+---+---+---+---+---+---+---+---+\n",
      "|   |   |   |   |   |   |   |   |   |   |\n",
      "+---+---+---+---+---+---+---+---+---+---+\n",
      "|   |   |   |   |   |   |   |   |   |   |\n",
      "+---+---+---+---+---+---+---+---+---+---+\n",
      "|   |   |   |   |   |   |   |   |   |   |\n",
      "+---+---+---+---+---+---+---+---+---+---+\n",
      "|   |   |   |   |   |   |   |   |   |   |\n",
      "+---+---+---+---+---+---+---+---+---+---+\n",
      "|   |   |   |   |   |   |   |   |   |   |\n",
      "+---+---+---+---+---+---+---+---+---+---+\n",
      "|   |   |   |   |   |   |   |   |   |   |\n",
      "+---+---+---+---+---+---+---+---+---+---+\n",
      "|   |   |   |   |   |   |   |   |   | Z |\n",
      "+---+---+---+---+---+---+---+---+---+---+\n"
     ]
    }
   ],
   "source": [
    "print(\"+---+---+---+---+---+---+---+---+---+---+\")\n",
    "print(\"| C |   |   |   |   |   |   |   |   |   |\")\n",
    "print(\"+---+---+---+---+---+---+---+---+---+---+\")\n",
    "print(\"|   |   |   |   |   |   |   |   |   |   |\")\n",
    "print(\"+---+---+---+---+---+---+---+---+---+---+\")\n",
    "print(\"|   |   |   |   |   |   |   |   |   |   |\")\n",
    "print(\"+---+---+---+---+---+---+---+---+---+---+\")\n",
    "print(\"|   |   |   |   |   |   |   |   |   |   |\")\n",
    "print(\"+---+---+---+---+---+---+---+---+---+---+\")\n",
    "print(\"|   |   |   |   |   |   |   |   |   |   |\")\n",
    "print(\"+---+---+---+---+---+---+---+---+---+---+\")\n",
    "print(\"|   |   |   |   |   |   |   |   |   |   |\")\n",
    "print(\"+---+---+---+---+---+---+---+---+---+---+\")\n",
    "print(\"|   |   |   |   |   |   |   |   |   |   |\")\n",
    "print(\"+---+---+---+---+---+---+---+---+---+---+\")\n",
    "print(\"|   |   |   |   |   |   |   |   |   |   |\")\n",
    "print(\"+---+---+---+---+---+---+---+---+---+---+\")\n",
    "print(\"|   |   |   |   |   |   |   |   |   |   |\")\n",
    "print(\"+---+---+---+---+---+---+---+---+---+---+\")\n",
    "print(\"|   |   |   |   |   |   |   |   |   | Z |\")\n",
    "print(\"+---+---+---+---+---+---+---+---+---+---+\")"
   ]
  },
  {
   "cell_type": "markdown",
   "id": "e2ab2e34",
   "metadata": {},
   "source": [
    "## 🧸 Descripción de las Criaturas\n",
    "\n",
    "### 🐰 Conejo – Jugador 1 (`C`)\n",
    "Una criatura ágil y veloz del bosque.  \n",
    "El conejo es representado por la letra `C` en el tablero y comienza en la esquina **superior izquierda**.  \n",
    "Su objetivo es moverse por el bosque recolectando comida (`*`) dispersa por el terreno.\n",
    "\n",
    "### 🦊 Zorro – Jugador 2 (`Z`)\n",
    "Una criatura astuta y sigilosa, \n",
    "El zorro es representado por la letra `Z` en el tablero y comienza en la esquina **inferior derecha**.  \n",
    "También busca recolectar la mayor cantidad de comida mágica.\n",
    "\n",
    "### 🌟 Comida Mágica (`*`)\n",
    "La comida aparece aleatoriamente en el bosque.  \n",
    "Cada vez que una criatura la recolecta, gana **1 punto** y la `*` desaparece del tablero.  "
   ]
  },
  {
   "cell_type": "code",
   "execution_count": 5,
   "id": "04ccb93d",
   "metadata": {},
   "outputs": [
    {
     "name": "stdout",
     "output_type": "stream",
     "text": [
      "Jugador 1 - Conejo (C):\n",
      " (\\(\\     \n",
      " ( -.-)    \n",
      " o_('')('')\n",
      "\n",
      "Jugador 2 - Zorro (Z):\n",
      "  (\\_/)  \n",
      "  ( o.o )  \n",
      "  (  V  )  \n",
      "  \\| |/   \n"
     ]
    }
   ],
   "source": [
    "# Bunny\n",
    "print(\"Jugador 1 - Conejo (C):\")\n",
    "print(\" (\\\\(\\\\     \")\n",
    "print(\" ( -.-)    \")\n",
    "print(\" o_('')('')\")\n",
    "\n",
    "# Fox\n",
    "print(\"\\nJugador 2 - Zorro (Z):\")\n",
    "print(\"  (\\\\_/)  \")\n",
    "print(\"  ( o.o )  \")\n",
    "print(\"  (  V  )  \")\n",
    "print(\"  \\\\| |/   \")"
   ]
  }
 ],
 "metadata": {
  "kernelspec": {
   "display_name": "Python 3",
   "language": "python",
   "name": "python3"
  },
  "language_info": {
   "codemirror_mode": {
    "name": "ipython",
    "version": 3
   },
   "file_extension": ".py",
   "mimetype": "text/x-python",
   "name": "python",
   "nbconvert_exporter": "python",
   "pygments_lexer": "ipython3",
   "version": "3.12.6"
  }
 },
 "nbformat": 4,
 "nbformat_minor": 5
}
