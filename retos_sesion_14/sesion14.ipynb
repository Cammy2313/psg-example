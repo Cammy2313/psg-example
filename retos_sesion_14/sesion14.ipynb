{
 "cells": [
  {
   "cell_type": "markdown",
   "id": "929e416b",
   "metadata": {},
   "source": [
    "# FUNCIONES"
   ]
  },
  {
   "cell_type": "markdown",
   "id": "7142d948",
   "metadata": {},
   "source": [
    "# Para definir un bloque de código como función se utiliza la palabra reservada def"
   ]
  },
  {
   "cell_type": "code",
   "execution_count": 1,
   "id": "3823135d",
   "metadata": {},
   "outputs": [],
   "source": [
    "def nombre_funcion():\n",
    "    print (\"Bloque de código\")"
   ]
  },
  {
   "cell_type": "markdown",
   "id": "0e7bc248",
   "metadata": {},
   "source": [
    "# Para devolver un valor se utiliza la palabra reservada return seguida del valor a devolver"
   ]
  },
  {
   "cell_type": "code",
   "execution_count": 2,
   "id": "cbba6e32",
   "metadata": {},
   "outputs": [],
   "source": [
    "def nombre_funcion():\n",
    "    return \"Bloque de código\""
   ]
  },
  {
   "cell_type": "markdown",
   "id": "fb4c191d",
   "metadata": {},
   "source": [
    "# Se llama a una función utilizando su nombre seguido de paréntesis y los argumentos si los tiene"
   ]
  },
  {
   "cell_type": "code",
   "execution_count": 3,
   "id": "13a2d876",
   "metadata": {},
   "outputs": [
    {
     "name": "stdout",
     "output_type": "stream",
     "text": [
      "Bloque de código\n",
      "<class 'function'>\n"
     ]
    }
   ],
   "source": [
    "def nombre_funcion():\n",
    "    print (\"Bloque de código\")\n",
    "\n",
    "nombre_funcion()\n",
    "print (type(nombre_funcion))"
   ]
  },
  {
   "cell_type": "markdown",
   "id": "c66c1a24",
   "metadata": {},
   "source": [
    "# Las funciones se deben definir antes de ser llamadas"
   ]
  },
  {
   "cell_type": "code",
   "execution_count": 4,
   "id": "e29af170",
   "metadata": {},
   "outputs": [
    {
     "name": "stdout",
     "output_type": "stream",
     "text": [
      "Bloque de código\n"
     ]
    }
   ],
   "source": [
    "def nombre_funcion():\n",
    "    print (\"Bloque de código\")\n",
    "\n",
    "nombre_funcion()"
   ]
  },
  {
   "cell_type": "markdown",
   "id": "15967f18",
   "metadata": {},
   "source": [
    "# Funciones sin argumentos y sin retorno"
   ]
  },
  {
   "cell_type": "code",
   "execution_count": 5,
   "id": "8c66a897",
   "metadata": {},
   "outputs": [
    {
     "name": "stdout",
     "output_type": "stream",
     "text": [
      "Bloque de código\n"
     ]
    }
   ],
   "source": [
    "def funcion():\n",
    "    print (\"Bloque de código\")\n",
    "\n",
    "funcion()"
   ]
  },
  {
   "cell_type": "markdown",
   "id": "5591bb2b",
   "metadata": {},
   "source": [
    "# Ejemplo 1, Crear una función para imprimir una lista de 10 números pares y llamarla dos veces"
   ]
  },
  {
   "cell_type": "code",
   "execution_count": 6,
   "id": "669b88a8",
   "metadata": {},
   "outputs": [
    {
     "name": "stdout",
     "output_type": "stream",
     "text": [
      "Ejemplo 1\n",
      "1. Definir función\n",
      "2. Llamar función\n",
      "[0, 2, 4, 6, 8, 10, 12, 14, 16, 18, 20]\n",
      "[0, 2, 4, 6, 8, 10, 12, 14, 16, 18, 20]\n"
     ]
    }
   ],
   "source": [
    "print (\"Ejemplo 1\")\n",
    "print (\"1. Definir función\")\n",
    "def imprimir_pares():\n",
    "    pares = [i for i in range(0, 21, 2)]\n",
    "    print (pares)\n",
    "\n",
    "print (\"2. Llamar función\")\n",
    "imprimir_pares()\n",
    "imprimir_pares()"
   ]
  },
  {
   "cell_type": "markdown",
   "id": "145bed89",
   "metadata": {},
   "source": [
    "# Ejercicio 1, crear una función que imprima un mensaje de bienvenida del siguiente conjunto de forma aleatoria"
   ]
  },
  {
   "cell_type": "code",
   "execution_count": 7,
   "id": "9614291e",
   "metadata": {},
   "outputs": [
    {
     "name": "stdout",
     "output_type": "stream",
     "text": [
      "Hola, aprendamos Python juntos 🐍\n"
     ]
    }
   ],
   "source": [
    "def bienvenida():\n",
    "    mensajes = {\"Bienvenido al Python Study Group 🐍\",\n",
    "    \"¡Hola y bienvenido al Python Study Group! ✨\",\n",
    "    \"Hola, aprendamos Python juntos 🐍\"}\n",
    "    print (mensajes.pop())\n",
    "\n",
    "bienvenida()"
   ]
  },
  {
   "cell_type": "markdown",
   "id": "be68f396",
   "metadata": {},
   "source": [
    "# Funciones sin argumentos y con un retorno"
   ]
  },
  {
   "cell_type": "code",
   "execution_count": 8,
   "id": "929c1e4f",
   "metadata": {},
   "outputs": [
    {
     "name": "stdout",
     "output_type": "stream",
     "text": [
      "Bloque de código\n"
     ]
    }
   ],
   "source": [
    "def funcion():\n",
    "    return \"Bloque de código\"\n",
    "\n",
    "resultado = funcion()\n",
    "print (resultado)"
   ]
  },
  {
   "cell_type": "markdown",
   "id": "fdc26745",
   "metadata": {},
   "source": [
    "# Ejemplo 2, Crear una función que devuelva un saludo en diferentes idiomas"
   ]
  },
  {
   "cell_type": "code",
   "execution_count": 9,
   "id": "6c3ea7d1",
   "metadata": {},
   "outputs": [
    {
     "name": "stdout",
     "output_type": "stream",
     "text": [
      "Ejemplo 2\n",
      "1. Definir función\n",
      "2. Llamar función\n",
      "Ciao\n"
     ]
    }
   ],
   "source": [
    "print (\"Ejemplo 2\")\n",
    "print (\"1. Definir función\")\n",
    "def saludo():\n",
    "    saludos = {\"Hola\", \"Hello\", \"Bonjour\", \"Ciao\"}\n",
    "    return saludos.pop()\n",
    "\n",
    "print (\"2. Llamar función\")\n",
    "resultado = saludo()\n",
    "print (resultado)"
   ]
  },
  {
   "cell_type": "markdown",
   "id": "0d22598c",
   "metadata": {},
   "source": [
    "# Ejercicio 2, Devolver una fruta aleatoria del siguiente conjunto"
   ]
  },
  {
   "cell_type": "code",
   "execution_count": 10,
   "id": "16052c22",
   "metadata": {},
   "outputs": [
    {
     "name": "stdout",
     "output_type": "stream",
     "text": [
      "🍇\n"
     ]
    }
   ],
   "source": [
    "def devolver_fruta():\n",
    "    frutas = {'🍅','🍌','🍎','🍇','🍉'}\n",
    "    return frutas.pop()\n",
    "\n",
    "fruta = devolver_fruta()\n",
    "print (fruta)"
   ]
  },
  {
   "cell_type": "markdown",
   "id": "10585c75",
   "metadata": {},
   "source": [
    "# Funciones sin argumentos y con múltiple retorno"
   ]
  },
  {
   "cell_type": "code",
   "execution_count": 11,
   "id": "ffc94436",
   "metadata": {},
   "outputs": [
    {
     "name": "stdout",
     "output_type": "stream",
     "text": [
      "('Bloque', 'de', 'código')\n"
     ]
    }
   ],
   "source": [
    "def funcion():\n",
    "    return \"Bloque\", \"de\", \"código\"\n",
    "\n",
    "resultado = funcion()\n",
    "print (resultado)"
   ]
  },
  {
   "cell_type": "markdown",
   "id": "c51425ee",
   "metadata": {},
   "source": [
    "# Ejemplo 3, Crear una función que devuelva un saludo en dos idiomas"
   ]
  },
  {
   "cell_type": "code",
   "execution_count": 12,
   "id": "1da6b600",
   "metadata": {},
   "outputs": [
    {
     "name": "stdout",
     "output_type": "stream",
     "text": [
      "Ejemplo 3\n",
      "1. Definir función\n",
      "2. Llamar función\n",
      "('Holi', 'Hi')\n"
     ]
    }
   ],
   "source": [
    "print (\"Ejemplo 3\")\n",
    "print (\"1. Definir función\")\n",
    "def saludo():\n",
    "    saludos_es = {\"Hola\", \"Holi\", \"Buenos días\"}\n",
    "    saludos_en = {\"Hello\", \"Hi\", \"Good morning\"}\n",
    "    return saludos_es.pop(), saludos_en.pop()\n",
    "\n",
    "print (\"2. Llamar función\")\n",
    "resultado = saludo()\n",
    "print (resultado)"
   ]
  },
  {
   "cell_type": "markdown",
   "id": "786ae80a",
   "metadata": {},
   "source": [
    "# Ejercicio 3, Devolver una fruta y un color aleatorio de los siguientes conjuntos"
   ]
  },
  {
   "cell_type": "code",
   "execution_count": 13,
   "id": "dbaf5c01",
   "metadata": {},
   "outputs": [
    {
     "name": "stdout",
     "output_type": "stream",
     "text": [
      "🍇 🟢\n"
     ]
    }
   ],
   "source": [
    "def devolver_fruta_color():\n",
    "    frutas = {'🍅','🍌','🍎','🍇','🍉'}\n",
    "    colores = {'🔴','🟠','🟡','🟢','🔵'}\n",
    "    return frutas.pop(), colores.pop()\n",
    "\n",
    "fruta, color = devolver_fruta_color()\n",
    "print (fruta, color)"
   ]
  },
  {
   "cell_type": "markdown",
   "id": "e90306df",
   "metadata": {},
   "source": [
    "# Funciones con un argumento y sin retorno"
   ]
  },
  {
   "cell_type": "code",
   "execution_count": 14,
   "id": "3ffe2ae4",
   "metadata": {},
   "outputs": [
    {
     "name": "stdout",
     "output_type": "stream",
     "text": [
      "Bloque de código\n"
     ]
    }
   ],
   "source": [
    "def funcion(parametro):\n",
    "    print (parametro)\n",
    "\n",
    "funcion(\"Bloque de código\")"
   ]
  },
  {
   "cell_type": "markdown",
   "id": "d3af3168",
   "metadata": {},
   "source": [
    "# Ejemplo 4, Crear una función que imprima el cuadrado de un número"
   ]
  },
  {
   "cell_type": "code",
   "execution_count": 15,
   "id": "7fc696b5",
   "metadata": {},
   "outputs": [
    {
     "name": "stdout",
     "output_type": "stream",
     "text": [
      "Ejemplo 4\n",
      "1. Definir función\n",
      "2. Llamar función\n",
      "25\n",
      "100\n"
     ]
    }
   ],
   "source": [
    "print (\"Ejemplo 4\")\n",
    "print (\"1. Definir función\")\n",
    "def cuadrado(numero):\n",
    "    print (numero**2)\n",
    "\n",
    "print (\"2. Llamar función\")\n",
    "cuadrado(5)\n",
    "cuadrado(10)"
   ]
  },
  {
   "cell_type": "markdown",
   "id": "6140337d",
   "metadata": {},
   "source": [
    "# Ejercicio 4, Crear una función que imprima el mensaje de bienvenida de acuerdo al un idioma enviado como argumento, si no existe imprimir un mensaje por defecto"
   ]
  },
  {
   "cell_type": "code",
   "execution_count": 16,
   "id": "72af66ae",
   "metadata": {},
   "outputs": [
    {
     "name": "stdout",
     "output_type": "stream",
     "text": [
      "Bienvenido al Python Study Group 🐍\n",
      "Hello and welcome to the Python Study Group! ✨\n",
      "¡Hola!\n"
     ]
    }
   ],
   "source": [
    "def bienvenida(idioma):\n",
    "    mensajes = {\n",
    "        \"es\":\"Bienvenido al Python Study Group 🐍\",\n",
    "        \"en\": \"Hello and welcome to the Python Study Group! ✨\",\n",
    "    }\n",
    "    print (mensajes.get(idioma, \"¡Hola!\"))\n",
    "\n",
    "bienvenida(\"es\")\n",
    "bienvenida(\"en\")\n",
    "bienvenida(\"fr\")"
   ]
  },
  {
   "cell_type": "markdown",
   "id": "f385f7a7",
   "metadata": {},
   "source": [
    "# Funciones con múltiples argumentos y sin retorno"
   ]
  },
  {
   "cell_type": "code",
   "execution_count": 18,
   "id": "907914c3",
   "metadata": {},
   "outputs": [
    {
     "name": "stdout",
     "output_type": "stream",
     "text": [
      "Bloque de código\n"
     ]
    }
   ],
   "source": [
    "def funcion(param1, param2,  paramN):\n",
    "    print (param1, param2, paramN)\n",
    "\n",
    "funcion(\"Bloque\", \"de\", \"código\")"
   ]
  },
  {
   "cell_type": "markdown",
   "id": "7df4bae9",
   "metadata": {},
   "source": [
    "# Ejemplo 5, Crear una función que reciba una cadena y un entero y repita la cadena el número de veces"
   ]
  },
  {
   "cell_type": "code",
   "execution_count": 19,
   "id": "6a3e5f18",
   "metadata": {},
   "outputs": [
    {
     "name": "stdout",
     "output_type": "stream",
     "text": [
      "Ejemplo 5\n",
      "1. Definir función\n",
      "2. Llamar función\n",
      "✨🎉✨🎉✨🎉✨🎉✨🎉✨🎉✨🎉✨🎉✨🎉✨🎉\n"
     ]
    }
   ],
   "source": [
    "print (\"Ejemplo 5\")\n",
    "print (\"1. Definir función\")\n",
    "def repetir(cadena, veces):\n",
    "    print (cadena*veces)\n",
    "\n",
    "print (\"2. Llamar función\")\n",
    "repetir(\"✨🎉\", 10)"
   ]
  },
  {
   "cell_type": "markdown",
   "id": "fcb67311",
   "metadata": {},
   "source": [
    "# Ejercicio 5, Crear una función que reciba una lista de animales, un entero e imprima una lista con los animales repetidos el número de veces"
   ]
  },
  {
   "cell_type": "code",
   "execution_count": 22,
   "id": "d529b2a9",
   "metadata": {},
   "outputs": [
    {
     "name": "stdout",
     "output_type": "stream",
     "text": [
      "['🐶🐶🐶', '🐱🐱🐱', '🐭🐭🐭', '🐹🐹🐹', '🐰🐰🐰']\n",
      "('Holi', 'Hi')\n"
     ]
    }
   ],
   "source": [
    "def repetir_animales(animales, veces):\n",
    "    lista = [animal*veces for animal in animales]\n",
    "    print (lista)\n",
    "\n",
    "animales = ['🐶','🐱','🐭','🐹','🐰']\n",
    "repetir_animales(animales, 3)\n",
    "\n",
    "print (resultado)"
   ]
  },
  {
   "cell_type": "markdown",
   "id": "243da04e",
   "metadata": {},
   "source": [
    "# Funciones con múltiples argumentos y con un retorno"
   ]
  },
  {
   "cell_type": "code",
   "execution_count": 23,
   "id": "6751ac86",
   "metadata": {},
   "outputs": [
    {
     "name": "stdout",
     "output_type": "stream",
     "text": [
      "Bloque\n"
     ]
    }
   ],
   "source": [
    "def funcion(param1, param2, paramN):\n",
    "    return param1\n",
    "\n",
    "resultado = funcion(\"Bloque\", \"de\", \"código\")\n",
    "print (resultado)"
   ]
  },
  {
   "cell_type": "markdown",
   "id": "a794e769",
   "metadata": {},
   "source": [
    "# Ejemplo 6, Crear una función que reciba dos números y devuelva una lista con la suma, resta, multiplicación y división de los números"
   ]
  },
  {
   "cell_type": "code",
   "execution_count": 24,
   "id": "dc8a74de",
   "metadata": {},
   "outputs": [
    {
     "name": "stdout",
     "output_type": "stream",
     "text": [
      "Ejemplo 6\n",
      "1. Definir función\n",
      "2. Llamar función\n",
      "[15, 5, 50, 2.0]\n"
     ]
    }
   ],
   "source": [
    "print (\"Ejemplo 6\")\n",
    "print (\"1. Definir función\")\n",
    "def operaciones(numero1, numero2):\n",
    "    suma = numero1 + numero2\n",
    "    resta = numero1 - numero2\n",
    "    multiplicacion = numero1 * numero2\n",
    "    division = numero1 / numero2\n",
    "    return [suma, resta, multiplicacion, division]\n",
    "\n",
    "print (\"2. Llamar función\")\n",
    "resultado = operaciones(10, 5)\n",
    "print (resultado)"
   ]
  },
  {
   "cell_type": "markdown",
   "id": "a6525c14",
   "metadata": {},
   "source": [
    "# Ejercicio 6, Crear una función que reciba dos enteros y una cadena devolver el resultado de la operación de los números según la cadena puede ser suma, resta, multiplicación o división"
   ]
  },
  {
   "cell_type": "code",
   "execution_count": 25,
   "id": "506b7243",
   "metadata": {},
   "outputs": [
    {
     "name": "stdout",
     "output_type": "stream",
     "text": [
      "15\n"
     ]
    }
   ],
   "source": [
    "def operacion(numero1, numero2, operacion):\n",
    "    if operacion == \"suma\":\n",
    "        return numero1 + numero2\n",
    "    elif operacion == \"resta\":\n",
    "        return numero1 - numero2\n",
    "    elif operacion == \"multiplicacion\":\n",
    "        return numero1 * numero2\n",
    "    elif operacion == \"division\":\n",
    "        return numero1 / numero2\n",
    "    else:\n",
    "        return \"Operación no válida\"\n",
    "\n",
    "resultado = operacion(10, 5, \"suma\")\n",
    "print (resultado)"
   ]
  },
  {
   "cell_type": "markdown",
   "id": "831c6d2f",
   "metadata": {},
   "source": [
    "# Funciones con múltiples argumentos y con múltiple retorno"
   ]
  },
  {
   "cell_type": "code",
   "execution_count": 26,
   "id": "14ddcff8",
   "metadata": {},
   "outputs": [
    {
     "name": "stdout",
     "output_type": "stream",
     "text": [
      "('Bloque', 'de', 'código')\n"
     ]
    }
   ],
   "source": [
    "def funcion(param1, param2, paramN):\n",
    "    return param1, param2, paramN\n",
    "\n",
    "resultado = funcion(\"Bloque\", \"de\", \"código\")\n",
    "print (resultado)"
   ]
  },
  {
   "cell_type": "markdown",
   "id": "7d517df2",
   "metadata": {},
   "source": [
    "# Ejemplo 7, Crear una función que reciba dos números y devuelva la suma, resta, multiplicación y división de los dos números"
   ]
  },
  {
   "cell_type": "code",
   "execution_count": 27,
   "id": "6de313ac",
   "metadata": {},
   "outputs": [
    {
     "name": "stdout",
     "output_type": "stream",
     "text": [
      "Ejemplo 7\n",
      "1. Definir función\n",
      "2. Llamar función\n",
      "15 5 50 2.0\n"
     ]
    }
   ],
   "source": [
    "print (\"Ejemplo 7\")\n",
    "print (\"1. Definir función\")\n",
    "def operaciones(numero1, numero2):\n",
    "    suma = numero1 + numero2\n",
    "    resta = numero1 - numero2\n",
    "    multiplicacion = numero1 * numero2\n",
    "    division = numero1 / numero2\n",
    "    return suma, resta, multiplicacion, division\n",
    "\n",
    "print (\"2. Llamar función\")\n",
    "suma, resta, multiplicacion, division = operaciones(10, 5)\n",
    "print (suma, resta, multiplicacion, division)"
   ]
  },
  {
   "cell_type": "markdown",
   "id": "c6cb8be7",
   "metadata": {},
   "source": [
    "# Ejercicio 7, Crear una juego de piedra papel o tijera, donde reciba dos jugadas por teclado y devuelva las jugadas y el resultado, si ingresa salir terminar el juego"
   ]
  },
  {
   "cell_type": "code",
   "execution_count": 28,
   "id": "c67b290b",
   "metadata": {},
   "outputs": [
    {
     "name": "stdout",
     "output_type": "stream",
     "text": [
      "('piedra', 'papel', 'Jugador 2 gana')\n"
     ]
    }
   ],
   "source": [
    "def jugar_piedra_papel_tijera(jugada1, jugada2):\n",
    "    if jugada1 == jugada2:\n",
    "        resultado = \"Empate\"\n",
    "    elif jugada1 == \"piedra\" and jugada2 == \"tijera\":\n",
    "        resultado = \"Jugador 1 gana\"\n",
    "    elif jugada1 == \"papel\" and jugada2 == \"piedra\":\n",
    "        resultado = \"Jugador 1 gana\"\n",
    "    elif jugada1 == \"tijera\" and jugada2 == \"papel\":\n",
    "        resultado = \"Jugador 1 gana\"\n",
    "    else:\n",
    "        resultado = \"Jugador 2 gana\"\n",
    "    return jugada1, jugada2, resultado\n",
    "\n",
    "while True:\n",
    "    jugador1 = input(\"Jugador 1: \")\n",
    "    if jugador1 == \"salir\":\n",
    "        break\n",
    "    jugador2 = input(\"Jugador 2: \")\n",
    "    if jugador2 == \"salir\":\n",
    "        break\n",
    "    resultado = jugar_piedra_papel_tijera(jugador1, jugador2)\n",
    "    print (resultado)"
   ]
  },
  {
   "cell_type": "markdown",
   "id": "ba22e35f",
   "metadata": {},
   "source": [
    "# Variables globales y locales"
   ]
  },
  {
   "cell_type": "code",
   "execution_count": 29,
   "id": "81e28854",
   "metadata": {},
   "outputs": [
    {
     "name": "stdout",
     "output_type": "stream",
     "text": [
      "✨ Variable global\n",
      "✨ Variable local\n",
      "🎈 Variable global\n"
     ]
    },
    {
     "ename": "NameError",
     "evalue": "name 'variable_local' is not defined",
     "output_type": "error",
     "traceback": [
      "\u001b[31m---------------------------------------------------------------------------\u001b[39m",
      "\u001b[31mNameError\u001b[39m                                 Traceback (most recent call last)",
      "\u001b[36mCell\u001b[39m\u001b[36m \u001b[39m\u001b[32mIn[29]\u001b[39m\u001b[32m, line 10\u001b[39m\n\u001b[32m      8\u001b[39m funcion()\n\u001b[32m      9\u001b[39m \u001b[38;5;28mprint\u001b[39m (\u001b[33m\"\u001b[39m\u001b[33m🎈\u001b[39m\u001b[33m\"\u001b[39m,variable_global)\n\u001b[32m---> \u001b[39m\u001b[32m10\u001b[39m \u001b[38;5;28mprint\u001b[39m (\u001b[33m\"\u001b[39m\u001b[33m🎈\u001b[39m\u001b[33m\"\u001b[39m,\u001b[43mvariable_local\u001b[49m)\n",
      "\u001b[31mNameError\u001b[39m: name 'variable_local' is not defined"
     ]
    }
   ],
   "source": [
    "variable_global = \"Variable global\"\n",
    "\n",
    "def funcion():\n",
    "    variable_local = \"Variable local\"\n",
    "    print (\"✨\",variable_global)\n",
    "    print (\"✨\",variable_local)\n",
    "\n",
    "funcion()\n",
    "print (\"🎈\",variable_global)\n",
    "print (\"🎈\",variable_local)"
   ]
  },
  {
   "cell_type": "markdown",
   "id": "a399213f",
   "metadata": {},
   "source": [
    "# Prioridad"
   ]
  },
  {
   "cell_type": "code",
   "execution_count": 30,
   "id": "f3f57b23",
   "metadata": {},
   "outputs": [
    {
     "name": "stdout",
     "output_type": "stream",
     "text": [
      "0. Variable global\n",
      "1. Variable local\n",
      "2. Variable global\n"
     ]
    }
   ],
   "source": [
    "variable = \"Variable global\"\n",
    "print ('0.',variable)\n",
    "\n",
    "def funcion():\n",
    "    variable = \"Variable local\"\n",
    "    print ('1.',variable)\n",
    "\n",
    "funcion()\n",
    "print ('2.',variable)"
   ]
  },
  {
   "cell_type": "markdown",
   "id": "aeafab0c",
   "metadata": {},
   "source": [
    "# Ejemplo 8, De la siguiente lista de números obtener el mayor y menor número con una función"
   ]
  },
  {
   "cell_type": "code",
   "execution_count": 31,
   "id": "52ea67bf",
   "metadata": {},
   "outputs": [
    {
     "name": "stdout",
     "output_type": "stream",
     "text": [
      "(30, 5)\n"
     ]
    }
   ],
   "source": [
    "numeros = [10, 5, 20, 15, 25, 30] #Global\n",
    "\n",
    "def mayor_menor(): #No recibe argumentos\n",
    "    mayor = max(numeros) #Local\n",
    "    menor = min(numeros) #Local\n",
    "    return mayor, menor #Devuelve dos valores\n",
    "\n",
    "resultado = mayor_menor()\n",
    "print (resultado)"
   ]
  },
  {
   "cell_type": "markdown",
   "id": "60f44c50",
   "metadata": {},
   "source": [
    "# Ejercicio 8, De la siguiente cadena global convertir en formato título y contar las vocales aeiou con una función"
   ]
  },
  {
   "cell_type": "code",
   "execution_count": 32,
   "id": "5d2ffda0",
   "metadata": {},
   "outputs": [
    {
     "name": "stdout",
     "output_type": "stream",
     "text": [
      "('Python Es Un Lenguaje De Programación', 10)\n"
     ]
    }
   ],
   "source": [
    "def formato_vocales():\n",
    "    titulo = cadena.title()\n",
    "    vocales = sum([1 for letra in titulo if letra in \"aeiou\"])\n",
    "    return titulo, vocales\n",
    "\n",
    "cadena = \"python es un lenguaje de programación\"\n",
    "resultado = formato_vocales()\n",
    "\n",
    "print (resultado)"
   ]
  },
  {
   "cell_type": "markdown",
   "id": "5f0e1a28",
   "metadata": {},
   "source": [
    "# Args y Kwargs"
   ]
  },
  {
   "cell_type": "markdown",
   "id": "52511970",
   "metadata": {},
   "source": [
    "# Estructura de *args"
   ]
  },
  {
   "cell_type": "code",
   "execution_count": 33,
   "id": "4ec26c1a",
   "metadata": {},
   "outputs": [
    {
     "name": "stdout",
     "output_type": "stream",
     "text": [
      "('Bloque', 'de', 'código')\n",
      "<class 'tuple'>\n"
     ]
    }
   ],
   "source": [
    "def funcion(*args):\n",
    "    print (args)\n",
    "    print (type(args))\n",
    "\n",
    "funcion(\"Bloque\", \"de\", \"código\")"
   ]
  },
  {
   "cell_type": "markdown",
   "id": "b3b18afc",
   "metadata": {},
   "source": [
    "# Ejemplo 9 Crear una función que reciba un número y una cantidad de cadenas, concatene las cadenas y la devuelva repetida N veces"
   ]
  },
  {
   "cell_type": "code",
   "execution_count": 34,
   "id": "343cafea",
   "metadata": {},
   "outputs": [
    {
     "name": "stdout",
     "output_type": "stream",
     "text": [
      "Ejemplo 9\n",
      "1. Definir función\n",
      "2. Llamar función\n",
      "🍎🍌🍍🍎🍌🍍🍎🍌🍍\n"
     ]
    }
   ],
   "source": [
    "print (\"Ejemplo 9\")\n",
    "print (\"1. Definir función\")\n",
    "def concatenar(numero, *cadenas):\n",
    "    concatenado = \"\"\n",
    "    for cadena in cadenas:\n",
    "        concatenado += cadena\n",
    "    return concatenado*numero\n",
    "\n",
    "print (\"2. Llamar función\")\n",
    "resultado = concatenar(3, \"🍎\", \"🍌\", \"🍍\")\n",
    "print (resultado)"
   ]
  },
  {
   "cell_type": "markdown",
   "id": "6a021875",
   "metadata": {},
   "source": [
    "# Ejercicio 9, Crear una función que reciba N objetos y genere una tupla y una lista con los objetos usando *args"
   ]
  },
  {
   "cell_type": "code",
   "execution_count": 35,
   "id": "e5369a1e",
   "metadata": {},
   "outputs": [
    {
     "name": "stdout",
     "output_type": "stream",
     "text": [
      "(1, 1.1, True, '🍎')\n",
      "[1, 1.1, True, '🍎']\n"
     ]
    }
   ],
   "source": [
    "def tupla_lista(*args):\n",
    "    tupla = tuple(args)\n",
    "    lista = list(args)\n",
    "    return tupla, lista\n",
    "\n",
    "lista, tupla = tupla_lista(1, 1.1, True, \"🍎\")\n",
    "\n",
    "print (lista)\n",
    "print (tupla)"
   ]
  },
  {
   "cell_type": "markdown",
   "id": "e0d5161e",
   "metadata": {},
   "source": [
    "# Kwargs"
   ]
  },
  {
   "cell_type": "markdown",
   "id": "d325196b",
   "metadata": {},
   "source": [
    "# Estructura de **kwargs"
   ]
  },
  {
   "cell_type": "code",
   "execution_count": 36,
   "id": "4496a7b2",
   "metadata": {},
   "outputs": [
    {
     "name": "stdout",
     "output_type": "stream",
     "text": [
      "{'nombre': 'Jhon', 'apellido': 'Doe', 'genero': 'M'}\n",
      "<class 'dict'>\n"
     ]
    }
   ],
   "source": [
    "def funcion(**kwargs):\n",
    "    print (kwargs)\n",
    "    print (type(kwargs))\n",
    "\n",
    "funcion(nombre=\"Jhon\", apellido=\"Doe\", genero=\"M\")"
   ]
  },
  {
   "cell_type": "markdown",
   "id": "6f435456",
   "metadata": {},
   "source": [
    "# Ejemplo 10, Crear una función que reciba los datos de una persona y devuelva un mensaje con los datos"
   ]
  },
  {
   "cell_type": "code",
   "execution_count": 37,
   "id": "02e03081",
   "metadata": {},
   "outputs": [
    {
     "name": "stdout",
     "output_type": "stream",
     "text": [
      "Ejemplo 10\n",
      "1. Definir función\n",
      "2. Llamar función\n",
      "Nombre: JHON\n",
      "Apellido: DOE\n",
      "Edad: 20\n",
      "Boliviano: TRUE\n",
      "\n"
     ]
    }
   ],
   "source": [
    "print (\"Ejemplo 10\")\n",
    "print (\"1. Definir función\")\n",
    "def datos_persona(**datos):\n",
    "    mensaje = \"\"\n",
    "    for clave, valor in datos.items():\n",
    "        mensaje += f\"{str(clave).title()}: {str(valor).upper()}\\n\"\n",
    "    return mensaje\n",
    "print (\"2. Llamar función\")\n",
    "resultado = datos_persona(nombre=\"Jhon\", apellido=\"Doe\", edad=20, boliviano=True)\n",
    "print (resultado)"
   ]
  },
  {
   "cell_type": "markdown",
   "id": "6cff0e57",
   "metadata": {},
   "source": [
    "# Ejercicio 10, Crea un simulador de lavar platos con una función que reciba los objetos a lavar y el tiempo de lavado de cada objeto devuelva un mensaje con los objetos lavados y el tiempo total de lavado"
   ]
  },
  {
   "cell_type": "code",
   "execution_count": 38,
   "id": "4c45da51",
   "metadata": {},
   "outputs": [
    {
     "name": "stdout",
     "output_type": "stream",
     "text": [
      "plato: 5 minutos\n",
      "vaso: 3 minutos\n",
      "tenedor: 1 minutos\n",
      "cuchara: 0.5 minutos\n",
      "Tiempo total: 9.5 minutos\n"
     ]
    }
   ],
   "source": [
    "def lavar(**objetos):\n",
    "    tiempo_total = 0\n",
    "    mensaje = \"\"\n",
    "    for objeto, tiempo in objetos.items():\n",
    "        tiempo_total += tiempo\n",
    "        mensaje += f\"{objeto}: {tiempo} minutos\\n\"\n",
    "    mensaje += f\"Tiempo total: {tiempo_total} minutos\"\n",
    "    return mensaje\n",
    "\n",
    "resultado = lavar(plato=5, vaso=3, tenedor=1, cuchara=0.5)\n",
    "print (resultado)"
   ]
  },
  {
   "cell_type": "markdown",
   "id": "eb106cff",
   "metadata": {},
   "source": [
    "# Documentación de funciones"
   ]
  },
  {
   "cell_type": "markdown",
   "id": "aeceb2b1",
   "metadata": {},
   "source": [
    "# Documentación de una función"
   ]
  },
  {
   "cell_type": "code",
   "execution_count": 39,
   "id": "13fcd32e",
   "metadata": {},
   "outputs": [],
   "source": [
    "def funcion():\n",
    "    \"\"\"\n",
    "    Documentación aquí\n",
    "    \"\"\"\n",
    "    print (\"Bloque de código\")"
   ]
  },
  {
   "cell_type": "markdown",
   "id": "4dcc8f81",
   "metadata": {},
   "source": [
    "# Acceso a la documentación con .__doc__"
   ]
  },
  {
   "cell_type": "code",
   "execution_count": 40,
   "id": "bd244a16",
   "metadata": {},
   "outputs": [
    {
     "name": "stdout",
     "output_type": "stream",
     "text": [
      "Acceso a la documentación\n",
      "\n",
      "    Documentación aquí\n",
      "    \n",
      "Fin de la ejecución\n"
     ]
    }
   ],
   "source": [
    "print (\"Acceso a la documentación\")\n",
    "def funcion():\n",
    "    \"\"\"\n",
    "    Documentación aquí\n",
    "    \"\"\"\n",
    "    print (\"Bloque de código\")\n",
    "print (funcion.__doc__)\n",
    "print (\"Fin de la ejecución\")"
   ]
  },
  {
   "cell_type": "markdown",
   "id": "9fb94cca",
   "metadata": {},
   "source": [
    "# Llamado de funciones dentro de funciones"
   ]
  },
  {
   "cell_type": "markdown",
   "id": "002e931d",
   "metadata": {},
   "source": [
    "# Ejemplo 11, Crear tres funciones una principal que reciba un número y dos funciones anidadas que devuelvan el cuadrado y el cubo del número"
   ]
  },
  {
   "cell_type": "code",
   "execution_count": 41,
   "id": "b11604b9",
   "metadata": {},
   "outputs": [
    {
     "name": "stdout",
     "output_type": "stream",
     "text": [
      "Ejemplo 11\n",
      "1. Definir función Principal\n",
      "2. Definir función Cuadrado\n",
      "3. Definir función Cubo\n",
      "4. Llamar función Principal\n",
      "5 (25, 125)\n"
     ]
    }
   ],
   "source": [
    "print (\"Ejemplo 11\")\n",
    "print (\"1. Definir función Principal\")\n",
    "def principal(numero):\n",
    "    cuadrado = cuadrado_numero(numero)\n",
    "    cubo = cubo_numero(numero)\n",
    "    return cuadrado, cubo\n",
    "\n",
    "print (\"2. Definir función Cuadrado\")\n",
    "def cuadrado_numero(numero):\n",
    "    return numero**2\n",
    "\n",
    "print (\"3. Definir función Cubo\")\n",
    "def cubo_numero(numero):\n",
    "    return numero**3\n",
    "\n",
    "print (\"4. Llamar función Principal\")\n",
    "numero = 5\n",
    "resultado = principal(numero)\n",
    "print (numero, resultado)"
   ]
  },
  {
   "cell_type": "markdown",
   "id": "1d2b7a4b",
   "metadata": {},
   "source": [
    "# Ejercicio 11, Crear funciones de limpieza de una cadena para obtener las letras y convertir todo en mayúsculas crea funciones de limpieza y función una principal"
   ]
  },
  {
   "cell_type": "code",
   "execution_count": 42,
   "id": "c159c602",
   "metadata": {},
   "outputs": [
    {
     "name": "stdout",
     "output_type": "stream",
     "text": [
      "Python es un lenguaje de programación 🎈. Feliz Aprendizaje el 2025\n",
      "PYTHONESUNLENGUAJEDEPROGRAMACIÓNFELIZAPRENDIZAJEEL\n"
     ]
    }
   ],
   "source": [
    "def limpiar_letras(cadena):\n",
    "    \"\"\"\n",
    "    Elimina los números de una cadena y espacios\n",
    "    \"\"\"\n",
    "    return \"\".join([letra for letra in cadena if letra.isalpha()])\n",
    "def limpiar_mayusculas(cadena):\n",
    "    \"\"\"\n",
    "    Convierte una cadena en mayúsculas\n",
    "    \"\"\"\n",
    "    return cadena.upper()\n",
    "\n",
    "def limpiar(cadena):\n",
    "    cadena = limpiar_letras(cadena)\n",
    "    cadena = limpiar_mayusculas(cadena)\n",
    "    return cadena\n",
    "\n",
    "cadena = \"Python es un lenguaje de programación 🎈. Feliz Aprendizaje el 2025\"\n",
    "resultado = limpiar(cadena)\n",
    "print (cadena)\n",
    "print (resultado)"
   ]
  },
  {
   "cell_type": "markdown",
   "id": "547e6375",
   "metadata": {},
   "source": [
    "# Funciones Recursivas"
   ]
  },
  {
   "cell_type": "markdown",
   "id": "314e62cb",
   "metadata": {},
   "source": [
    "# Estructura de una función recursiva"
   ]
  },
  {
   "cell_type": "code",
   "execution_count": 43,
   "id": "2ea65451",
   "metadata": {},
   "outputs": [],
   "source": [
    "def funcion_recursiva(valor):\n",
    "    if caso_base:\n",
    "        return valor\n",
    "    else:\n",
    "        return funcion_recursiva(valor)"
   ]
  },
  {
   "cell_type": "markdown",
   "id": "59684f83",
   "metadata": {},
   "source": [
    "# Ejemplo 12, Crear una función recursiva para obtener el 10 número par"
   ]
  },
  {
   "cell_type": "code",
   "execution_count": 44,
   "id": "bd395d42",
   "metadata": {},
   "outputs": [
    {
     "name": "stdout",
     "output_type": "stream",
     "text": [
      "Ejemplo 12\n",
      "1. Definir función\n",
      "2. Llamar función\n",
      "20\n"
     ]
    }
   ],
   "source": [
    "print (\"Ejemplo 12\")\n",
    "print (\"1. Definir función\")\n",
    "def numero_par(numero):\n",
    "    if numero == 0:\n",
    "        return 0\n",
    "    else:\n",
    "        return numero_par(numero-1) + 2\n",
    "\n",
    "print (\"2. Llamar función\")\n",
    "resultado = numero_par(10)\n",
    "print (resultado)"
   ]
  },
  {
   "cell_type": "markdown",
   "id": "d782b985",
   "metadata": {},
   "source": [
    "# Ejercicio 12, Crear una función recursiva para obtener el factorial de un número"
   ]
  },
  {
   "cell_type": "code",
   "execution_count": 45,
   "id": "5b85232e",
   "metadata": {},
   "outputs": [
    {
     "name": "stdout",
     "output_type": "stream",
     "text": [
      "120\n"
     ]
    }
   ],
   "source": [
    "def factorial(numero):\n",
    "    if numero == 0:\n",
    "        return 1\n",
    "    else:\n",
    "        return numero*factorial(numero-1)\n",
    "\n",
    "resultado = factorial(5)\n",
    "print (resultado)"
   ]
  },
  {
   "cell_type": "markdown",
   "id": "f1528301",
   "metadata": {},
   "source": [
    "# Funciones anónimas o lambda"
   ]
  },
  {
   "cell_type": "code",
   "execution_count": 46,
   "id": "646f6703",
   "metadata": {},
   "outputs": [
    {
     "data": {
      "text/plain": [
       "<function __main__.<lambda>(argumento)>"
      ]
     },
     "execution_count": 46,
     "metadata": {},
     "output_type": "execute_result"
    }
   ],
   "source": [
    "lambda argumento: expresión"
   ]
  },
  {
   "cell_type": "markdown",
   "id": "d598d61b",
   "metadata": {},
   "source": [
    "# Ejemplo 13, Crear una función anónima para obtener el cuadrado de un número"
   ]
  },
  {
   "cell_type": "code",
   "execution_count": 47,
   "id": "06cdd6ec",
   "metadata": {},
   "outputs": [
    {
     "name": "stdout",
     "output_type": "stream",
     "text": [
      "Ejemplo 13\n",
      "25\n",
      "100\n"
     ]
    }
   ],
   "source": [
    "print (\"Ejemplo 13\")\n",
    "cuadrado = lambda numero: numero**2\n",
    "resultado = cuadrado(5)\n",
    "print (resultado)\n",
    "resultado = cuadrado(10)\n",
    "print (resultado)"
   ]
  },
  {
   "cell_type": "markdown",
   "id": "0809666f",
   "metadata": {},
   "source": [
    "# Ejercicio 13, Crear una función anónima para obtener de una cadena las letras solo los alfanuméricos y convertir en mayúsculas"
   ]
  },
  {
   "cell_type": "code",
   "execution_count": 48,
   "id": "cc5ff0e5",
   "metadata": {},
   "outputs": [
    {
     "name": "stdout",
     "output_type": "stream",
     "text": [
      "Python es un lenguaje de programación\n",
      "PYTHONESUNLENGUAJEDEPROGRAMACIÓN\n"
     ]
    }
   ],
   "source": [
    "cadena = \"Python es un lenguaje de programación\"\n",
    "limpiar = lambda cadena: \"\".join([letra for letra in cadena if letra.isalnum()]).upper()\n",
    "resultado = limpiar(cadena)\n",
    "print (cadena)\n",
    "print (resultado)"
   ]
  }
 ],
 "metadata": {
  "kernelspec": {
   "display_name": "Python 3",
   "language": "python",
   "name": "python3"
  },
  "language_info": {
   "codemirror_mode": {
    "name": "ipython",
    "version": 3
   },
   "file_extension": ".py",
   "mimetype": "text/x-python",
   "name": "python",
   "nbconvert_exporter": "python",
   "pygments_lexer": "ipython3",
   "version": "3.12.6"
  }
 },
 "nbformat": 4,
 "nbformat_minor": 5
}
